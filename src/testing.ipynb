{
 "cells": [
  {
   "cell_type": "code",
   "execution_count": null,
   "metadata": {},
   "outputs": [
    {
     "name": "stderr",
     "output_type": "stream",
     "text": [
      "2024-10-08 11:00:51,869 [WARNING] DICOM-SEG does not specify \"(0062, 0013) SegmentsOverlap\", assuming UNDEFINED and checking pixels\n"
     ]
    }
   ],
   "source": [
    "import numpy as np\n",
    "import pydicom\n",
    "import pydicom_seg\n",
    "import nibabel as nib\n",
    "dcm = pydicom.dcmread('./SEG_20240507_121615_030_S6.dcm')\n",
    "\n",
    "\n",
    "reader = pydicom_seg.MultiClassReader()\n",
    "result = reader.read(dcm)\n",
    "\n",
    "image_data = result.data  # directly available\n",
    "image = result.dataset  # lazy construction\n",
    "\n",
    "\n",
    "total_slices = len(image.ReferencedSeriesSequence[0].ReferencedInstanceSequence)\n",
    "slice_positions = [x.FrameContentSequence[0].DimensionIndexValues[1] for x in image.PerFrameFunctionalGroupsSequence]\n",
    "\n",
    "nii_arr = np.zeros((image_data.shape[1], image_data.shape[2], total_slices))\n",
    "for i, slice in enumerate(image_data):\n",
    "    nii_arr[:, :, slice_positions[i]] = slice\n",
    "\n",
    "nib.save(nib.Nifti1Image(nii_arr, np.eye(4)), 'seg.nii')"
   ]
  },
  {
   "cell_type": "code",
   "execution_count": 11,
   "metadata": {},
   "outputs": [
    {
     "data": {
      "text/plain": [
       "<nibabel.nifti1.Nifti1Header at 0x11f8de8c0>"
      ]
     },
     "execution_count": 11,
     "metadata": {},
     "output_type": "execute_result"
    }
   ],
   "source": [
    "nib.load('input_Ax_T2_FLAIR_20120920000000_6.nii').header"
   ]
  },
  {
   "cell_type": "code",
   "execution_count": 12,
   "metadata": {},
   "outputs": [
    {
     "data": {
      "text/plain": [
       "[6, 7, 8, 9, 10, 11, 12, 13, 14, 15, 16, 17]"
      ]
     },
     "execution_count": 12,
     "metadata": {},
     "output_type": "execute_result"
    }
   ],
   "source": [
    "slice_positions = [x.FrameContentSequence[0].DimensionIndexValues[1] for x in image.PerFrameFunctionalGroupsSequence]\n",
    "slice_positions"
   ]
  },
  {
   "cell_type": "code",
   "execution_count": 1,
   "metadata": {},
   "outputs": [
    {
     "ename": "FileNotFoundError",
     "evalue": "[Errno 2] No such file or directory: './SEG_20240507_121548_916_S9.dcm'",
     "output_type": "error",
     "traceback": [
      "\u001b[0;31m---------------------------------------------------------------------------\u001b[0m",
      "\u001b[0;31mFileNotFoundError\u001b[0m                         Traceback (most recent call last)",
      "Cell \u001b[0;32mIn[1], line 2\u001b[0m\n\u001b[1;32m      1\u001b[0m \u001b[38;5;28;01mimport\u001b[39;00m\u001b[38;5;250m \u001b[39m\u001b[38;5;21;01mpydicom\u001b[39;00m\n\u001b[0;32m----> 2\u001b[0m dcm \u001b[38;5;241m=\u001b[39m \u001b[43mpydicom\u001b[49m\u001b[38;5;241;43m.\u001b[39;49m\u001b[43mdcmread\u001b[49m\u001b[43m(\u001b[49m\u001b[38;5;124;43m'\u001b[39;49m\u001b[38;5;124;43m./SEG_20240507_121548_916_S9.dcm\u001b[39;49m\u001b[38;5;124;43m'\u001b[39;49m\u001b[43m)\u001b[49m\n\u001b[1;32m      3\u001b[0m dcm\n",
      "File \u001b[0;32m~/Code/dcmseg2nii/.venv/lib/python3.12/site-packages/pydicom/filereader.py:1042\u001b[0m, in \u001b[0;36mdcmread\u001b[0;34m(fp, defer_size, stop_before_pixels, force, specific_tags)\u001b[0m\n\u001b[1;32m   1040\u001b[0m     caller_owns_file \u001b[38;5;241m=\u001b[39m \u001b[38;5;28;01mFalse\u001b[39;00m\n\u001b[1;32m   1041\u001b[0m     logger\u001b[38;5;241m.\u001b[39mdebug(\u001b[38;5;124mf\u001b[39m\u001b[38;5;124m\"\u001b[39m\u001b[38;5;124mReading file \u001b[39m\u001b[38;5;124m'\u001b[39m\u001b[38;5;132;01m{\u001b[39;00mfp\u001b[38;5;132;01m}\u001b[39;00m\u001b[38;5;124m'\u001b[39m\u001b[38;5;124m\"\u001b[39m)\n\u001b[0;32m-> 1042\u001b[0m     fp \u001b[38;5;241m=\u001b[39m \u001b[38;5;28;43mopen\u001b[39;49m\u001b[43m(\u001b[49m\u001b[43mfp\u001b[49m\u001b[43m,\u001b[49m\u001b[43m \u001b[49m\u001b[38;5;124;43m\"\u001b[39;49m\u001b[38;5;124;43mrb\u001b[39;49m\u001b[38;5;124;43m\"\u001b[39;49m\u001b[43m)\u001b[49m\n\u001b[1;32m   1043\u001b[0m \u001b[38;5;28;01melif\u001b[39;00m (\n\u001b[1;32m   1044\u001b[0m     fp \u001b[38;5;129;01mis\u001b[39;00m \u001b[38;5;28;01mNone\u001b[39;00m\n\u001b[1;32m   1045\u001b[0m     \u001b[38;5;129;01mor\u001b[39;00m \u001b[38;5;129;01mnot\u001b[39;00m \u001b[38;5;28mhasattr\u001b[39m(fp, \u001b[38;5;124m\"\u001b[39m\u001b[38;5;124mread\u001b[39m\u001b[38;5;124m\"\u001b[39m)\n\u001b[1;32m   1046\u001b[0m     \u001b[38;5;129;01mor\u001b[39;00m \u001b[38;5;129;01mnot\u001b[39;00m \u001b[38;5;28mhasattr\u001b[39m(fp, \u001b[38;5;124m\"\u001b[39m\u001b[38;5;124mseek\u001b[39m\u001b[38;5;124m\"\u001b[39m)\n\u001b[1;32m   1047\u001b[0m     \u001b[38;5;129;01mor\u001b[39;00m \u001b[38;5;129;01mnot\u001b[39;00m \u001b[38;5;28mhasattr\u001b[39m(fp, \u001b[38;5;124m\"\u001b[39m\u001b[38;5;124mtell\u001b[39m\u001b[38;5;124m\"\u001b[39m)\n\u001b[1;32m   1048\u001b[0m ):\n\u001b[1;32m   1049\u001b[0m     \u001b[38;5;28;01mraise\u001b[39;00m \u001b[38;5;167;01mTypeError\u001b[39;00m(\n\u001b[1;32m   1050\u001b[0m         \u001b[38;5;124m\"\u001b[39m\u001b[38;5;124mdcmread: Expected a file path, file-like or readable buffer, \u001b[39m\u001b[38;5;124m\"\u001b[39m\n\u001b[1;32m   1051\u001b[0m         \u001b[38;5;124mf\u001b[39m\u001b[38;5;124m\"\u001b[39m\u001b[38;5;124mbut got \u001b[39m\u001b[38;5;132;01m{\u001b[39;00m\u001b[38;5;28mtype\u001b[39m(fp)\u001b[38;5;241m.\u001b[39m\u001b[38;5;18m__name__\u001b[39m\u001b[38;5;132;01m}\u001b[39;00m\u001b[38;5;124m\"\u001b[39m\n\u001b[1;32m   1052\u001b[0m     )\n",
      "\u001b[0;31mFileNotFoundError\u001b[0m: [Errno 2] No such file or directory: './SEG_20240507_121548_916_S9.dcm'"
     ]
    }
   ],
   "source": [
    "import pydicom\n",
    "dcm = pydicom.dcmread('./SEG_20240507_121548_916_S9.dcm')\n",
    "dcm"
   ]
  },
  {
   "cell_type": "code",
   "execution_count": 1,
   "metadata": {},
   "outputs": [
    {
     "name": "stdout",
     "output_type": "stream",
     "text": [
      "Number of segments: 1\n",
      "['in/AXIAL_T2_FLAIR_Edema.nii.gz']\n",
      "Number of segments: 2\n",
      "['in/Ax_T1_SE_+C_Mass.nii.gz', 'in/Ax_T1_SE_+C_Necrosis.nii.gz']\n"
     ]
    }
   ],
   "source": [
    "from dcmseg2nii import main\n",
    "print(main('in/SEG_20240507_121615_030_S6.dcm', 'AXIAL_T2_FLAIR.nii.gz', 'in/'))\n",
    "print(main('in/SEG_20240507_121548_916_S9.dcm', 'Ax_T1_SE_+C.nii.gz', 'in/'))"
   ]
  },
  {
   "cell_type": "code",
   "execution_count": 2,
   "metadata": {},
   "outputs": [
    {
     "data": {
      "text/plain": [
       "('R', 'P', 'S')"
      ]
     },
     "execution_count": 2,
     "metadata": {},
     "output_type": "execute_result"
    }
   ],
   "source": [
    "import nibabel as nib\n",
    "import SimpleITK as sitk\n",
    "image = nib.load('Ax_T1_SE_+C.nii.gz')\n",
    "image = sitk.ReadImage('Ax_T1_SE_+C.nii.gz')\n",
    "import numpy as np\n",
    "def get_affine_from_sitk(image) -> np.ndarray:\n",
    "    \"\"\"Extract affine matrix from SimpleITK image.\"\"\"\n",
    "    \n",
    "    # Get components\n",
    "    direction = image.GetDirection()\n",
    "    origin = image.GetOrigin()\n",
    "    spacing = image.GetSpacing()\n",
    "    \n",
    "    # Reshape direction to 3x3 matrix\n",
    "    direction_matrix = np.array(direction).reshape(3,3)\n",
    "    \n",
    "    # Create affine matrix\n",
    "    affine = np.eye(4)\n",
    "    \n",
    "    # Fill rotation and spacing\n",
    "    for i in range(3):\n",
    "        for j in range(3):\n",
    "            affine[i,j] = direction_matrix[i,j] * spacing[j]\n",
    "    \n",
    "    # Fill translation\n",
    "    affine[:3,3] = origin\n",
    "    \n",
    "    return affine\n",
    "nib.aff2axcodes(get_affine_from_sitk(image))"
   ]
  },
  {
   "cell_type": "code",
   "execution_count": null,
   "metadata": {},
   "outputs": [
    {
     "name": "stderr",
     "output_type": "stream",
     "text": [
      "[WARNING] Cannot find matching class for fs:asegRegionAnalysis\n",
      "2025-02-07 12:40:21,665 [WARNING] Cannot find matching class for fs:asegRegionAnalysis\n",
      "[WARNING] Cannot find matching class for fs:automaticSegmentationData\n",
      "2025-02-07 12:40:21,874 [WARNING] Cannot find matching class for fs:automaticSegmentationData\n",
      "[WARNING] Cannot find matching class for fs:aparcRegionAnalysis\n",
      "2025-02-07 12:40:21,875 [WARNING] Cannot find matching class for fs:aparcRegionAnalysis\n",
      "[WARNING] Cannot find matching class for fs:longFSData\n",
      "2025-02-07 12:40:21,876 [WARNING] Cannot find matching class for fs:longFSData\n",
      "[WARNING] Cannot find matching class for fs:fsData\n",
      "2025-02-07 12:40:22,017 [WARNING] Cannot find matching class for fs:fsData\n"
     ]
    },
    {
     "name": "stdout",
     "output_type": "stream",
     "text": [
      "Subject: 101\n",
      "  Experiment: 101_20100827_mr\n",
      "  Experiment: 101_20101020_mr\n",
      "  Experiment: 101_20080705_ct\n",
      "  Experiment: 101_20081218_mr\n",
      "  Experiment: 101_20091111_mr\n",
      "  Experiment: 101_20100129_mr\n",
      "  Experiment: 101_20090508_mr\n",
      "  Experiment: 101_20090904_mr\n",
      "  Experiment: 101_20101006_mr\n",
      "  Experiment: 101_20080801_mr\n",
      "  Experiment: 101_20100716_mr\n",
      "  Experiment: 101_20090401_mr\n",
      "  Experiment: 101_20100507_mr\n",
      "  Experiment: 101_20100604_mr\n",
      "  Experiment: 101_20081022_mr\n",
      "  Experiment: 101_20100327_mr\n",
      "  Experiment: 101_20080626_ct\n",
      "  Experiment: 101_20090703_mr\n",
      "  Experiment: 101_20080627_mr\n",
      "  Experiment: 101_20080626_mr\n",
      "  Experiment: 101_20090130_mr\n",
      "Subject: 102\n",
      "  Experiment: 102_20090430_mr\n",
      "  Experiment: 102_20110225_mr\n",
      "  Experiment: 102_20100505_mr\n",
      "  Experiment: 102_20080822_mr\n",
      "  Experiment: 102_20090218_mr\n",
      "  Experiment: 102_20110224_ct\n",
      "  Experiment: 102_20080816_mr\n",
      "  Experiment: 102_20080620_mr\n",
      "  Experiment: 102_20090701_mr\n",
      "  Experiment: 102_20090826_mr\n",
      "  Experiment: 102_20080619_mr\n",
      "  Experiment: 102_20101007_mr\n",
      "  Experiment: 102_20100707_mr\n",
      "  Experiment: 102_20091118_mr\n",
      "  Experiment: 102_20091008_mr\n",
      "  Experiment: 102_20110106_mr\n",
      "  Experiment: 102_20080628_mr\n",
      "  Experiment: 102_20100113_mr\n",
      "  Experiment: 102_20080923_mr\n",
      "  Experiment: 102_20100310_mr\n",
      "  Experiment: 102_20080725_mr\n",
      "  Experiment: 102_20090122_mr\n",
      "  Experiment: 102_20080627_mr\n",
      "  Experiment: 102_20080701_ct\n",
      "  Experiment: 102_20080627_ct\n",
      "  Experiment: 102_20080626_mr\n",
      "  Experiment: 102_20081009_mr\n",
      "  Experiment: 102_20081126_mr\n",
      "Subject: 103\n",
      "  Experiment: 103_20110812_mr\n",
      "  Experiment: 103_20110812_ct\n",
      "Subject: 106\n",
      "  Experiment: 106_20110924_mr\n",
      "  Experiment: 106_20120324_mr\n",
      "  Experiment: 106_20110827_mr\n",
      "  Experiment: 106_20101030_mr\n",
      "  Experiment: 106_20110625_mr\n",
      "  Experiment: 106_20110924_ct\n",
      "  Experiment: 106_20110217_mr\n",
      "  Experiment: 106_20100716_mr\n",
      "  Experiment: 106_20100311_mr\n",
      "  Experiment: 106_20101230_mr\n",
      "  Experiment: 106_20111022_mr\n",
      "  Experiment: 106_20070912_mr\n",
      "  Experiment: 106_20110430_mr\n",
      "  Experiment: 106_20120114_mr\n",
      "  Experiment: 106_20100512_mr\n",
      "  Experiment: 106_20060620_ct\n",
      "  Experiment: 106_20120210_mr\n",
      "  Experiment: 106_20091010_mr\n",
      "  Experiment: 106_20100918_mr\n",
      "  Experiment: 106_20090922_mr\n",
      "  Experiment: 106_20081008_mr\n",
      "  Experiment: 106_20111203_mr\n",
      "  Experiment: 106_20100609_mr\n",
      "Subject: 107\n",
      "  Experiment: 107_20120510_mr\n",
      "  Experiment: 107_20120920_mr\n",
      "    Found DICOM SEG Resource in Scan SEG_20240507_121548_916_S9\n",
      "      Processing SEG_20240507_121548_916_S9.dcm...\n"
     ]
    },
    {
     "name": "stderr",
     "output_type": "stream",
     "text": [
      "  0% of 265.2 KiB |                                  |   0.0 s/B ETA:  --:--:--\n",
      "100% of 265.2 KiB |################################|   3.3 MiB/s ETA:  00:00:00\n",
      "100% of 265.2 KiB |################################|   3.3 MiB/s Time:  0:00:00\n",
      "2025-02-07 12:40:48,816 [INFO] Extracting Series Instance UID from /var/folders/rc/rclfvgm135q8nz2l8y8dq38h0000gq/T/tmpkssfkshv.dcm...\n",
      "2025-02-07 12:40:48,819 [INFO] Extracted Series Instance UID: 2.25.295010520663807987161795204319385482851\n",
      "2025-02-07 12:40:48,820 [INFO] Searching for Series Instance UID: 2.25.295010520663807987161795204319385482851 in experiment: 107_20120920_mr...\n"
     ]
    },
    {
     "name": "stdout",
     "output_type": "stream",
     "text": [
      "        Downloaded SEG_20240507_121548_916_S9.dcm to temporary file.\n"
     ]
    },
    {
     "name": "stderr",
     "output_type": "stream",
     "text": [
      "2025-02-07 12:40:49,230 [INFO] Found Series Name: Ax_T1_SE_+C for Series UID: 2.25.295010520663807987161795204319385482851\n"
     ]
    },
    {
     "name": "stdout",
     "output_type": "stream",
     "text": [
      "/Volumes/Siren/Brain_data/1.PatientDirectory/107/MRI/Processed_New/\n",
      "Number of segments: 2\n",
      "        Removed temporary file /var/folders/rc/rclfvgm135q8nz2l8y8dq38h0000gq/T/tmpkssfkshv.dcm\n",
      "    Found DICOM SEG Resource in Scan SEG_20240507_121615_030_S6\n",
      "      Processing SEG_20240507_121615_030_S6.dcm...\n"
     ]
    },
    {
     "name": "stderr",
     "output_type": "stream",
     "text": [
      "  0% of 395.1 KiB |                                  |   0.0 s/B ETA:  --:--:--\n",
      "100% of 395.1 KiB |################################|   4.2 MiB/s ETA:  00:00:00\n",
      "100% of 395.1 KiB |################################|   4.2 MiB/s Time:  0:00:00\n",
      "2025-02-07 12:41:01,509 [INFO] Extracting Series Instance UID from /var/folders/rc/rclfvgm135q8nz2l8y8dq38h0000gq/T/tmpt4k2ygo2.dcm...\n",
      "2025-02-07 12:41:01,515 [INFO] Extracted Series Instance UID: 2.25.32829285079668702934096274089603985202\n",
      "2025-02-07 12:41:01,516 [INFO] Searching for Series Instance UID: 2.25.32829285079668702934096274089603985202 in experiment: 107_20120920_mr...\n",
      "2025-02-07 12:41:01,516 [INFO] Found Series Name: Ax_T2_FLAIR for Series UID: 2.25.32829285079668702934096274089603985202\n"
     ]
    },
    {
     "name": "stdout",
     "output_type": "stream",
     "text": [
      "        Downloaded SEG_20240507_121615_030_S6.dcm to temporary file.\n",
      "/Volumes/Siren/Brain_data/1.PatientDirectory/107/MRI/Processed_New/\n",
      "Number of segments: 1\n",
      "        Removed temporary file /var/folders/rc/rclfvgm135q8nz2l8y8dq38h0000gq/T/tmpt4k2ygo2.dcm\n",
      "  Experiment: 107_20111204_mr\n",
      "  Experiment: 107_20120310_mr\n",
      "  Experiment: 107_20120914_ct\n",
      "  Experiment: 107_20120823_mr\n",
      "  Experiment: 107_20120714_mr\n",
      "  Experiment: 107_20120731_mr\n",
      "  Experiment: 107_20120310_ct\n",
      "  Experiment: 107_20120728_ct\n",
      "  Experiment: 107_20111206_ct\n",
      "  Experiment: 107_20120607_mr\n",
      "  Experiment: 107_20111207_mr\n",
      "  Experiment: 107_20120607_ct\n",
      "  Experiment: 107_20111227_mr\n",
      "  Experiment: 107_20120731_ct\n",
      "Subject: 109\n",
      "  Experiment: 109_20120905_mr\n",
      "  Experiment: 109_20130306_mr\n",
      "    Found DICOM SEG Resource in Scan SEG_20240507_112950_190_S12\n",
      "      Processing SEG_20240507_112950_190_S12.dcm...\n"
     ]
    },
    {
     "name": "stderr",
     "output_type": "stream",
     "text": [
      "  0% of 395.5 KiB |                                  |   0.0 s/B ETA:  --:--:--\n",
      "100% of 395.5 KiB |################################|   4.3 MiB/s ETA:  00:00:00\n",
      "100% of 395.5 KiB |################################|   4.3 MiB/s Time:  0:00:00\n",
      "2025-02-07 12:41:16,779 [INFO] Extracting Series Instance UID from /var/folders/rc/rclfvgm135q8nz2l8y8dq38h0000gq/T/tmp5o8paunf.dcm...\n",
      "2025-02-07 12:41:16,783 [INFO] Extracted Series Instance UID: 2.25.286123488765593930340660848480068961756\n",
      "2025-02-07 12:41:16,783 [INFO] Searching for Series Instance UID: 2.25.286123488765593930340660848480068961756 in experiment: 109_20130306_mr...\n"
     ]
    },
    {
     "name": "stdout",
     "output_type": "stream",
     "text": [
      "        Downloaded SEG_20240507_112950_190_S12.dcm to temporary file.\n"
     ]
    },
    {
     "name": "stderr",
     "output_type": "stream",
     "text": [
      "2025-02-07 12:41:17,090 [INFO] Found Series Name: Ax_T1_SE_+C for Series UID: 2.25.286123488765593930340660848480068961756\n"
     ]
    },
    {
     "name": "stdout",
     "output_type": "stream",
     "text": [
      "/Volumes/Siren/Brain_data/1.PatientDirectory/109/MRI/Processed_New/\n",
      "Number of segments: 2\n",
      "        Removed temporary file /var/folders/rc/rclfvgm135q8nz2l8y8dq38h0000gq/T/tmp5o8paunf.dcm\n",
      "    Found DICOM SEG Resource in Scan SEG_20240507_114819_911_S6\n",
      "      Processing SEG_20240507_114819_911_S6.dcm...\n"
     ]
    },
    {
     "name": "stderr",
     "output_type": "stream",
     "text": [
      "  0% of 492.9 KiB |                                  |   0.0 s/B ETA:  --:--:--\n",
      "100% of 492.9 KiB |################################|   5.0 MiB/s ETA:  00:00:00\n",
      "100% of 492.9 KiB |################################|   5.0 MiB/s Time:  0:00:00\n",
      "2025-02-07 12:41:29,589 [INFO] Extracting Series Instance UID from /var/folders/rc/rclfvgm135q8nz2l8y8dq38h0000gq/T/tmp8_r6n7j1.dcm...\n",
      "2025-02-07 12:41:29,595 [INFO] Extracted Series Instance UID: 2.25.196635258286772547907731716167434727423\n",
      "2025-02-07 12:41:29,596 [INFO] Searching for Series Instance UID: 2.25.196635258286772547907731716167434727423 in experiment: 109_20130306_mr...\n",
      "2025-02-07 12:41:29,596 [INFO] Found Series Name: Ax_T2_FLAIR for Series UID: 2.25.196635258286772547907731716167434727423\n"
     ]
    },
    {
     "name": "stdout",
     "output_type": "stream",
     "text": [
      "        Downloaded SEG_20240507_114819_911_S6.dcm to temporary file.\n",
      "/Volumes/Siren/Brain_data/1.PatientDirectory/109/MRI/Processed_New/\n",
      "Number of segments: 1\n",
      "        Removed temporary file /var/folders/rc/rclfvgm135q8nz2l8y8dq38h0000gq/T/tmp8_r6n7j1.dcm\n",
      "  Experiment: 109_20111201_mr\n",
      "  Experiment: 109_20111101_mr\n",
      "  Experiment: 109_20110429_mr\n",
      "  Experiment: 109_20111021_mr\n",
      "  Experiment: 109_20120516_mr\n",
      "  Experiment: 109_20110902_mr\n",
      "  Experiment: 109_20130122_mr\n",
      "  Experiment: 109_20101026_mr\n",
      "  Experiment: 109_20120615_mr\n",
      "  Experiment: 109_20110305_mr\n",
      "  Experiment: 109_20111102_mr\n",
      "  Experiment: 109_20121212_mr\n",
      "  Experiment: 109_20121031_mr\n",
      "  Experiment: 109_20120112_mr\n",
      "  Experiment: 109_20111101_ct\n",
      "  Experiment: 109_20120222_mr\n",
      "  Experiment: 109_20100929_ct\n",
      "  Experiment: 109_20101003_ct\n",
      "  Experiment: 109_20110930_ct\n",
      "  Experiment: 109_20121107_mr\n",
      "  Experiment: 109_20101009_mr\n",
      "  Experiment: 109_20110104_mr\n",
      "  Experiment: 109_20110930_pt\n",
      "  Experiment: 109_20100930_mr\n",
      "  Experiment: 109_20110707_mr\n",
      "  Experiment: 109_20120404_mr\n",
      "Subject: 110\n",
      "  Experiment: 110_20100421_mr\n",
      "  Experiment: 110_20060906_mr\n",
      "  Experiment: 110_20110923_mr\n",
      "  Experiment: 110_20051115_mr\n",
      "  Experiment: 110_20050531_mr\n",
      "  Experiment: 110_20050315_mr\n",
      "  Experiment: 110_20091201_mr\n",
      "  Experiment: 110_20060125_mr\n",
      "  Experiment: 110_20040123_mr\n",
      "  Experiment: 110_20091125_mr\n",
      "  Experiment: 110_20120222_mr\n",
      "  Experiment: 110_20050720_ct\n",
      "  Experiment: 110_20080529_mr\n",
      "  Experiment: 110_20050514_mr\n",
      "  Experiment: 110_20050628_mr\n",
      "  Experiment: 110_20101124_mr\n",
      "  Experiment: 110_20060531_mr\n",
      "  Experiment: 110_20090528_mr\n",
      "  Experiment: 110_20040810_mr\n",
      "  Experiment: 110_20050215_mr\n",
      "  Experiment: 110_20021116_mr\n",
      "  Experiment: 110_20100120_mr\n",
      "  Experiment: 110_20110511_mr\n",
      "  Experiment: 110_20050817_mr\n",
      "  Experiment: 110_20040917_mr\n",
      "  Experiment: 110_20100915_mr\n",
      "  Experiment: 110_20050311_pt\n",
      "  Experiment: 110_20111130_mr\n",
      "  Experiment: 110_20071205_mr\n",
      "  Experiment: 110_20120620_mr\n",
      "  Experiment: 110_20000513_mr\n",
      "  Experiment: 110_20070509_mr\n",
      "  Experiment: 110_20111210_mr\n",
      "  Experiment: 110_20110302_mr\n",
      "  Experiment: 110_20100702_mr\n",
      "  Experiment: 110_20120516_mr\n",
      "  Experiment: 110_20051019_mr\n",
      "  Experiment: 110_20050531_ct\n",
      "  Experiment: 110_20070110_mr\n",
      "  Experiment: 110_20081127_mr\n",
      "  Experiment: 110_20110720_mr\n",
      "  Experiment: 110_20120727_mr\n",
      "Subject: 111\n",
      "  Experiment: 111_20130302_mr\n",
      "  Experiment: 111_20120307_mr\n",
      "  Experiment: 111_20110709_mr\n",
      "  Experiment: 111_20130205_ct\n",
      "  Experiment: 111_20130227_ct\n",
      "  Experiment: 111_20110729_mr\n",
      "  Experiment: 111_20111221_mr\n",
      "  Experiment: 111_20120411_mr\n",
      "  Experiment: 111_20121107_mr\n",
      "  Experiment: 111_20110708_ct\n",
      "  Experiment: 111_20110707_mr\n",
      "  Experiment: 111_20110703_mr\n",
      "  Experiment: 111_20130406_mr\n",
      "  Experiment: 111_20130410_mr\n",
      "    Found DICOM SEG Resource in Scan SEG_20240507_111408_589_S6\n",
      "      Processing SEG_20240507_111408_589_S6.dcm...\n"
     ]
    },
    {
     "name": "stderr",
     "output_type": "stream",
     "text": [
      "  0% of 492.7 KiB |                                  |   0.0 s/B ETA:  --:--:--\n",
      "100% of 492.7 KiB |################################|   4.9 MiB/s ETA:  00:00:00\n",
      "100% of 492.7 KiB |################################|   4.8 MiB/s Time:  0:00:00\n",
      "2025-02-07 12:41:59,084 [INFO] Extracting Series Instance UID from /var/folders/rc/rclfvgm135q8nz2l8y8dq38h0000gq/T/tmp0j5r8r29.dcm...\n",
      "2025-02-07 12:41:59,089 [INFO] Extracted Series Instance UID: 2.25.331056640810471303418302079579940367725\n",
      "2025-02-07 12:41:59,090 [INFO] Searching for Series Instance UID: 2.25.331056640810471303418302079579940367725 in experiment: 111_20130410_mr...\n"
     ]
    },
    {
     "name": "stdout",
     "output_type": "stream",
     "text": [
      "        Downloaded SEG_20240507_111408_589_S6.dcm to temporary file.\n"
     ]
    },
    {
     "name": "stderr",
     "output_type": "stream",
     "text": [
      "2025-02-07 12:41:59,299 [INFO] Found Series Name: Ax_T2_FLAIR for Series UID: 2.25.331056640810471303418302079579940367725\n"
     ]
    },
    {
     "name": "stdout",
     "output_type": "stream",
     "text": [
      "/Volumes/Siren/Brain_data/1.PatientDirectory/111/MRI/Processed_New/\n",
      "Number of segments: 1\n",
      "        Removed temporary file /var/folders/rc/rclfvgm135q8nz2l8y8dq38h0000gq/T/tmp0j5r8r29.dcm\n",
      "    Found DICOM SEG Resource in Scan SEG_20240507_111705_848_S9\n",
      "      Processing SEG_20240507_111705_848_S9.dcm...\n"
     ]
    },
    {
     "name": "stderr",
     "output_type": "stream",
     "text": [
      "  0% of 102.3 KiB |                                  |   0.0 s/B ETA:  --:--:--\n",
      "100% of 102.3 KiB |################################|   1.8 MiB/s ETA:  00:00:00\n",
      "100% of 102.3 KiB |################################|   1.7 MiB/s Time:  0:00:00\n",
      "2025-02-07 12:42:11,615 [INFO] Extracting Series Instance UID from /var/folders/rc/rclfvgm135q8nz2l8y8dq38h0000gq/T/tmpprix4i9a.dcm...\n",
      "2025-02-07 12:42:11,619 [INFO] Extracted Series Instance UID: 2.25.74952647063436535341384718271153124175\n",
      "2025-02-07 12:42:11,620 [INFO] Searching for Series Instance UID: 2.25.74952647063436535341384718271153124175 in experiment: 111_20130410_mr...\n",
      "2025-02-07 12:42:11,758 [INFO] Found Series Name: Ax_T1_SE_+C for Series UID: 2.25.74952647063436535341384718271153124175\n"
     ]
    },
    {
     "name": "stdout",
     "output_type": "stream",
     "text": [
      "        Downloaded SEG_20240507_111705_848_S9.dcm to temporary file.\n",
      "/Volumes/Siren/Brain_data/1.PatientDirectory/111/MRI/Processed_New/\n",
      "Number of segments: 1\n",
      "        Removed temporary file /var/folders/rc/rclfvgm135q8nz2l8y8dq38h0000gq/T/tmpprix4i9a.dcm\n",
      "  Experiment: 111_20130207_mr\n",
      "  Experiment: 111_20120620_mr\n",
      "  Experiment: 111_20120829_mr\n",
      "  Experiment: 111_20130327_mr\n",
      "  Experiment: 111_20111026_mr\n",
      "  Experiment: 111_20130104_mr\n",
      "  Experiment: 111_20130205_mr\n",
      "  Experiment: 111_20130202_mr\n",
      "Subject: 112\n",
      "  Experiment: 112_20121205_mr\n",
      "  Experiment: 112_20130815_mr\n",
      "  Experiment: 112_20100116_ct\n",
      "  Experiment: 112_20121206_mr\n",
      "  Experiment: 112_20130928_ct\n",
      "  Experiment: 112_20100220_mr\n",
      "  Experiment: 112_20120418_mr\n",
      "Subject: 113\n",
      "  Experiment: 113_20090120_mr\n",
      "  Experiment: 113_20090611_mr\n",
      "  Experiment: 113_20080911_mr\n",
      "  Experiment: 113_20051019_mr\n",
      "  Experiment: 113_20060303_mr\n",
      "  Experiment: 113_20080130_mr\n",
      "  Experiment: 113_20101201_mr\n",
      "  Experiment: 113_20091105_mr\n",
      "  Experiment: 113_20050218_ct\n",
      "  Experiment: 113_20070829_mr\n",
      "  Experiment: 113_20050219_ct\n",
      "  Experiment: 113_20061011_mr\n",
      "  Experiment: 113_20121102_mr\n",
      "  Experiment: 113_20050630_mr\n",
      "  Experiment: 113_20080412_mr\n",
      "  Experiment: 113_20110512_mr\n",
      "  Experiment: 113_20070321_mr\n",
      "  Experiment: 113_20100206_mr\n",
      "  Experiment: 113_20061213_mr\n",
      "  Experiment: 113_20051229_mr\n",
      "  Experiment: 113_20050812_mr\n",
      "  Experiment: 113_20111102_mr\n",
      "  Experiment: 113_20100617_mr\n",
      "  Experiment: 113_20060707_mr\n",
      "Subject: 114\n",
      "  Experiment: 114_20060224_mr\n",
      "Subject: 116\n",
      "  Experiment: 116_20130312_mr\n",
      "  Experiment: 116_20130313_mr\n",
      "  Experiment: 116_20130312_ct\n",
      "  Experiment: 116_20130601_mr\n",
      "  Experiment: 116_20130601_ct\n",
      "  Experiment: 116_20130529_mr\n",
      "  Experiment: 116_20130530_mr\n",
      "Subject: 117\n",
      "  Experiment: 117_20130220_mr\n",
      "  Experiment: 117_20130823_mr\n",
      "  Experiment: 117_20131114_mr\n",
      "  Experiment: 117_20120811_mr\n",
      "  Experiment: 117_20120703_mr\n",
      "  Experiment: 117_20130711_mr\n",
      "  Experiment: 117_20131010_ct\n",
      "  Experiment: 117_20130530_mr\n",
      "  Experiment: 117_20121115_mr\n",
      "  Experiment: 117_20131009_ct\n",
      "  Experiment: 117_20090411_mr\n",
      "  Experiment: 117_20090519_mr\n",
      "  Experiment: 117_20120810_ct\n",
      "  Experiment: 117_20121219_mr\n",
      "  Experiment: 117_20120801_mr\n",
      "  Experiment: 117_20100430_mr\n",
      "  Experiment: 117_20120810_mr\n",
      "  Experiment: 117_20131010_mr\n",
      "  Experiment: 117_20130417_mr\n",
      "  Experiment: 117_20120523_mr\n",
      "Subject: 118\n",
      "  Experiment: 118_20130609_ct\n",
      "  Experiment: 118_20090901_ct\n",
      "  Experiment: 118_20130621_ct\n",
      "  Experiment: 118_20110414_mr\n",
      "  Experiment: 118_20130621_mr\n",
      "  Experiment: 118_20130727_ct\n",
      "  Experiment: 118_20131130_ct\n",
      "  Experiment: 118_20130722_ct\n",
      "  Experiment: 118_20121010_mr\n",
      "  Experiment: 118_20110212_mr\n",
      "  Experiment: 118_20130622_ct\n",
      "  Experiment: 118_20140117_mr\n",
      "  Experiment: 118_20110810_mr\n",
      "  Experiment: 118_20130724_ct\n",
      "  Experiment: 118_20090826_mr\n",
      "  Experiment: 118_20090821_mr\n",
      "  Experiment: 118_20101217_mr\n",
      "  Experiment: 118_20120907_mr\n",
      "  Experiment: 118_20090825_mr\n",
      "  Experiment: 118_20100818_mr\n",
      "  Experiment: 118_20120825_mr\n",
      "  Experiment: 118_20100612_mr\n",
      "  Experiment: 118_20130315_mr\n",
      "  Experiment: 118_20130716_ct\n",
      "  Experiment: 118_20130717_mr\n",
      "  Experiment: 118_20091216_mr\n",
      "  Experiment: 118_20121226_mr\n",
      "  Experiment: 118_20100416_mr\n",
      "  Experiment: 118_20110609_mr\n",
      "  Experiment: 118_20130723_ct\n",
      "  Experiment: 118_20090902_mr\n",
      "  Experiment: 118_20131201_mr\n",
      "  Experiment: 118_20091227_ct\n",
      "  Experiment: 118_20120511_mr\n",
      "  Experiment: 118_20101013_mr\n",
      "  Experiment: 118_20130516_mr\n",
      "  Experiment: 118_20130131_mr\n",
      "  Experiment: 118_20120211_mr\n",
      "  Experiment: 118_20130715_ct\n",
      "  Experiment: 118_20120906_mr\n",
      "  Experiment: 118_20090823_ct\n",
      "  Experiment: 118_20090901_mr\n",
      "  Experiment: 118_20130622_mr\n",
      "  Experiment: 118_20120906_ct\n",
      "  Experiment: 118_20130730_ct\n",
      "  Experiment: 118_20130530_mr\n",
      "  Experiment: 118_20090821_ct\n",
      "  Experiment: 118_20090820_ct\n",
      "  Experiment: 118_20111112_mr\n",
      "  Experiment: 118_20100219_mr\n",
      "  Experiment: 118_20131205_mr\n",
      "Subject: 120\n",
      "  Experiment: 120_20130524_mr\n",
      "  Experiment: 120_20140402_mr\n",
      "    Found DICOM SEG Resource in Scan SEG_20240507_094613_298_S12\n",
      "      Processing SEG_20240507_094613_298_S12.dcm...\n"
     ]
    },
    {
     "name": "stderr",
     "output_type": "stream",
     "text": [
      "  0% of 200.2 KiB |                                  |   0.0 s/B ETA:  --:--:--\n",
      "100% of 200.2 KiB |################################|   2.4 MiB/s ETA:  00:00:00\n",
      "100% of 200.2 KiB |################################|   2.4 MiB/s Time:  0:00:00\n",
      "2025-02-07 12:42:49,037 [INFO] Extracting Series Instance UID from /var/folders/rc/rclfvgm135q8nz2l8y8dq38h0000gq/T/tmpd7svua_l.dcm...\n",
      "2025-02-07 12:42:49,040 [INFO] Extracted Series Instance UID: 2.25.22866859743763391937869134715866893454\n",
      "2025-02-07 12:42:49,040 [INFO] Searching for Series Instance UID: 2.25.22866859743763391937869134715866893454 in experiment: 120_20140402_mr...\n"
     ]
    },
    {
     "name": "stdout",
     "output_type": "stream",
     "text": [
      "        Downloaded SEG_20240507_094613_298_S12.dcm to temporary file.\n"
     ]
    },
    {
     "name": "stderr",
     "output_type": "stream",
     "text": [
      "2025-02-07 12:42:49,456 [INFO] Found Series Name: Ax_T1_+C for Series UID: 2.25.22866859743763391937869134715866893454\n"
     ]
    },
    {
     "name": "stdout",
     "output_type": "stream",
     "text": [
      "/Volumes/Siren/Brain_data/1.PatientDirectory/120/MRI/Processed_New/\n",
      "    Found DICOM SEG Resource in Scan SEG_20240507_100600_717_S7\n",
      "      Processing SEG_20240507_100600_717_S7.dcm...\n"
     ]
    },
    {
     "name": "stderr",
     "output_type": "stream",
     "text": [
      "  0% of 525.6 KiB |                                  |   0.0 s/B ETA:  --:--:--\n",
      " 97% of 525.6 KiB |############################### |   5.5 MiB/s ETA:  00:00:00\n",
      "100% of 525.6 KiB |################################|   5.5 MiB/s Time:  0:00:00\n",
      "2025-02-07 12:42:59,192 [INFO] Extracting Series Instance UID from /var/folders/rc/rclfvgm135q8nz2l8y8dq38h0000gq/T/tmpjtruuyvt.dcm...\n",
      "2025-02-07 12:42:59,197 [INFO] Extracted Series Instance UID: 2.25.96927563485224299551436812742471478276\n",
      "2025-02-07 12:42:59,197 [INFO] Searching for Series Instance UID: 2.25.96927563485224299551436812742471478276 in experiment: 120_20140402_mr...\n",
      "2025-02-07 12:42:59,198 [INFO] Found Series Name: AX_T2_FLAIR for Series UID: 2.25.96927563485224299551436812742471478276\n"
     ]
    },
    {
     "name": "stdout",
     "output_type": "stream",
     "text": [
      "        Downloaded SEG_20240507_100600_717_S7.dcm to temporary file.\n",
      "/Volumes/Siren/Brain_data/1.PatientDirectory/120/MRI/Processed_New/\n",
      "  Experiment: 120_20120914_ct\n",
      "  Experiment: 120_20121229_mr\n",
      "  Experiment: 120_20130427_ct\n",
      "  Experiment: 120_20130704_mr\n",
      "  Experiment: 120_20120926_mr\n",
      "  Experiment: 120_20130927_mr\n",
      "  Experiment: 120_20120910_mr\n",
      "  Experiment: 120_20130815_mr\n",
      "  Experiment: 120_20130427_mr\n",
      "  Experiment: 120_20120915_mr\n",
      "  Experiment: 120_20130428_mr\n",
      "  Experiment: 120_20120913_mr\n",
      "  Experiment: 120_20130404_mr\n",
      "  Experiment: 120_20140219_mr\n",
      "  Experiment: 120_20140108_mr\n",
      "  Experiment: 120_20130221_mr\n",
      "Subject: 121\n",
      "  Experiment: 121_20080220_mr\n",
      "  Experiment: 121_20070823_mr\n",
      "  Experiment: 121_20100723_mr\n",
      "  Experiment: 121_20121102_mr\n",
      "  Experiment: 121_20131010_mr\n",
      "  Experiment: 121_20111229_mr\n",
      "  Experiment: 121_20131121_mr\n",
      "  Experiment: 121_20121128_mr\n",
      "  Experiment: 121_20050908_mr\n",
      "  Experiment: 121_20090227_mr\n",
      "  Experiment: 121_20060601_mr\n",
      "  Experiment: 121_20120901_mr\n",
      "  Experiment: 121_20140313_mr\n",
      "  Experiment: 121_20060202_mr\n",
      "  Experiment: 121_20050820_mr\n",
      "  Experiment: 121_20110408_mr\n",
      "  Experiment: 121_20120504_mr\n",
      "  Experiment: 121_20111102_mr\n",
      "  Experiment: 121_20050821_mr\n",
      "  Experiment: 121_20110409_mr\n",
      "  Experiment: 121_20110907_mr\n",
      "  Experiment: 121_20080515_mr\n",
      "  Experiment: 121_20060928_mr\n",
      "  Experiment: 121_20120629_mr\n",
      "  Experiment: 121_20061206_mr\n",
      "  Experiment: 121_20130829_mr\n",
      "  Experiment: 121_20070208_mr\n",
      "  Experiment: 121_20071121_mr\n",
      "  Experiment: 121_20120222_mr\n",
      "  Experiment: 121_20091225_mr\n",
      "  Experiment: 121_20130125_mr\n",
      "  Experiment: 121_20051208_mr\n",
      "  Experiment: 121_20070412_mr\n",
      "  Experiment: 121_20090626_mr\n",
      "  Experiment: 121_20130425_mr\n",
      "  Experiment: 121_20050820_ct\n",
      "  Experiment: 121_20110331_mr\n",
      "  Experiment: 121_20110408_ct\n",
      "  Experiment: 121_20050817_mr\n",
      "  Experiment: 121_20080813_mr\n",
      "  Experiment: 121_20050719_mr\n",
      "  Experiment: 121_20060330_mr\n",
      "  Experiment: 121_20140116_mr\n",
      "  Experiment: 121_20110209_mr\n",
      "  Experiment: 121_20050724_ct\n",
      "  Experiment: 121_20121005_mr\n",
      "  Experiment: 121_20110630_mr\n",
      "  Experiment: 121_20081121_mr\n",
      "  Experiment: 121_20050720_mr\n",
      "  Experiment: 121_20070621_mr\n",
      "  Experiment: 121_20060727_mr\n",
      "  Experiment: 121_20130718_mr\n",
      "  Experiment: 121_20130606_mr\n",
      "  Experiment: 121_20110602_mr\n",
      "  Experiment: 121_20050718_ct\n",
      "  Experiment: 121_20110701_ct\n",
      "  Experiment: 121_20050721_ct\n",
      "Subject: 122\n",
      "  Experiment: 122_20130619_mr\n",
      "  Experiment: 122_20131113_ct\n",
      "  Experiment: 122_20140131_mr\n",
      "  Experiment: 122_20130709_mr\n",
      "  Experiment: 122_20140206_ct\n",
      "  Experiment: 122_20140306_ct\n",
      "  Experiment: 122_20140403_mr\n",
      "    Found DICOM SEG Resource in Scan SEG_20240506_225228_428_S12\n",
      "      Processing SEG_20240506_225228_428_S12.dcm...\n"
     ]
    },
    {
     "name": "stderr",
     "output_type": "stream",
     "text": [
      "  0% of 349.1 KiB |                                  |   0.0 s/B ETA:  --:--:--\n",
      "100% of 349.1 KiB |################################|   3.6 MiB/s ETA:  00:00:00\n",
      "100% of 349.1 KiB |################################|   3.5 MiB/s Time:  0:00:00\n",
      "2025-02-07 12:43:26,022 [INFO] Extracting Series Instance UID from /var/folders/rc/rclfvgm135q8nz2l8y8dq38h0000gq/T/tmpp90bamdl.dcm...\n",
      "2025-02-07 12:43:26,027 [INFO] Extracted Series Instance UID: 2.25.13683519679121763311237875252900656021\n",
      "2025-02-07 12:43:26,028 [INFO] Searching for Series Instance UID: 2.25.13683519679121763311237875252900656021 in experiment: 122_20140403_mr...\n"
     ]
    },
    {
     "name": "stdout",
     "output_type": "stream",
     "text": [
      "        Downloaded SEG_20240506_225228_428_S12.dcm to temporary file.\n"
     ]
    },
    {
     "name": "stderr",
     "output_type": "stream",
     "text": [
      "2025-02-07 12:43:26,561 [INFO] Found Series Name: t1_se_r_tra_gad_brain for Series UID: 2.25.13683519679121763311237875252900656021\n"
     ]
    },
    {
     "name": "stdout",
     "output_type": "stream",
     "text": [
      "/Volumes/Siren/Brain_data/1.PatientDirectory/122/MRI/Processed_New/\n",
      "        Could not find NIfTI file for SEG_20240506_225228_428_S12.dcm\n",
      "    Found DICOM SEG Resource in Scan SEG_20240506_230836_550_S5\n",
      "      Processing SEG_20240506_230836_550_S5.dcm...\n"
     ]
    },
    {
     "name": "stderr",
     "output_type": "stream",
     "text": [
      "  0% of 348.9 KiB |                                  |   0.0 s/B ETA:  --:--:--\n",
      "100% of 348.9 KiB |################################|   4.3 MiB/s ETA:  00:00:00\n",
      "100% of 348.9 KiB |################################|   4.3 MiB/s Time:  0:00:00\n",
      "2025-02-07 12:43:36,256 [INFO] Extracting Series Instance UID from /var/folders/rc/rclfvgm135q8nz2l8y8dq38h0000gq/T/tmp9cexgl91.dcm...\n",
      "2025-02-07 12:43:36,261 [INFO] Extracted Series Instance UID: 2.25.22254348705491718272021993323382344291\n",
      "2025-02-07 12:43:36,261 [INFO] Searching for Series Instance UID: 2.25.22254348705491718272021993323382344291 in experiment: 122_20140403_mr...\n",
      "2025-02-07 12:43:36,261 [INFO] Found Series Name: t2_flair__tra_brain for Series UID: 2.25.22254348705491718272021993323382344291\n"
     ]
    },
    {
     "name": "stdout",
     "output_type": "stream",
     "text": [
      "        Downloaded SEG_20240506_230836_550_S5.dcm to temporary file.\n",
      "/Volumes/Siren/Brain_data/1.PatientDirectory/122/MRI/Processed_New/\n",
      "        Could not find NIfTI file for SEG_20240506_230836_550_S5.dcm\n",
      "  Experiment: 122_20131126_mr\n",
      "  Experiment: 122_20130614_mr\n",
      "  Experiment: 122_20130622_ct\n",
      "  Experiment: 122_20130612_ct\n",
      "  Experiment: 122_20130620_mr\n",
      "  Experiment: 122_20140131_ct\n",
      "  Experiment: 122_20140201_ct\n",
      "  Experiment: 122_20130621_mr\n",
      "  Experiment: 122_20130623_mr\n",
      "  Experiment: 122_20130924_mr\n",
      "  Experiment: 122_20131113_mr\n",
      "Subject: 123\n",
      "  Experiment: 123_20140625_ct\n",
      "  Experiment: 123_20140625_mr\n",
      "Subject: 104\n",
      "  Experiment: 104_20091028_mr\n",
      "  Experiment: 104_20111027_mr\n",
      "  Experiment: 104_20110830_mr\n",
      "  Experiment: 104_20110901_mr\n",
      "  Experiment: 104_20091118_mr\n",
      "  Experiment: 104_20110829_ct\n",
      "  Experiment: 104_20111025_ct\n",
      "  Experiment: 104_20110727_mr\n",
      "Subject: 115\n",
      "  Experiment: 115_20121003_mr\n",
      "  Experiment: 115_20130521_mr\n",
      "  Experiment: 115_20110827_mr\n",
      "  Experiment: 115_20110717_ct\n",
      "  Experiment: 115_20130625_mr\n",
      "    Found DICOM SEG Resource in Scan SEG_20240507_101805_742_S10\n",
      "      Processing SEG_20240507_101805_742_S10.dcm...\n"
     ]
    },
    {
     "name": "stderr",
     "output_type": "stream",
     "text": [
      "  0% of  83.0 KiB |                                  |   0.0 s/B ETA:  --:--:--\n",
      "100% of  83.0 KiB |################################|   1.7 MiB/s Time:  0:00:00\n",
      "2025-02-07 12:43:51,676 [INFO] Extracting Series Instance UID from /var/folders/rc/rclfvgm135q8nz2l8y8dq38h0000gq/T/tmplyxdxhnw.dcm...\n",
      "2025-02-07 12:43:51,680 [INFO] Extracted Series Instance UID: 2.25.64364946177951211676963042552478229421\n",
      "2025-02-07 12:43:51,681 [INFO] Searching for Series Instance UID: 2.25.64364946177951211676963042552478229421 in experiment: 115_20130625_mr...\n"
     ]
    },
    {
     "name": "stdout",
     "output_type": "stream",
     "text": [
      "        Downloaded SEG_20240507_101805_742_S10.dcm to temporary file.\n"
     ]
    },
    {
     "name": "stderr",
     "output_type": "stream",
     "text": [
      "2025-02-07 12:43:52,193 [INFO] Found Series Name: PGD_AX_T1 for Series UID: 2.25.64364946177951211676963042552478229421\n"
     ]
    },
    {
     "name": "stdout",
     "output_type": "stream",
     "text": [
      "/Volumes/Siren/Brain_data/1.PatientDirectory/115/MRI/Processed_New/\n",
      "Number of segments: 2\n",
      "        Removed temporary file /var/folders/rc/rclfvgm135q8nz2l8y8dq38h0000gq/T/tmplyxdxhnw.dcm\n",
      "    Found DICOM SEG Resource in Scan SEG_20240507_103702_209_S6\n",
      "      Processing SEG_20240507_103702_209_S6.dcm...\n"
     ]
    },
    {
     "name": "stderr",
     "output_type": "stream",
     "text": [
      "  0% of 462.0 KiB |                                  |   0.0 s/B ETA:  --:--:--\n",
      "100% of 462.0 KiB |################################|   4.8 MiB/s ETA:  00:00:00\n",
      "100% of 462.0 KiB |################################|   4.8 MiB/s Time:  0:00:00\n",
      "2025-02-07 12:44:04,012 [INFO] Extracting Series Instance UID from /var/folders/rc/rclfvgm135q8nz2l8y8dq38h0000gq/T/tmpjz0jf1c9.dcm...\n",
      "2025-02-07 12:44:04,017 [INFO] Extracted Series Instance UID: 2.25.136391583477846340058778464293586433319\n",
      "2025-02-07 12:44:04,018 [INFO] Searching for Series Instance UID: 2.25.136391583477846340058778464293586433319 in experiment: 115_20130625_mr...\n",
      "2025-02-07 12:44:04,018 [INFO] Found Series Name: FLAIR_AXIAL for Series UID: 2.25.136391583477846340058778464293586433319\n"
     ]
    },
    {
     "name": "stdout",
     "output_type": "stream",
     "text": [
      "        Downloaded SEG_20240507_103702_209_S6.dcm to temporary file.\n",
      "/Volumes/Siren/Brain_data/1.PatientDirectory/115/MRI/Processed_New/\n",
      "Number of segments: 1\n",
      "        Removed temporary file /var/folders/rc/rclfvgm135q8nz2l8y8dq38h0000gq/T/tmpjz0jf1c9.dcm\n",
      "  Experiment: 115_20111227_mr\n",
      "  Experiment: 115_20130129_mr\n",
      "  Experiment: 115_20120202_ct\n",
      "  Experiment: 115_20121002_mr\n",
      "  Experiment: 115_20111112_mr\n",
      "  Experiment: 115_20121218_mr\n",
      "  Experiment: 115_20111217_mr\n",
      "  Experiment: 115_20130312_mr\n",
      "  Experiment: 115_20120211_mr\n",
      "  Experiment: 115_20110719_mr\n",
      "  Experiment: 115_20111119_ct\n",
      "  Experiment: 115_20120616_mr\n",
      "  Experiment: 115_20120731_mr\n",
      "  Experiment: 115_20110720_ct\n",
      "  Experiment: 115_20120925_mr\n",
      "  Experiment: 115_20120505_mr\n",
      "  Experiment: 115_20120324_mr\n",
      "  Experiment: 115_20110717_mr\n",
      "  Experiment: 115_20130407_mr\n",
      "Subject: 124\n",
      "  Experiment: 124_20120918_mr\n",
      "  Experiment: 124_20130326_mr\n",
      "  Experiment: 124_20120920_mr\n",
      "  Experiment: 124_20130723_mr\n",
      "  Experiment: 124_20140408_mr\n",
      "  Experiment: 124_20120915_mr\n",
      "  Experiment: 124_20120914_mr\n",
      "  Experiment: 124_20130417_mr\n",
      "  Experiment: 124_20131029_mr\n",
      "  Experiment: 124_20130108_mr\n",
      "  Experiment: 124_20120919_ct\n",
      "  Experiment: 124_20120914_ct\n",
      "  Experiment: 124_20140417_ct\n",
      "  Experiment: 124_20130903_mr\n",
      "  Experiment: 124_20130521_mr\n",
      "  Experiment: 124_20140701_mr\n",
      "  Experiment: 124_20121011_mr\n",
      "  Experiment: 124_20140517_mr\n",
      "  Experiment: 124_20140812_mr\n",
      "Subject: 125\n",
      "  Experiment: 125_20141017_mr\n",
      "  Experiment: 125_20131119_mr\n",
      "  Experiment: 125_20141105_ct\n",
      "  Experiment: 125_20140828_ct\n",
      "  Experiment: 125_20111221_mr\n",
      "  Experiment: 125_20140829_mr\n",
      "Subject: 141\n",
      "  Experiment: 141_20030807_mr\n",
      "  Experiment: 141_20170125_mr\n",
      "  Experiment: 141_20030930_ct\n",
      "  Experiment: 141_20030805_ct\n",
      "  Experiment: 141_20141010_ct\n",
      "  Experiment: 141_20030823_ct\n",
      "  Experiment: 141_20141010_mr\n",
      "  Experiment: 141_20170124_ct\n",
      "  Experiment: 141_20170117_ct\n",
      "  Experiment: 141_20040409_mr\n",
      "  Experiment: 141_20050720_mr\n",
      "  Experiment: 141_20100331_mr\n",
      "  Experiment: 141_20151112_mr\n",
      "  Experiment: 141_20050316_mr\n",
      "  Experiment: 141_20070117_mr\n",
      "  Experiment: 141_20070620_mr\n",
      "  Experiment: 141_20160603_mr\n",
      "  Experiment: 141_20150107_mr\n",
      "  Experiment: 141_20160219_mr\n",
      "  Experiment: 141_20141011_mr\n",
      "  Experiment: 141_20030806_mr\n",
      "  Experiment: 141_20040709_mr\n",
      "  Experiment: 141_20071221_mr\n",
      "  Experiment: 141_20060426_mr\n",
      "  Experiment: 141_20090121_mr\n",
      "  Experiment: 141_20090722_mr\n",
      "  Experiment: 141_20130327_mr\n",
      "  Experiment: 141_20110309_mr\n",
      "  Experiment: 141_20140404_mr\n",
      "  Experiment: 141_20120322_mr\n",
      "  Experiment: 141_20030930_mr\n",
      "  Experiment: 141_20160914_mr\n",
      "  Experiment: 141_20030824_mr\n",
      "  Experiment: 141_20140903_mr\n",
      "  Experiment: 141_20170112_ct\n",
      "  Experiment: 141_20060802_mr\n",
      "  Experiment: 141_20060105_mr\n",
      "  Experiment: 141_20041020_mr\n",
      "  Experiment: 141_20131004_mr\n",
      "  Experiment: 141_20150430_mr\n",
      "  Experiment: 141_20050908_mr\n",
      "  Experiment: 141_20080618_mr\n",
      "  Experiment: 141_20150306_mr\n",
      "Subject: 142\n",
      "  Experiment: 142_20160625_ct\n",
      "  Experiment: 142_20160428_mr\n",
      "  Experiment: 142_20170125_mr\n",
      "    Found DICOM SEG Resource in Scan SEG_20240506_154736_459_S3\n",
      "      Processing SEG_20240506_154736_459_S3.dcm...\n"
     ]
    },
    {
     "name": "stderr",
     "output_type": "stream",
     "text": [
      "  0% of 427.8 KiB |                                  |   0.0 s/B ETA:  --:--:--\n",
      "100% of 427.8 KiB |################################|   2.2 MiB/s ETA:  00:00:00\n",
      "100% of 427.8 KiB |################################|   2.2 MiB/s Time:  0:00:00\n",
      "2025-02-07 12:44:37,183 [INFO] Extracting Series Instance UID from /var/folders/rc/rclfvgm135q8nz2l8y8dq38h0000gq/T/tmpo4f_lhoy.dcm...\n",
      "2025-02-07 12:44:37,189 [INFO] Extracted Series Instance UID: 2.25.104686671911636508910676893371892333447\n",
      "2025-02-07 12:44:37,189 [INFO] Searching for Series Instance UID: 2.25.104686671911636508910676893371892333447 in experiment: 142_20170125_mr...\n",
      "2025-02-07 12:44:37,361 [INFO] Found Series Name: Ax_T1_+C for Series UID: 2.25.104686671911636508910676893371892333447\n"
     ]
    },
    {
     "name": "stdout",
     "output_type": "stream",
     "text": [
      "        Downloaded SEG_20240506_154736_459_S3.dcm to temporary file.\n",
      "/Volumes/Siren/Brain_data/1.PatientDirectory/142/MRI/Processed_New/\n",
      "Number of segments: 1\n",
      "        Removed temporary file /var/folders/rc/rclfvgm135q8nz2l8y8dq38h0000gq/T/tmpo4f_lhoy.dcm\n",
      "    Found DICOM SEG Resource in Scan SEG_20240506_155217_304_S3\n",
      "      Processing SEG_20240506_155217_304_S3.dcm...\n"
     ]
    },
    {
     "name": "stderr",
     "output_type": "stream",
     "text": [
      "  0% of 558.2 KiB |                                  |   0.0 s/B ETA:  --:--:--\n",
      " 91% of 558.2 KiB |#############################   |   3.0 MiB/s ETA:   0:00:00\n",
      "100% of 558.2 KiB |################################|   3.0 MiB/s Time:  0:00:00\n",
      "2025-02-07 12:44:49,453 [INFO] Extracting Series Instance UID from /var/folders/rc/rclfvgm135q8nz2l8y8dq38h0000gq/T/tmpyl1qfakc.dcm...\n",
      "2025-02-07 12:44:49,459 [INFO] Extracted Series Instance UID: 2.25.104686671911636508910676893371892333447\n",
      "2025-02-07 12:44:49,459 [INFO] Searching for Series Instance UID: 2.25.104686671911636508910676893371892333447 in experiment: 142_20170125_mr...\n",
      "2025-02-07 12:44:49,460 [INFO] Found Series Name: Ax_T1_+C for Series UID: 2.25.104686671911636508910676893371892333447\n"
     ]
    },
    {
     "name": "stdout",
     "output_type": "stream",
     "text": [
      "        Downloaded SEG_20240506_155217_304_S3.dcm to temporary file.\n",
      "/Volumes/Siren/Brain_data/1.PatientDirectory/142/MRI/Processed_New/\n",
      "Number of segments: 2\n",
      "        Removed temporary file /var/folders/rc/rclfvgm135q8nz2l8y8dq38h0000gq/T/tmpyl1qfakc.dcm\n",
      "    Found DICOM SEG Resource in Scan SEG_20240506_161556_232_S7\n",
      "      Processing SEG_20240506_161556_232_S7.dcm...\n"
     ]
    },
    {
     "name": "stderr",
     "output_type": "stream",
     "text": [
      "  0% of 427.8 KiB |                                  |   0.0 s/B ETA:  --:--:--\n",
      "100% of 427.8 KiB |################################|   2.8 MiB/s ETA:  00:00:00\n",
      "100% of 427.8 KiB |################################|   2.8 MiB/s Time:  0:00:00\n",
      "2025-02-07 12:45:00,246 [INFO] Extracting Series Instance UID from /var/folders/rc/rclfvgm135q8nz2l8y8dq38h0000gq/T/tmpej6uldq2.dcm...\n",
      "2025-02-07 12:45:00,251 [INFO] Extracted Series Instance UID: 2.25.115521899487624255325942925101161649090\n",
      "2025-02-07 12:45:00,251 [INFO] Searching for Series Instance UID: 2.25.115521899487624255325942925101161649090 in experiment: 142_20170125_mr...\n",
      "2025-02-07 12:45:00,433 [INFO] Found Series Name: AX_T2_FLAIR for Series UID: 2.25.115521899487624255325942925101161649090\n"
     ]
    },
    {
     "name": "stdout",
     "output_type": "stream",
     "text": [
      "        Downloaded SEG_20240506_161556_232_S7.dcm to temporary file.\n",
      "/Volumes/Siren/Brain_data/1.PatientDirectory/142/MRI/Processed_New/\n",
      "Number of segments: 1\n",
      "        Removed temporary file /var/folders/rc/rclfvgm135q8nz2l8y8dq38h0000gq/T/tmpej6uldq2.dcm\n",
      "  Experiment: 142_20160426_mr\n",
      "  Experiment: 142_20160427_ct\n",
      "  Experiment: 142_20160810_mr\n",
      "  Experiment: 142_20160425_mr\n",
      "  Experiment: 142_20160514_mr\n",
      "Subject: 143\n",
      "  Experiment: 143_20170110_mr\n",
      "  Experiment: 143_20170106_mr\n",
      "  Experiment: 143_20170429_mr\n",
      "  Experiment: 143_20170810_mr\n",
      "    Found DICOM SEG Resource in Scan SEG_20240506_152308_516_S12\n",
      "      Processing SEG_20240506_152308_516_S12.dcm...\n"
     ]
    },
    {
     "name": "stderr",
     "output_type": "stream",
     "text": [
      "  0% of 689.9 KiB |                                  |   0.0 s/B ETA:  --:--:--\n",
      " 74% of 689.9 KiB |#######################         |   3.1 MiB/s ETA:   0:00:00\n",
      "100% of 689.9 KiB |################################|   3.1 MiB/s Time:  0:00:00\n",
      "2025-02-07 12:45:15,423 [INFO] Extracting Series Instance UID from /var/folders/rc/rclfvgm135q8nz2l8y8dq38h0000gq/T/tmpcd_6mguo.dcm...\n",
      "2025-02-07 12:45:15,429 [INFO] Extracted Series Instance UID: 2.25.8710093254637836212126655788274199381\n",
      "2025-02-07 12:45:15,429 [INFO] Searching for Series Instance UID: 2.25.8710093254637836212126655788274199381 in experiment: 143_20170810_mr...\n"
     ]
    },
    {
     "name": "stdout",
     "output_type": "stream",
     "text": [
      "        Downloaded SEG_20240506_152308_516_S12.dcm to temporary file.\n"
     ]
    },
    {
     "name": "stderr",
     "output_type": "stream",
     "text": [
      "2025-02-07 12:45:15,934 [INFO] Found Series Name: Ax_T1_Post for Series UID: 2.25.8710093254637836212126655788274199381\n"
     ]
    },
    {
     "name": "stdout",
     "output_type": "stream",
     "text": [
      "/Volumes/Siren/Brain_data/1.PatientDirectory/143/MRI/Processed_New/\n",
      "Number of segments: 1\n",
      "        Removed temporary file /var/folders/rc/rclfvgm135q8nz2l8y8dq38h0000gq/T/tmpcd_6mguo.dcm\n",
      "    Found DICOM SEG Resource in Scan SEG_20240506_153326_428_S12\n",
      "      Processing SEG_20240506_153326_428_S12.dcm...\n"
     ]
    },
    {
     "name": "stderr",
     "output_type": "stream",
     "text": [
      "  0% of   1.0 MiB |                                  |   0.0 s/B ETA:  --:--:--\n",
      " 48% of   1.0 MiB |###############                 |   3.1 MiB/s ETA:   0:00:00\n",
      " 97% of   1.0 MiB |############################### |   3.1 MiB/s ETA:   0:00:00\n",
      "100% of   1.0 MiB |################################|   3.9 MiB/s Time:  0:00:00\n",
      "2025-02-07 12:45:28,966 [INFO] Extracting Series Instance UID from /var/folders/rc/rclfvgm135q8nz2l8y8dq38h0000gq/T/tmpzfd5l32m.dcm...\n",
      "2025-02-07 12:45:28,976 [INFO] Extracted Series Instance UID: 2.25.8710093254637836212126655788274199381\n",
      "2025-02-07 12:45:28,977 [INFO] Searching for Series Instance UID: 2.25.8710093254637836212126655788274199381 in experiment: 143_20170810_mr...\n",
      "2025-02-07 12:45:28,978 [INFO] Found Series Name: Ax_T1_Post for Series UID: 2.25.8710093254637836212126655788274199381\n"
     ]
    },
    {
     "name": "stdout",
     "output_type": "stream",
     "text": [
      "        Downloaded SEG_20240506_153326_428_S12.dcm to temporary file.\n",
      "/Volumes/Siren/Brain_data/1.PatientDirectory/143/MRI/Processed_New/\n",
      "Number of segments: 2\n",
      "        Removed temporary file /var/folders/rc/rclfvgm135q8nz2l8y8dq38h0000gq/T/tmpzfd5l32m.dcm\n",
      "  Experiment: 143_20170108_mr\n",
      "  Experiment: 143_20170106_ct\n",
      "  Experiment: 143_20170109_ct\n",
      "  Experiment: 143_20170809_ct\n",
      "  Experiment: 143_20170211_mr\n",
      "  Experiment: 143_20170710_mr\n",
      "Subject: 144\n",
      "  Experiment: 144_20170124_mr\n",
      "  Experiment: 144_20170127_mr\n",
      "  Experiment: 144_20161213_mr\n",
      "  Experiment: 144_20161209_mr\n",
      "  Experiment: 144_20170506_mr\n",
      "  Experiment: 144_20170128_mr\n",
      "  Experiment: 144_20171019_mr\n",
      "  Experiment: 144_20170512_mr\n",
      "  Experiment: 144_20161214_mr\n",
      "  Experiment: 144_20170803_mr\n",
      "  Experiment: 144_20170430_mr\n",
      "  Experiment: 144_20171102_mr\n",
      "    Found DICOM SEG Resource in Scan SEG_20240506_134301_185_S9\n",
      "      Processing SEG_20240506_134301_185_S9.dcm...\n"
     ]
    },
    {
     "name": "stderr",
     "output_type": "stream",
     "text": [
      "  0% of 364.6 KiB |                                  |   0.0 s/B ETA:  --:--:--\n",
      "100% of 364.6 KiB |################################|   3.4 MiB/s ETA:  00:00:00\n",
      "100% of 364.6 KiB |################################|   3.4 MiB/s Time:  0:00:00\n",
      "2025-02-07 12:45:43,352 [INFO] Extracting Series Instance UID from /var/folders/rc/rclfvgm135q8nz2l8y8dq38h0000gq/T/tmp80jf4gqv.dcm...\n",
      "2025-02-07 12:45:43,356 [INFO] Extracted Series Instance UID: 2.25.53028216654540351890131478048065330128\n",
      "2025-02-07 12:45:43,357 [INFO] Searching for Series Instance UID: 2.25.53028216654540351890131478048065330128 in experiment: 144_20171102_mr...\n"
     ]
    },
    {
     "name": "stdout",
     "output_type": "stream",
     "text": [
      "        Downloaded SEG_20240506_134301_185_S9.dcm to temporary file.\n"
     ]
    },
    {
     "name": "stderr",
     "output_type": "stream",
     "text": [
      "2025-02-07 12:45:43,794 [INFO] Found Series Name: Ax_T1_Post for Series UID: 2.25.53028216654540351890131478048065330128\n"
     ]
    },
    {
     "name": "stdout",
     "output_type": "stream",
     "text": [
      "/Volumes/Siren/Brain_data/1.PatientDirectory/144/MRI/Processed_New/\n",
      "Number of segments: 1\n",
      "        Removed temporary file /var/folders/rc/rclfvgm135q8nz2l8y8dq38h0000gq/T/tmp80jf4gqv.dcm\n",
      "    Found DICOM SEG Resource in Scan SEG_20240506_143723_110_S5\n",
      "      Processing SEG_20240506_143723_110_S5.dcm...\n"
     ]
    },
    {
     "name": "stderr",
     "output_type": "stream",
     "text": [
      "  0% of 624.9 KiB |                                  |   0.0 s/B ETA:  --:--:--\n",
      " 81% of 624.9 KiB |##########################      |   3.8 MiB/s ETA:   0:00:00\n",
      "100% of 624.9 KiB |################################|   3.8 MiB/s Time:  0:00:00\n",
      "2025-02-07 12:45:56,607 [INFO] Extracting Series Instance UID from /var/folders/rc/rclfvgm135q8nz2l8y8dq38h0000gq/T/tmpixsuivpb.dcm...\n",
      "2025-02-07 12:45:56,614 [INFO] Extracted Series Instance UID: 2.25.176112454121605152043377469167460437839\n",
      "2025-02-07 12:45:56,615 [INFO] Searching for Series Instance UID: 2.25.176112454121605152043377469167460437839 in experiment: 144_20171102_mr...\n",
      "2025-02-07 12:45:56,616 [INFO] Found Series Name: AX_FLAIR for Series UID: 2.25.176112454121605152043377469167460437839\n"
     ]
    },
    {
     "name": "stdout",
     "output_type": "stream",
     "text": [
      "        Downloaded SEG_20240506_143723_110_S5.dcm to temporary file.\n",
      "/Volumes/Siren/Brain_data/1.PatientDirectory/144/MRI/Processed_New/\n",
      "Number of segments: 1\n",
      "        Removed temporary file /var/folders/rc/rclfvgm135q8nz2l8y8dq38h0000gq/T/tmpixsuivpb.dcm\n",
      "  Experiment: 144_20161207_mr\n",
      "  Experiment: 144_20170428_ct\n",
      "  Experiment: 144_20171102_ct\n",
      "  Experiment: 144_20170127_ct\n",
      "  Experiment: 144_20170320_ct\n",
      "  Experiment: 144_20170513_mr\n",
      "  Experiment: 144_20170119_mr\n",
      "  Experiment: 144_20170830_mr\n",
      "  Experiment: 144_20170210_mr\n",
      "  Experiment: 144_20161213_ct\n",
      "  Experiment: 144_20170429_ct\n",
      "  Experiment: 144_20170512_ct\n",
      "Subject: 145\n",
      "  Experiment: 145_20160229_mr\n",
      "  Experiment: 145_20170915_ct\n",
      "  Experiment: 145_20160402_ct\n",
      "  Experiment: 145_20160226_ct\n",
      "  Experiment: 145_20170919_ct\n",
      "  Experiment: 145_20170915_mr\n",
      "  Experiment: 145_20160301_ct\n",
      "  Experiment: 145_20171112_ct\n",
      "  Experiment: 145_20160406_mr\n",
      "  Experiment: 145_20170929_mr\n",
      "    Found DICOM SEG Resource in Scan SEG_20240505_103749_720_S15\n",
      "      Processing SEG_20240505_103749_720_S15.dcm...\n"
     ]
    },
    {
     "name": "stderr",
     "output_type": "stream",
     "text": [
      "  0% of   1.1 MiB |                                  |   0.0 s/B ETA:  --:--:--\n",
      " 47% of   1.1 MiB |###############                 |   3.9 MiB/s ETA:   0:00:00\n",
      " 94% of   1.1 MiB |##############################  |   3.9 MiB/s ETA:   0:00:00\n",
      "100% of   1.1 MiB |################################|   4.6 MiB/s Time:  0:00:00\n",
      "2025-02-07 12:46:14,142 [INFO] Extracting Series Instance UID from /var/folders/rc/rclfvgm135q8nz2l8y8dq38h0000gq/T/tmp07oi4505.dcm...\n",
      "2025-02-07 12:46:14,152 [INFO] Extracted Series Instance UID: 2.25.138864157903979731252180397937434649889\n",
      "2025-02-07 12:46:14,153 [INFO] Searching for Series Instance UID: 2.25.138864157903979731252180397937434649889 in experiment: 145_20170929_mr...\n"
     ]
    },
    {
     "name": "stdout",
     "output_type": "stream",
     "text": [
      "        Downloaded SEG_20240505_103749_720_S15.dcm to temporary file.\n"
     ]
    },
    {
     "name": "stderr",
     "output_type": "stream",
     "text": [
      "2025-02-07 12:46:14,560 [INFO] Found Series Name: B_AX_FLAIR_S10_DIS3D for Series UID: 2.25.138864157903979731252180397937434649889\n"
     ]
    },
    {
     "name": "stdout",
     "output_type": "stream",
     "text": [
      "/Volumes/Siren/Brain_data/1.PatientDirectory/145/MRI/Processed_New/\n",
      "        Could not find directory for SEG_20240505_103749_720_S15.dcm\n",
      "    Found DICOM SEG Resource in Scan SEG_20240505_103825_837_S21\n",
      "      Processing SEG_20240505_103825_837_S21.dcm...\n"
     ]
    },
    {
     "name": "stderr",
     "output_type": "stream",
     "text": [
      "  0% of 202.3 KiB |                                  |   0.0 s/B ETA:  --:--:--\n",
      "100% of 202.3 KiB |################################|   3.0 MiB/s ETA:  00:00:00\n",
      "100% of 202.3 KiB |################################|   3.0 MiB/s Time:  0:00:00\n",
      "2025-02-07 12:46:24,174 [INFO] Extracting Series Instance UID from /var/folders/rc/rclfvgm135q8nz2l8y8dq38h0000gq/T/tmp55zif6au.dcm...\n",
      "2025-02-07 12:46:24,183 [INFO] Extracted Series Instance UID: 2.25.123822648196530756206652606416402472232\n",
      "2025-02-07 12:46:24,184 [INFO] Searching for Series Instance UID: 2.25.123822648196530756206652606416402472232 in experiment: 145_20170929_mr...\n"
     ]
    },
    {
     "name": "stdout",
     "output_type": "stream",
     "text": [
      "        Downloaded SEG_20240505_103825_837_S21.dcm to temporary file.\n"
     ]
    },
    {
     "name": "stderr",
     "output_type": "stream",
     "text": [
      "2025-02-07 12:46:24,414 [INFO] Found Series Name: B_AX_3D_T1+C_S20_DIS3D for Series UID: 2.25.123822648196530756206652606416402472232\n"
     ]
    },
    {
     "name": "stdout",
     "output_type": "stream",
     "text": [
      "/Volumes/Siren/Brain_data/1.PatientDirectory/145/MRI/Processed_New/\n",
      "        Could not find directory for SEG_20240505_103825_837_S21.dcm\n",
      "  Experiment: 145_20160227_mr\n",
      "  Experiment: 145_20160302_mr\n",
      "  Experiment: 145_20160611_mr\n",
      "  Experiment: 145_20161007_mr\n",
      "  Experiment: 145_20170714_mr\n",
      "  Experiment: 145_20170519_mr\n",
      "  Experiment: 145_20160226_mr\n",
      "Subject: 146\n",
      "  Experiment: 146_20170104_ct\n",
      "  Experiment: 146_20170406_mr\n",
      "  Experiment: 146_20170824_mr\n",
      "  Experiment: 146_20171228_mr\n",
      "    Found DICOM SEG Resource in Scan SEG_20240502_155831_571_S11\n",
      "      Processing SEG_20240502_155831_571_S11.dcm...\n"
     ]
    },
    {
     "name": "stderr",
     "output_type": "stream",
     "text": [
      "  0% of 397.1 KiB |                                  |   0.0 s/B ETA:  --:--:--\n",
      "100% of 397.1 KiB |################################|   3.2 MiB/s ETA:  00:00:00\n",
      "100% of 397.1 KiB |################################|   3.2 MiB/s Time:  0:00:00\n",
      "2025-02-07 12:46:36,516 [INFO] Extracting Series Instance UID from /var/folders/rc/rclfvgm135q8nz2l8y8dq38h0000gq/T/tmp1pjwa9ak.dcm...\n",
      "2025-02-07 12:46:36,521 [INFO] Extracted Series Instance UID: 2.25.88048110718552840212427656231875461010\n",
      "2025-02-07 12:46:36,522 [INFO] Searching for Series Instance UID: 2.25.88048110718552840212427656231875461010 in experiment: 146_20171228_mr...\n"
     ]
    },
    {
     "name": "stdout",
     "output_type": "stream",
     "text": [
      "        Downloaded SEG_20240502_155831_571_S11.dcm to temporary file.\n"
     ]
    },
    {
     "name": "stderr",
     "output_type": "stream",
     "text": [
      "2025-02-07 12:46:36,911 [INFO] Found Series Name: Ax_T1_Post for Series UID: 2.25.88048110718552840212427656231875461010\n"
     ]
    },
    {
     "name": "stdout",
     "output_type": "stream",
     "text": [
      "/Volumes/Siren/Brain_data/1.PatientDirectory/146/MRI/Processed_New/\n",
      "Number of segments: 1\n",
      "        Removed temporary file /var/folders/rc/rclfvgm135q8nz2l8y8dq38h0000gq/T/tmp1pjwa9ak.dcm\n",
      "    Found DICOM SEG Resource in Scan SEG_20240502_160500_859_S11\n",
      "      Processing SEG_20240502_160500_859_S11.dcm...\n"
     ]
    },
    {
     "name": "stderr",
     "output_type": "stream",
     "text": [
      "  0% of 787.8 KiB |                                  |   0.0 s/B ETA:  --:--:--\n",
      " 64% of 787.8 KiB |####################            |   4.2 MiB/s ETA:   0:00:00\n",
      "100% of 787.8 KiB |################################|   4.2 MiB/s Time:  0:00:00\n",
      "2025-02-07 12:46:49,792 [INFO] Extracting Series Instance UID from /var/folders/rc/rclfvgm135q8nz2l8y8dq38h0000gq/T/tmppa0dy52t.dcm...\n",
      "2025-02-07 12:46:49,799 [INFO] Extracted Series Instance UID: 2.25.88048110718552840212427656231875461010\n",
      "2025-02-07 12:46:49,800 [INFO] Searching for Series Instance UID: 2.25.88048110718552840212427656231875461010 in experiment: 146_20171228_mr...\n",
      "2025-02-07 12:46:49,800 [INFO] Found Series Name: Ax_T1_Post for Series UID: 2.25.88048110718552840212427656231875461010\n"
     ]
    },
    {
     "name": "stdout",
     "output_type": "stream",
     "text": [
      "        Downloaded SEG_20240502_160500_859_S11.dcm to temporary file.\n",
      "/Volumes/Siren/Brain_data/1.PatientDirectory/146/MRI/Processed_New/\n",
      "Number of segments: 2\n",
      "        Removed temporary file /var/folders/rc/rclfvgm135q8nz2l8y8dq38h0000gq/T/tmppa0dy52t.dcm\n",
      "    Found DICOM SEG Resource in Scan SEG_20240502_162948_144_S6\n",
      "      Processing SEG_20240502_162948_144_S6.dcm...\n"
     ]
    },
    {
     "name": "stderr",
     "output_type": "stream",
     "text": [
      "  0% of 592.4 KiB |                                  |   0.0 s/B ETA:  --:--:--\n",
      " 86% of 592.4 KiB |###########################     |   4.3 MiB/s ETA:   0:00:00\n",
      "100% of 592.4 KiB |################################|   4.3 MiB/s Time:  0:00:00\n",
      "2025-02-07 12:47:00,500 [INFO] Extracting Series Instance UID from /var/folders/rc/rclfvgm135q8nz2l8y8dq38h0000gq/T/tmpo0dr_hh5.dcm...\n",
      "2025-02-07 12:47:00,506 [INFO] Extracted Series Instance UID: 2.25.239082613913571807492989535317226982996\n",
      "2025-02-07 12:47:00,506 [INFO] Searching for Series Instance UID: 2.25.239082613913571807492989535317226982996 in experiment: 146_20171228_mr...\n",
      "2025-02-07 12:47:00,507 [INFO] Found Series Name: AX_FLAIR for Series UID: 2.25.239082613913571807492989535317226982996\n"
     ]
    },
    {
     "name": "stdout",
     "output_type": "stream",
     "text": [
      "        Downloaded SEG_20240502_162948_144_S6.dcm to temporary file.\n",
      "/Volumes/Siren/Brain_data/1.PatientDirectory/146/MRI/Processed_New/\n",
      "Number of segments: 1\n",
      "        Removed temporary file /var/folders/rc/rclfvgm135q8nz2l8y8dq38h0000gq/T/tmpo0dr_hh5.dcm\n",
      "  Experiment: 146_20161227_ct\n",
      "  Experiment: 146_20170923_mr\n",
      "  Experiment: 146_20171024_mr\n",
      "  Experiment: 146_20170425_ct\n",
      "  Experiment: 146_20170505_mr\n",
      "  Experiment: 146_20170629_mr\n",
      "  Experiment: 146_20161229_mr\n",
      "  Experiment: 146_20170113_mr\n",
      "  Experiment: 146_20171005_mr\n",
      "Subject: 147\n",
      "  Experiment: 147_20170525_ct\n",
      "  Experiment: 147_20170222_mr\n",
      "  Experiment: 147_20170309_mr\n",
      "  Experiment: 147_20170323_mr\n",
      "  Experiment: 147_20170226_ct\n",
      "  Experiment: 147_20170413_ct\n",
      "  Experiment: 147_20170928_mr\n",
      "  Experiment: 147_20170517_mr\n",
      "  Experiment: 147_20170803_mr\n",
      "  Experiment: 147_20170316_ct\n",
      "  Experiment: 147_20171101_mr\n",
      "  Experiment: 147_20170319_ct\n",
      "  Experiment: 147_20170315_ct\n",
      "  Experiment: 147_20170312_ct\n",
      "  Experiment: 147_20170308_ct\n",
      "  Experiment: 147_20170324_ct\n",
      "  Experiment: 147_20170301_mr\n",
      "  Experiment: 147_20170227_ct\n",
      "  Experiment: 147_20170125_mr\n",
      "  Experiment: 147_20170311_ct\n",
      "  Experiment: 147_20170309_ct\n",
      "  Experiment: 147_20170325_ct\n",
      "  Experiment: 147_20170401_mr\n",
      "  Experiment: 147_20170316_mr\n",
      "Subject: 148\n",
      "  Experiment: 148_20180116_mr\n",
      "  Experiment: 148_20140218_mr\n",
      "  Experiment: 148_20150224_mr\n",
      "  Experiment: 148_20161115_mr\n",
      "  Experiment: 148_20180119_mr\n",
      "  Experiment: 148_20160524_mr\n",
      "  Experiment: 148_20120512_mr\n",
      "  Experiment: 148_20120520_ct\n",
      "  Experiment: 148_20120523_ct\n",
      "  Experiment: 148_20120525_ct\n",
      "  Experiment: 148_20130426_mr\n",
      "  Experiment: 148_20160628_ct\n",
      "  Experiment: 148_20180215_ct\n",
      "  Experiment: 148_20130123_mr\n",
      "  Experiment: 148_20171024_mr\n",
      "  Experiment: 148_20160707_mr\n",
      "  Experiment: 148_20120516_mr\n",
      "  Experiment: 148_20120521_ct\n",
      "  Experiment: 148_20160628_mr\n",
      "  Experiment: 148_20180118_mr\n",
      "  Experiment: 148_20180213_mr\n",
      "  Experiment: 148_20180214_mr\n",
      "  Experiment: 148_20180222_ct\n",
      "  Experiment: 148_20180211_ct\n",
      "  Experiment: 148_20180127_mr\n",
      "  Experiment: 148_20130417_mr\n",
      "  Experiment: 148_20180216_mr\n",
      "  Experiment: 148_20160906_mr\n",
      "  Experiment: 148_20170404_mr\n",
      "  Experiment: 148_20120515_ct\n",
      "  Experiment: 148_20180223_ct\n",
      "  Experiment: 148_20120514_mr\n",
      "  Experiment: 148_20140823_mr\n",
      "  Experiment: 148_20120725_mr\n",
      "  Experiment: 148_20150905_mr\n",
      "  Experiment: 148_20160527_mr\n",
      "  Experiment: 148_20160629_mr\n",
      "  Experiment: 148_20120510_mr\n",
      "  Experiment: 148_20180212_mr\n",
      "  Experiment: 148_20121024_mr\n",
      "  Experiment: 148_20130704_mr\n",
      "  Experiment: 148_20130426_ct\n",
      "  Experiment: 148_20120517_ct\n",
      "  Experiment: 148_20131023_mr\n",
      "Subject: 149\n",
      "  Experiment: 149_20140723_mr\n",
      "  Experiment: 149_20131211_mr\n",
      "  Experiment: 149_20031114_mr\n",
      "  Experiment: 149_20030704_mr\n",
      "  Experiment: 149_20130925_mr\n",
      "  Experiment: 149_20070822_mr\n",
      "  Experiment: 149_20130607_mr\n",
      "  Experiment: 149_20171101_mr\n",
      "  Experiment: 149_20030522_ct\n",
      "  Experiment: 149_20050225_ct\n",
      "  Experiment: 149_20130702_ct\n",
      "  Experiment: 149_20080207_mr\n",
      "  Experiment: 149_20050415_mr\n",
      "  Experiment: 149_20140205_mr\n",
      "  Experiment: 149_20050119_mr\n",
      "  Experiment: 149_20130507_mr\n",
      "  Experiment: 149_20130227_mr\n",
      "  Experiment: 149_20170518_mr\n",
      "  Experiment: 149_20170906_mr\n",
      "  Experiment: 149_20140403_mr\n",
      "  Experiment: 149_20030522_mr\n",
      "  Experiment: 149_20130702_mr\n",
      "  Experiment: 149_20070516_mr\n",
      "  Experiment: 149_20130625_mr\n",
      "  Experiment: 149_20130731_mr\n",
      "  Experiment: 149_20060315_mr\n",
      "  Experiment: 149_20150402_mr\n",
      "  Experiment: 149_20090206_mr\n",
      "  Experiment: 149_20040116_mr\n",
      "  Experiment: 149_20041022_mr\n",
      "  Experiment: 149_20070228_mr\n",
      "  Experiment: 149_20080806_mr\n",
      "  Experiment: 149_20060622_mr\n",
      "  Experiment: 149_20040723_mr\n",
      "  Experiment: 149_20121031_mr\n",
      "  Experiment: 149_20150909_mr\n",
      "  Experiment: 149_20090424_mr\n",
      "  Experiment: 149_20130412_mr\n",
      "  Experiment: 149_20031003_mr\n",
      "  Experiment: 149_20130416_pt\n",
      "  Experiment: 149_20130416_ct\n",
      "  Experiment: 149_20051215_mr\n",
      "  Experiment: 149_20151209_mr\n",
      "  Experiment: 149_20141128_mr\n",
      "  Experiment: 149_20110531_mr\n",
      "  Experiment: 149_20171227_mr\n",
      "  Experiment: 149_20040317_mr\n",
      "  Experiment: 149_20130703_mr\n",
      "  Experiment: 149_20140926_mr\n",
      "  Experiment: 149_20061013_mr\n",
      "  Experiment: 149_20040520_mr\n",
      "  Experiment: 149_20120530_mr\n",
      "  Experiment: 149_20170713_mr\n",
      "  Experiment: 149_20140529_mr\n",
      "  Experiment: 149_20050225_mr\n",
      "  Experiment: 149_20030807_mr\n",
      "  Experiment: 149_20050720_mr\n",
      "Subject: 150\n",
      "  Experiment: 150_20180405_mr\n",
      "    Found DICOM SEG Resource in Scan SEG_20240502_151001_107_S15\n",
      "      Processing SEG_20240502_151001_107_S15.dcm...\n"
     ]
    },
    {
     "name": "stderr",
     "output_type": "stream",
     "text": [
      "  0% of 267.0 KiB |                                  |   0.0 s/B ETA:  --:--:--\n",
      "100% of 267.0 KiB |################################|   3.2 MiB/s ETA:  00:00:00\n",
      "100% of 267.0 KiB |################################|   3.2 MiB/s Time:  0:00:00\n",
      "2025-02-07 12:47:46,301 [INFO] Extracting Series Instance UID from /var/folders/rc/rclfvgm135q8nz2l8y8dq38h0000gq/T/tmpas24fqmy.dcm...\n",
      "2025-02-07 12:47:46,305 [INFO] Extracted Series Instance UID: 2.25.60989723339266705602584606098461766397\n",
      "2025-02-07 12:47:46,305 [INFO] Searching for Series Instance UID: 2.25.60989723339266705602584606098461766397 in experiment: 150_20180405_mr...\n"
     ]
    },
    {
     "name": "stdout",
     "output_type": "stream",
     "text": [
      "        Downloaded SEG_20240502_151001_107_S15.dcm to temporary file.\n"
     ]
    },
    {
     "name": "stderr",
     "output_type": "stream",
     "text": [
      "2025-02-07 12:47:46,717 [INFO] Found Series Name: Ax_T1_Post for Series UID: 2.25.60989723339266705602584606098461766397\n"
     ]
    },
    {
     "name": "stdout",
     "output_type": "stream",
     "text": [
      "/Volumes/Siren/Brain_data/1.PatientDirectory/150/MRI/Processed_New/\n",
      "Number of segments: 1\n",
      "        Removed temporary file /var/folders/rc/rclfvgm135q8nz2l8y8dq38h0000gq/T/tmpas24fqmy.dcm\n",
      "    Found DICOM SEG Resource in Scan SEG_20240502_151228_220_S15\n",
      "      Processing SEG_20240502_151228_220_S15.dcm...\n"
     ]
    },
    {
     "name": "stderr",
     "output_type": "stream",
     "text": [
      "  0% of 332.3 KiB |                                  |   0.0 s/B ETA:  --:--:--\n",
      "100% of 332.3 KiB |################################|   3.6 MiB/s ETA:  00:00:00\n",
      "100% of 332.3 KiB |################################|   3.6 MiB/s Time:  0:00:00\n",
      "2025-02-07 12:47:57,494 [INFO] Extracting Series Instance UID from /var/folders/rc/rclfvgm135q8nz2l8y8dq38h0000gq/T/tmpkl88o10x.dcm...\n",
      "2025-02-07 12:47:57,500 [INFO] Extracted Series Instance UID: 2.25.60989723339266705602584606098461766397\n",
      "2025-02-07 12:47:57,500 [INFO] Searching for Series Instance UID: 2.25.60989723339266705602584606098461766397 in experiment: 150_20180405_mr...\n",
      "2025-02-07 12:47:57,501 [INFO] Found Series Name: Ax_T1_Post for Series UID: 2.25.60989723339266705602584606098461766397\n"
     ]
    },
    {
     "name": "stdout",
     "output_type": "stream",
     "text": [
      "        Downloaded SEG_20240502_151228_220_S15.dcm to temporary file.\n",
      "/Volumes/Siren/Brain_data/1.PatientDirectory/150/MRI/Processed_New/\n",
      "Number of segments: 2\n",
      "        Removed temporary file /var/folders/rc/rclfvgm135q8nz2l8y8dq38h0000gq/T/tmpkl88o10x.dcm\n",
      "    Found DICOM SEG Resource in Scan SEG_20240502_153832_848_S9\n",
      "      Processing SEG_20240502_153832_848_S9.dcm...\n"
     ]
    },
    {
     "name": "stderr",
     "output_type": "stream",
     "text": [
      "  0% of 690.0 KiB |                                  |   0.0 s/B ETA:  --:--:--\n",
      " 74% of 690.0 KiB |#######################         |   4.3 MiB/s ETA:   0:00:00\n",
      "100% of 690.0 KiB |################################|   4.3 MiB/s Time:  0:00:00\n",
      "2025-02-07 12:48:08,389 [INFO] Extracting Series Instance UID from /var/folders/rc/rclfvgm135q8nz2l8y8dq38h0000gq/T/tmpfkxazuly.dcm...\n",
      "2025-02-07 12:48:08,397 [INFO] Extracted Series Instance UID: 2.25.236042442116031276658102018336572620236\n",
      "2025-02-07 12:48:08,397 [INFO] Searching for Series Instance UID: 2.25.236042442116031276658102018336572620236 in experiment: 150_20180405_mr...\n",
      "2025-02-07 12:48:08,398 [INFO] Found Series Name: AX_FLAIR for Series UID: 2.25.236042442116031276658102018336572620236\n"
     ]
    },
    {
     "name": "stdout",
     "output_type": "stream",
     "text": [
      "        Downloaded SEG_20240502_153832_848_S9.dcm to temporary file.\n",
      "/Volumes/Siren/Brain_data/1.PatientDirectory/150/MRI/Processed_New/\n",
      "Number of segments: 1\n",
      "        Removed temporary file /var/folders/rc/rclfvgm135q8nz2l8y8dq38h0000gq/T/tmpfkxazuly.dcm\n",
      "Subject: 151\n",
      "  Experiment: 151_20180427_ct\n",
      "  Experiment: 151_20180517_ct\n",
      "  Experiment: 151_20180426_ct\n",
      "  Experiment: 151_20180419_ct\n",
      "  Experiment: 151_20180626_mr\n",
      "  Experiment: 151_20180421_mr\n",
      "  Experiment: 151_20180424_mr\n",
      "  Experiment: 151_20180428_mr\n",
      "  Experiment: 151_20180516_mr\n",
      "  Experiment: 151_20180515_mr\n",
      "  Experiment: 151_20180725_mr\n",
      "  Experiment: 151_20180419_mr\n",
      "Subject: 152\n",
      "  Experiment: 152_20170725_mr\n",
      "  Experiment: 152_20180621_mr\n",
      "  Experiment: 152_20170722_mr\n",
      "  Experiment: 152_20170727_mr\n",
      "  Experiment: 152_20180308_mr\n",
      "  Experiment: 152_20170721_mr\n",
      "  Experiment: 152_20171229_mr\n",
      "  Experiment: 152_20180406_mr\n",
      "  Experiment: 152_20170726_ct\n",
      "  Experiment: 152_20171102_mr\n",
      "  Experiment: 152_20180808_mr\n",
      "    Found DICOM SEG Resource in Scan SEG_20240502_143332_003_S10\n",
      "      Processing SEG_20240502_143332_003_S10.dcm...\n"
     ]
    },
    {
     "name": "stderr",
     "output_type": "stream",
     "text": [
      "  0% of 312.1 KiB |                                  |   0.0 s/B ETA:  --:--:--\n",
      "100% of 312.1 KiB |################################|   4.0 MiB/s ETA:  00:00:00\n",
      "100% of 312.1 KiB |################################|   3.9 MiB/s Time:  0:00:00\n",
      "2025-02-07 12:48:25,021 [INFO] Extracting Series Instance UID from /var/folders/rc/rclfvgm135q8nz2l8y8dq38h0000gq/T/tmpnatbs8jb.dcm...\n",
      "2025-02-07 12:48:25,030 [INFO] Extracted Series Instance UID: 2.25.82386401691870602053888073902192135477\n",
      "2025-02-07 12:48:25,031 [INFO] Searching for Series Instance UID: 2.25.82386401691870602053888073902192135477 in experiment: 152_20180808_mr...\n"
     ]
    },
    {
     "name": "stdout",
     "output_type": "stream",
     "text": [
      "        Downloaded SEG_20240502_143332_003_S10.dcm to temporary file.\n"
     ]
    },
    {
     "name": "stderr",
     "output_type": "stream",
     "text": [
      "2025-02-07 12:48:25,564 [INFO] Found Series Name: Ax_3D_T1_Post for Series UID: 2.25.82386401691870602053888073902192135477\n"
     ]
    },
    {
     "name": "stdout",
     "output_type": "stream",
     "text": [
      "/Volumes/Siren/Brain_data/1.PatientDirectory/152/MRI/Processed_New/\n",
      "    Found DICOM SEG Resource in Scan SEG_20240502_145801_832_S2\n",
      "      Processing SEG_20240502_145801_832_S2.dcm...\n"
     ]
    },
    {
     "name": "stderr",
     "output_type": "stream",
     "text": [
      "  0% of 180.3 KiB |                                  |   0.0 s/B ETA:  --:--:--\n",
      "100% of 180.3 KiB |################################|   2.6 MiB/s ETA:  00:00:00\n",
      "100% of 180.3 KiB |################################|   2.6 MiB/s Time:  0:00:00\n",
      "2025-02-07 12:48:35,220 [INFO] Extracting Series Instance UID from /var/folders/rc/rclfvgm135q8nz2l8y8dq38h0000gq/T/tmprmu5bl61.dcm...\n",
      "2025-02-07 12:48:35,227 [INFO] Extracted Series Instance UID: 2.25.53308515326659087941183992769495155904\n",
      "2025-02-07 12:48:35,228 [INFO] Searching for Series Instance UID: 2.25.53308515326659087941183992769495155904 in experiment: 152_20180808_mr...\n",
      "2025-02-07 12:48:35,228 [INFO] Found Series Name: Ax_FLAIR for Series UID: 2.25.53308515326659087941183992769495155904\n"
     ]
    },
    {
     "name": "stdout",
     "output_type": "stream",
     "text": [
      "        Downloaded SEG_20240502_145801_832_S2.dcm to temporary file.\n",
      "/Volumes/Siren/Brain_data/1.PatientDirectory/152/MRI/Processed_New/\n",
      "Subject: 153\n",
      "  Experiment: 153_20100720_mr\n",
      "  Experiment: 153_20151106_mr\n",
      "  Experiment: 153_20180404_mr\n",
      "  Experiment: 153_20101019_mr\n",
      "  Experiment: 153_20120516_mr\n",
      "  Experiment: 153_20151225_mr\n",
      "  Experiment: 153_20150107_mr\n",
      "  Experiment: 153_20170915_mr\n",
      "  Experiment: 153_20150708_mr\n",
      "  Experiment: 153_20140709_mr\n",
      "  Experiment: 153_20170615_mr\n",
      "  Experiment: 153_20171221_mr\n",
      "  Experiment: 153_20100301_ct\n",
      "  Experiment: 153_20100227_ct\n",
      "  Experiment: 153_20161214_mr\n",
      "  Experiment: 153_20100228_mr\n",
      "  Experiment: 153_20160609_mr\n",
      "  Experiment: 153_20150911_mr\n",
      "  Experiment: 153_20150709_mr\n",
      "  Experiment: 153_20170317_mr\n",
      "  Experiment: 153_20160908_mr\n",
      "  Experiment: 153_20160310_mr\n",
      "  Experiment: 153_20100428_mr\n",
      "Subject: 154\n",
      "  Experiment: 154_20170329_mr\n",
      "  Experiment: 154_20161201_mr\n",
      "  Experiment: 154_20180104_mr\n",
      "  Experiment: 154_20170823_mr\n",
      "  Experiment: 154_20171107_mr\n",
      "  Experiment: 154_20180301_mr\n",
      "    Found DICOM SEG Resource in Scan SEG_20240502_134912_731_S11\n",
      "      Processing SEG_20240502_134912_731_S11.dcm...\n"
     ]
    },
    {
     "name": "stderr",
     "output_type": "stream",
     "text": [
      "  0% of 266.6 KiB |                                  |   0.0 s/B ETA:  --:--:--\n",
      "100% of 266.6 KiB |################################|   1.8 MiB/s ETA:  00:00:00\n",
      "100% of 266.6 KiB |################################|   1.8 MiB/s Time:  0:00:00\n",
      "2025-02-07 12:48:52,213 [INFO] Extracting Series Instance UID from /var/folders/rc/rclfvgm135q8nz2l8y8dq38h0000gq/T/tmp2dxsn4zb.dcm...\n",
      "2025-02-07 12:48:52,217 [INFO] Extracted Series Instance UID: 2.25.34869668201108029444264185449764864918\n",
      "2025-02-07 12:48:52,218 [INFO] Searching for Series Instance UID: 2.25.34869668201108029444264185449764864918 in experiment: 154_20180301_mr...\n"
     ]
    },
    {
     "name": "stdout",
     "output_type": "stream",
     "text": [
      "        Downloaded SEG_20240502_134912_731_S11.dcm to temporary file.\n"
     ]
    },
    {
     "name": "stderr",
     "output_type": "stream",
     "text": [
      "2025-02-07 12:48:52,694 [INFO] Found Series Name: Ax_T1_Post for Series UID: 2.25.34869668201108029444264185449764864918\n"
     ]
    },
    {
     "name": "stdout",
     "output_type": "stream",
     "text": [
      "/Volumes/Siren/Brain_data/1.PatientDirectory/154/MRI/Processed_New/\n",
      "    Found DICOM SEG Resource in Scan SEG_20240502_141151_141_S6\n",
      "      Processing SEG_20240502_141151_141_S6.dcm...\n"
     ]
    },
    {
     "name": "stderr",
     "output_type": "stream",
     "text": [
      "  0% of 624.5 KiB |                                  |   0.0 s/B ETA:  --:--:--\n",
      " 81% of 624.5 KiB |##########################      |   4.9 MiB/s ETA:   0:00:00\n",
      "100% of 624.5 KiB |################################|   4.9 MiB/s Time:  0:00:00\n",
      "2025-02-07 12:49:02,549 [INFO] Extracting Series Instance UID from /var/folders/rc/rclfvgm135q8nz2l8y8dq38h0000gq/T/tmp7jeh0kps.dcm...\n",
      "2025-02-07 12:49:02,555 [INFO] Extracted Series Instance UID: 2.25.124796362966352418378754346380467216870\n",
      "2025-02-07 12:49:02,556 [INFO] Searching for Series Instance UID: 2.25.124796362966352418378754346380467216870 in experiment: 154_20180301_mr...\n",
      "2025-02-07 12:49:02,556 [INFO] Found Series Name: AX_FLAIR for Series UID: 2.25.124796362966352418378754346380467216870\n"
     ]
    },
    {
     "name": "stdout",
     "output_type": "stream",
     "text": [
      "        Downloaded SEG_20240502_141151_141_S6.dcm to temporary file.\n",
      "/Volumes/Siren/Brain_data/1.PatientDirectory/154/MRI/Processed_New/\n",
      "  Experiment: 154_20170621_mr\n",
      "  Experiment: 154_20160811_mr\n",
      "  Experiment: 154_20160825_mr\n",
      "  Experiment: 154_20160808_mr\n",
      "  Experiment: 154_20170322_mr\n",
      "  Experiment: 154_20170713_mr\n",
      "  Experiment: 154_20170328_mr\n",
      "  Experiment: 154_20170124_mr\n",
      "Subject: 155\n",
      "  Experiment: 155_20160107_mr\n",
      "  Experiment: 155_20151029_mr\n",
      "  Experiment: 155_20151116_ct\n",
      "  Experiment: 155_20150908_ct\n",
      "  Experiment: 155_20150515_ct\n",
      "  Experiment: 155_20150917_ct\n",
      "  Experiment: 155_20150515_mr\n",
      "  Experiment: 155_20151120_mr\n",
      "  Experiment: 155_20150512_mr\n",
      "  Experiment: 155_20150901_mr\n",
      "  Experiment: 155_20150516_mr\n",
      "  Experiment: 155_20150529_mr\n",
      "Subject: 156\n",
      "  Experiment: 156_20121206_ct\n",
      "  Experiment: 156_20121231_ct\n",
      "  Experiment: 156_20121203_ct\n",
      "  Experiment: 156_20130515_mr\n",
      "  Experiment: 156_20130717_mr\n",
      "  Experiment: 156_20150908_mr\n",
      "  Experiment: 156_20151229_mr\n",
      "  Experiment: 156_20121227_mr\n",
      "  Experiment: 156_20141021_mr\n",
      "  Experiment: 156_20131126_mr\n",
      "  Experiment: 156_20121207_mr\n",
      "  Experiment: 156_20140107_mr\n",
      "  Experiment: 156_20130831_mr\n",
      "  Experiment: 156_20150728_mr\n",
      "  Experiment: 156_20150310_mr\n",
      "  Experiment: 156_20151103_mr\n",
      "  Experiment: 156_20150421_mr\n",
      "  Experiment: 156_20130313_mr\n",
      "  Experiment: 156_20130612_mr\n",
      "  Experiment: 156_20141216_mr\n",
      "  Experiment: 156_20121203_mr\n",
      "  Experiment: 156_20150124_mr\n",
      "  Experiment: 156_20140304_mr\n",
      "  Experiment: 156_20121205_mr\n",
      "  Experiment: 156_20131015_mr\n",
      "  Experiment: 156_20140923_mr\n",
      "  Experiment: 156_20150616_mr\n",
      "  Experiment: 156_20140722_mr\n",
      "Subject: 157\n",
      "  Experiment: 157_20170530_mr\n",
      "Subject: 159\n",
      "  Experiment: 159_20180710_ct\n",
      "  Experiment: 159_20180330_ct\n",
      "  Experiment: 159_20180323_ct\n",
      "  Experiment: 159_20180411_ct\n",
      "  Experiment: 159_20181210_ct\n",
      "  Experiment: 159_20181220_ct\n",
      "  Experiment: 159_20181109_mr\n",
      "  Experiment: 159_20180411_mr\n",
      "  Experiment: 159_20180926_mr\n",
      "  Experiment: 159_20181221_mr\n",
      "  Experiment: 159_20180324_mr\n",
      "  Experiment: 159_20180623_mr\n",
      "  Experiment: 159_20180412_mr\n",
      "Subject: 160\n",
      "  Experiment: 160_20171124_ct\n",
      "  Experiment: 160_20170817_ct\n",
      "  Experiment: 160_20180929_ct\n",
      "  Experiment: 160_20180912_mr\n",
      "  Experiment: 160_20170814_ct\n",
      "  Experiment: 160_20150430_ct\n",
      "  Experiment: 160_20181005_ct\n",
      "  Experiment: 160_20171124_mr\n",
      "  Experiment: 160_20180315_mr\n",
      "  Experiment: 160_20180809_mr\n",
      "  Experiment: 160_20171228_mr\n",
      "  Experiment: 160_20170815_mr\n",
      "  Experiment: 160_20180124_mr\n",
      "  Experiment: 160_20170814_mr\n",
      "  Experiment: 160_20181205_mr\n",
      "  Experiment: 160_20180929_mr\n",
      "  Experiment: 160_20171115_mr\n",
      "  Experiment: 160_20171125_mr\n",
      "  Experiment: 160_20100311_mr\n",
      "  Experiment: 160_20180531_mr\n",
      "  Experiment: 160_20180404_mr\n",
      "  Experiment: 160_20180321_mr\n",
      "Subject: 161\n",
      "  Experiment: 161_20171213_mr\n",
      "  Experiment: 161_20181122_mr\n",
      "  Experiment: 161_20170602_mr\n",
      "  Experiment: 161_20170603_mr\n",
      "  Experiment: 161_20170628_mr\n",
      "  Experiment: 161_20190314_mr\n",
      "  Experiment: 161_20170920_mr\n",
      "  Experiment: 161_20180207_mr\n",
      "  Experiment: 161_20180926_mr\n",
      "  Experiment: 161_20190122_mr\n",
      "  Experiment: 161_20180530_mr\n",
      "  Experiment: 161_20180404_mr\n",
      "  Experiment: 161_20171018_mr\n",
      "  Experiment: 161_20170519_mr\n",
      "  Experiment: 161_20170602_ct\n",
      "  Experiment: 161_20170624_ct\n",
      "  Experiment: 161_20190209_ct\n",
      "  Experiment: 161_20180725_mr\n",
      "Subject: 162\n",
      "  Experiment: 162_20190126_mr\n",
      "  Experiment: 162_20190131_mr\n",
      "  Experiment: 162_20180919_mr\n",
      "  Experiment: 162_20171208_mr\n",
      "  Experiment: 162_20190305_mr\n",
      "  Experiment: 162_20180620_mr\n",
      "  Experiment: 162_20180316_mr\n",
      "  Experiment: 162_20190207_cr\n",
      "  Experiment: 162_20170817_mr\n",
      "  Experiment: 162_20190128_ct\n",
      "  Experiment: 162_20190127_mr\n",
      "  Experiment: 162_20181226_mr\n",
      "  Experiment: 162_20170818_mr\n",
      "Subject: 163\n",
      "  Experiment: 163_20181222_mr\n",
      "  Experiment: 163_20180801_ct\n",
      "  Experiment: 163_20140725_mr\n",
      "  Experiment: 163_20111208_mr\n",
      "  Experiment: 163_20181019_mr\n",
      "  Experiment: 163_20190208_mr\n",
      "  Experiment: 163_20181218_mr\n",
      "Subject: 164\n",
      "  Experiment: 164_20160623_mr\n",
      "  Experiment: 164_20181115_mr\n",
      "  Experiment: 164_20171221_mr\n",
      "  Experiment: 164_20150604_mr\n",
      "  Experiment: 164_20180427_mr\n",
      "  Experiment: 164_20170818_mr\n",
      "  Experiment: 164_20150121_mr\n",
      "  Experiment: 164_20160310_mr\n",
      "  Experiment: 164_20181219_mr\n",
      "  Experiment: 164_20180809_mr\n",
      "  Experiment: 164_20140618_mr\n",
      "  Experiment: 164_20180216_mr\n",
      "  Experiment: 164_20151209_mr\n",
      "  Experiment: 164_20171027_mr\n",
      "  Experiment: 164_20170210_mr\n",
      "  Experiment: 164_20130302_mr\n",
      "  Experiment: 164_20161007_mr\n",
      "  Experiment: 164_20141112_mr\n",
      "  Experiment: 164_20180920_mr\n",
      "  Experiment: 164_20150326_mr\n",
      "  Experiment: 164_20140904_mr\n",
      "  Experiment: 164_20140404_mr\n",
      "  Experiment: 164_20170707_mr\n",
      "  Experiment: 164_20140123_mr\n",
      "  Experiment: 164_20130326_mr\n",
      "Subject: 165\n",
      "  Experiment: 165_20180711_mr\n",
      "  Experiment: 165_20190420_mr\n",
      "  Experiment: 165_20190219_mr\n",
      "  Experiment: 165_20180914_mr\n",
      "  Experiment: 165_20180302_mr\n",
      "  Experiment: 165_20180320_mr\n",
      "  Experiment: 165_20190526_mr\n",
      "  Experiment: 165_20190110_mr\n",
      "  Experiment: 165_20181111_mr\n",
      "  Experiment: 165_20180819_mr\n",
      "  Experiment: 165_20180317_mr\n",
      "  Experiment: 165_20180321_mr\n",
      "  Experiment: 165_20180418_mr\n",
      "  Experiment: 165_20190514_cr\n",
      "  Experiment: 165_20190309_cr\n",
      "  Experiment: 165_20180526_ct\n",
      "  Experiment: 165_20180320_ct\n",
      "  Experiment: 165_20190223_mr\n",
      "  Experiment: 165_20180626_ct\n",
      "  Experiment: 165_20180908_ct\n",
      "Subject: 166\n",
      "  Experiment: 166_20150815_ct\n",
      "  Experiment: 166_20170223_ct\n",
      "  Experiment: 166_20190416_ct\n",
      "  Experiment: 166_20151031_ct\n",
      "  Experiment: 166_20190401_ct\n",
      "  Experiment: 166_20190215_ct\n",
      "  Experiment: 166_20161019_ct\n",
      "  Experiment: 166_20190718_ct\n",
      "  Experiment: 166_20150812_ct\n",
      "  Experiment: 166_20150924_ct\n",
      "  Experiment: 166_20190511_ct\n",
      "  Experiment: 166_20170408_ct\n",
      "  Experiment: 166_20151025_ct\n",
      "  Experiment: 166_20151027_ct\n",
      "  Experiment: 166_20160322_ct\n",
      "  Experiment: 166_20190123_ct\n",
      "  Experiment: 166_20151024_ct\n",
      "  Experiment: 166_20080927_ct\n",
      "  Experiment: 166_20080927_pt\n",
      "  Experiment: 166_20180112_mr\n",
      "  Experiment: 166_20170409_mr\n",
      "  Experiment: 166_20190719_mr\n",
      "  Experiment: 166_20190402_mr\n",
      "  Experiment: 166_20190720_mr\n",
      "  Experiment: 166_20190215_mr\n",
      "  Experiment: 166_20151028_mr\n",
      "  Experiment: 166_20150816_mr\n",
      "  Experiment: 166_20190126_mr\n",
      "  Experiment: 166_20171025_mr\n",
      "  Experiment: 166_20190501_mr\n",
      "  Experiment: 166_20190327_mr\n",
      "  Experiment: 166_20161006_mr\n",
      "  Experiment: 166_20190122_mr\n",
      "  Experiment: 166_20190214_mr\n",
      "  Experiment: 166_20190722_mr\n",
      "  Experiment: 166_20180427_mr\n",
      "  Experiment: 166_20161022_mr\n",
      "  Experiment: 166_20190702_mr\n",
      "  Experiment: 166_20190216_mr\n",
      "  Experiment: 166_20181102_mr\n",
      "  Experiment: 166_20151026_mr\n",
      "  Experiment: 166_20151021_mr\n",
      "  Experiment: 166_20150813_mr\n",
      "  Experiment: 166_20160308_mr\n",
      "  Experiment: 166_20190510_mr\n",
      "  Experiment: 166_20160428_mr\n",
      "  Experiment: 166_20150909_mr\n",
      "  Experiment: 166_20151127_mr\n",
      "  Experiment: 166_20190206_mr\n",
      "  Experiment: 166_20160705_mr\n",
      "Subject: 167\n",
      "  Experiment: 167_20180810_mr\n",
      "  Experiment: 167_20190112_mr\n",
      "  Experiment: 167_20190316_mr\n",
      "  Experiment: 167_20190518_mr\n",
      "    Found DICOM SEG Resource in Scan SEG_20240502_104556_183_S12\n",
      "      Processing SEG_20240502_104556_183_S12.dcm...\n"
     ]
    },
    {
     "name": "stderr",
     "output_type": "stream",
     "text": [
      "  0% of 101.4 KiB |                                  |   0.0 s/B ETA:  --:--:--\n",
      "100% of 101.4 KiB |################################|   1.8 MiB/s ETA:  00:00:00\n",
      "100% of 101.4 KiB |################################|   1.7 MiB/s Time:  0:00:00\n",
      "2025-02-07 12:50:04,451 [INFO] Extracting Series Instance UID from /var/folders/rc/rclfvgm135q8nz2l8y8dq38h0000gq/T/tmpjybfseop.dcm...\n",
      "2025-02-07 12:50:04,456 [INFO] Extracted Series Instance UID: 2.25.227546059878099624968048449041280536069\n",
      "2025-02-07 12:50:04,457 [INFO] Searching for Series Instance UID: 2.25.227546059878099624968048449041280536069 in experiment: 167_20190518_mr...\n"
     ]
    },
    {
     "name": "stdout",
     "output_type": "stream",
     "text": [
      "        Downloaded SEG_20240502_104556_183_S12.dcm to temporary file.\n"
     ]
    },
    {
     "name": "stderr",
     "output_type": "stream",
     "text": [
      "2025-02-07 12:50:04,980 [INFO] Found Series Name: Ax_T1_Post for Series UID: 2.25.227546059878099624968048449041280536069\n"
     ]
    },
    {
     "name": "stdout",
     "output_type": "stream",
     "text": [
      "/Volumes/Siren/Brain_data/1.PatientDirectory/167/MRI/Processed_New/\n",
      "    Found DICOM SEG Resource in Scan SEG_20240502_112249_464_S6\n",
      "      Processing SEG_20240502_112249_464_S6.dcm...\n"
     ]
    },
    {
     "name": "stderr",
     "output_type": "stream",
     "text": [
      "  0% of 723.3 KiB |                                  |   0.0 s/B ETA:  --:--:--\n",
      " 70% of 723.3 KiB |######################          |   2.3 MiB/s ETA:   0:00:00\n",
      "100% of 723.3 KiB |################################|   2.3 MiB/s Time:  0:00:00\n",
      "2025-02-07 12:50:14,900 [INFO] Extracting Series Instance UID from /var/folders/rc/rclfvgm135q8nz2l8y8dq38h0000gq/T/tmp2edvs1i5.dcm...\n",
      "2025-02-07 12:50:14,905 [INFO] Extracted Series Instance UID: 2.25.177329160128238609074744034026631023762\n",
      "2025-02-07 12:50:14,906 [INFO] Searching for Series Instance UID: 2.25.177329160128238609074744034026631023762 in experiment: 167_20190518_mr...\n",
      "2025-02-07 12:50:14,907 [INFO] Found Series Name: Ax_FLAIR_FS for Series UID: 2.25.177329160128238609074744034026631023762\n"
     ]
    },
    {
     "name": "stdout",
     "output_type": "stream",
     "text": [
      "        Downloaded SEG_20240502_112249_464_S6.dcm to temporary file.\n",
      "/Volumes/Siren/Brain_data/1.PatientDirectory/167/MRI/Processed_New/\n",
      "    Found DICOM SEG Resource in Scan SEG_20240502_113037_854_S12\n",
      "      Processing SEG_20240502_113037_854_S12.dcm...\n"
     ]
    },
    {
     "name": "stderr",
     "output_type": "stream",
     "text": [
      "  0% of 187.0 KiB |                                  |   0.0 s/B ETA:  --:--:--\n",
      "100% of 187.0 KiB |################################|   2.5 MiB/s ETA:  00:00:00\n",
      "100% of 187.0 KiB |################################|   2.5 MiB/s Time:  0:00:00\n",
      "2025-02-07 12:50:24,188 [INFO] Extracting Series Instance UID from /var/folders/rc/rclfvgm135q8nz2l8y8dq38h0000gq/T/tmpfiz2z3nd.dcm...\n",
      "2025-02-07 12:50:24,195 [INFO] Extracted Series Instance UID: 2.25.227546059878099624968048449041280536069\n",
      "2025-02-07 12:50:24,195 [INFO] Searching for Series Instance UID: 2.25.227546059878099624968048449041280536069 in experiment: 167_20190518_mr...\n",
      "2025-02-07 12:50:24,196 [INFO] Found Series Name: Ax_T1_Post for Series UID: 2.25.227546059878099624968048449041280536069\n"
     ]
    },
    {
     "name": "stdout",
     "output_type": "stream",
     "text": [
      "        Downloaded SEG_20240502_113037_854_S12.dcm to temporary file.\n",
      "/Volumes/Siren/Brain_data/1.PatientDirectory/167/MRI/Processed_New/\n",
      "    Found DICOM SEG Resource in Scan SEG_20240502_113134_788_S12\n",
      "      Processing SEG_20240502_113134_788_S12.dcm...\n"
     ]
    },
    {
     "name": "stderr",
     "output_type": "stream",
     "text": [
      "  0% of 187.0 KiB |                                  |   0.0 s/B ETA:  --:--:--\n",
      "100% of 187.0 KiB |################################|   2.1 MiB/s ETA:  00:00:00\n",
      "100% of 187.0 KiB |################################|   2.1 MiB/s Time:  0:00:00\n",
      "2025-02-07 12:50:33,522 [INFO] Extracting Series Instance UID from /var/folders/rc/rclfvgm135q8nz2l8y8dq38h0000gq/T/tmp06ka44ju.dcm...\n",
      "2025-02-07 12:50:33,529 [INFO] Extracted Series Instance UID: 2.25.227546059878099624968048449041280536069\n",
      "2025-02-07 12:50:33,530 [INFO] Searching for Series Instance UID: 2.25.227546059878099624968048449041280536069 in experiment: 167_20190518_mr...\n",
      "2025-02-07 12:50:33,530 [INFO] Found Series Name: Ax_T1_Post for Series UID: 2.25.227546059878099624968048449041280536069\n"
     ]
    },
    {
     "name": "stdout",
     "output_type": "stream",
     "text": [
      "        Downloaded SEG_20240502_113134_788_S12.dcm to temporary file.\n",
      "/Volumes/Siren/Brain_data/1.PatientDirectory/167/MRI/Processed_New/\n",
      "  Experiment: 167_20180809_mr\n",
      "  Experiment: 167_20181109_mr\n",
      "Subject: 168\n",
      "  Experiment: 168_20140923_mr\n",
      "  Experiment: 168_20180802_mr\n",
      "  Experiment: 168_20150710_mr\n",
      "  Experiment: 168_20190704_mr\n",
      "  Experiment: 168_20141009_mr\n",
      "  Experiment: 168_20150211_mr\n",
      "  Experiment: 168_20180719_mr\n",
      "  Experiment: 168_20151219_mr\n",
      "  Experiment: 168_20160804_mr\n",
      "  Experiment: 168_20190124_mr\n",
      "  Experiment: 168_20181114_mr\n",
      "  Experiment: 168_20180713_mr\n",
      "  Experiment: 168_20190705_mr\n",
      "  Experiment: 168_20170211_mr\n",
      "  Experiment: 168_20180818_mr\n",
      "  Experiment: 168_20190418_mr\n",
      "  Experiment: 168_20190704_ct\n",
      "  Experiment: 168_20190705_ct\n",
      "Subject: 169\n",
      "  Experiment: 169_20150425_mr\n",
      "  Experiment: 169_20160618_mr\n",
      "  Experiment: 169_20160202_mr\n",
      "  Experiment: 169_20160326_mr\n",
      "  Experiment: 169_20150518_mr\n",
      "  Experiment: 169_20150430_mr\n",
      "  Experiment: 169_20150731_mr\n",
      "  Experiment: 169_20190820_mr\n",
      "    Found DICOM SEG Resource in Scan SEG_20240501_102827_196_S13\n",
      "      Processing SEG_20240501_102827_196_S13.dcm...\n"
     ]
    },
    {
     "name": "stderr",
     "output_type": "stream",
     "text": [
      "  0% of 431.9 KiB |                                  |   0.0 s/B ETA:  --:--:--\n",
      "100% of 431.9 KiB |################################|   3.1 MiB/s ETA:  00:00:00\n",
      "100% of 431.9 KiB |################################|   3.1 MiB/s Time:  0:00:00\n",
      "2025-02-07 12:50:50,917 [INFO] Extracting Series Instance UID from /var/folders/rc/rclfvgm135q8nz2l8y8dq38h0000gq/T/tmp22g4r6km.dcm...\n",
      "2025-02-07 12:50:50,923 [INFO] Extracted Series Instance UID: 2.25.23583647125170957342240715003421636902\n",
      "2025-02-07 12:50:50,923 [INFO] Searching for Series Instance UID: 2.25.23583647125170957342240715003421636902 in experiment: 169_20190820_mr...\n"
     ]
    },
    {
     "name": "stdout",
     "output_type": "stream",
     "text": [
      "        Downloaded SEG_20240501_102827_196_S13.dcm to temporary file.\n"
     ]
    },
    {
     "name": "stderr",
     "output_type": "stream",
     "text": [
      "2025-02-07 12:50:51,539 [INFO] Found Series Name: Ax_T1_Post for Series UID: 2.25.23583647125170957342240715003421636902\n"
     ]
    },
    {
     "name": "stdout",
     "output_type": "stream",
     "text": [
      "/Volumes/Siren/Brain_data/1.PatientDirectory/169/MRI/Processed_New/\n",
      "    Found DICOM SEG Resource in Scan SEG_20240501_111616_004_S6\n",
      "      Processing SEG_20240501_111616_004_S6.dcm...\n"
     ]
    },
    {
     "name": "stderr",
     "output_type": "stream",
     "text": [
      "  0% of 167.8 KiB |                                  |   0.0 s/B ETA:  --:--:--\n",
      "100% of 167.8 KiB |################################|   2.1 MiB/s ETA:  00:00:00\n",
      "100% of 167.8 KiB |################################|   2.0 MiB/s Time:  0:00:00\n",
      "2025-02-07 12:51:01,316 [INFO] Extracting Series Instance UID from /var/folders/rc/rclfvgm135q8nz2l8y8dq38h0000gq/T/tmpdhghrxxb.dcm...\n",
      "2025-02-07 12:51:01,322 [INFO] Extracted Series Instance UID: 2.25.293571315500225080050453131808483929178\n",
      "2025-02-07 12:51:01,323 [INFO] Searching for Series Instance UID: 2.25.293571315500225080050453131808483929178 in experiment: 169_20190820_mr...\n",
      "2025-02-07 12:51:01,323 [INFO] Found Series Name: Ax_FLAIR_FS for Series UID: 2.25.293571315500225080050453131808483929178\n"
     ]
    },
    {
     "name": "stdout",
     "output_type": "stream",
     "text": [
      "        Downloaded SEG_20240501_111616_004_S6.dcm to temporary file.\n",
      "/Volumes/Siren/Brain_data/1.PatientDirectory/169/MRI/Processed_New/\n",
      "  Experiment: 169_20180828_mr\n",
      "  Experiment: 169_20160823_mr\n",
      "  Experiment: 169_20150427_mr\n",
      "  Experiment: 169_20150429_mr\n",
      "  Experiment: 169_20161208_mr\n",
      "  Experiment: 169_20190219_mr\n",
      "  Experiment: 169_20160930_mr\n",
      "  Experiment: 169_20180420_mr\n",
      "  Experiment: 169_20151006_mr\n",
      "  Experiment: 169_20150428_ct\n",
      "  Experiment: 169_20150430_ct\n",
      "  Experiment: 169_20150519_ct\n",
      "  Experiment: 169_20151201_mr\n",
      "  Experiment: 169_20150517_ct\n",
      "  Experiment: 169_20150518_ct\n",
      "  Experiment: 169_20150515_ct\n",
      "Subject: 170\n",
      "  Experiment: 170_20190717_mr\n",
      "  Experiment: 170_20190510_mr\n",
      "  Experiment: 170_20190514_mr\n",
      "  Experiment: 170_20190515_mr\n",
      "  Experiment: 170_20190510_ct\n",
      "Subject: 171\n",
      "  Experiment: 171_20150819_mr\n",
      "  Experiment: 171_20150627_mr\n",
      "  Experiment: 171_20150309_mr\n",
      "  Experiment: 171_20160628_mr\n",
      "  Experiment: 171_20150310_mr\n",
      "  Experiment: 171_20190308_mr\n",
      "  Experiment: 171_20160309_mr\n",
      "  Experiment: 171_20170621_mr\n",
      "  Experiment: 171_20150630_mr\n",
      "  Experiment: 171_20180925_mr\n",
      "  Experiment: 171_20180725_mr\n",
      "  Experiment: 171_20180307_mr\n",
      "  Experiment: 171_20171018_mr\n",
      "  Experiment: 171_20190515_mr\n",
      "  Experiment: 171_20161019_mr\n",
      "  Experiment: 171_20190110_mr\n",
      "  Experiment: 171_20170419_mr\n",
      "  Experiment: 171_20170816_mr\n",
      "  Experiment: 171_20150311_mr\n",
      "  Experiment: 171_20190724_mr\n",
      "  Experiment: 171_20150625_mr\n",
      "  Experiment: 171_20181114_mr\n",
      "  Experiment: 171_20171219_mr\n",
      "  Experiment: 171_20151007_mr\n",
      "  Experiment: 171_20160823_mr\n",
      "  Experiment: 171_20161213_mr\n",
      "  Experiment: 171_20160112_mr\n",
      "  Experiment: 171_20170216_mr\n",
      "  Experiment: 171_20160503_mr\n",
      "  Experiment: 171_20151202_mr\n",
      "  Experiment: 171_20180529_mr\n",
      "Subject: 172\n",
      "  Experiment: 172_20190911_mr\n",
      "Subject: 173\n",
      "  Experiment: 173_20190410_mr\n",
      "  Experiment: 173_20180903_mr\n",
      "  Experiment: 173_20180831_mr\n",
      "  Experiment: 173_20190918_mr\n",
      "    Found DICOM SEG Resource in Scan SEG_20240429_201640_672_S12\n",
      "      Processing SEG_20240429_201640_672_S12.dcm...\n"
     ]
    },
    {
     "name": "stderr",
     "output_type": "stream",
     "text": [
      "  0% of 289.9 KiB |                                  |   0.0 s/B ETA:  --:--:--\n",
      "100% of 289.9 KiB |################################|   2.9 MiB/s ETA:  00:00:00\n",
      "100% of 289.9 KiB |################################|   2.9 MiB/s Time:  0:00:00\n",
      "2025-02-07 12:51:25,504 [INFO] Extracting Series Instance UID from /var/folders/rc/rclfvgm135q8nz2l8y8dq38h0000gq/T/tmpk085jtnb.dcm...\n",
      "2025-02-07 12:51:25,511 [INFO] Extracted Series Instance UID: 2.25.126065020028304165744255156731121737912\n",
      "2025-02-07 12:51:25,511 [INFO] Searching for Series Instance UID: 2.25.126065020028304165744255156731121737912 in experiment: 173_20190918_mr...\n"
     ]
    },
    {
     "name": "stdout",
     "output_type": "stream",
     "text": [
      "        Downloaded SEG_20240429_201640_672_S12.dcm to temporary file.\n"
     ]
    },
    {
     "name": "stderr",
     "output_type": "stream",
     "text": [
      "2025-02-07 12:51:26,087 [INFO] Found Series Name: Ax_T1_Post for Series UID: 2.25.126065020028304165744255156731121737912\n"
     ]
    },
    {
     "name": "stdout",
     "output_type": "stream",
     "text": [
      "/Volumes/Siren/Brain_data/1.PatientDirectory/173/MRI/Processed_New/\n",
      "    Found DICOM SEG Resource in Scan SEG_20240429_201945_200_S12\n",
      "      Processing SEG_20240429_201945_200_S12.dcm...\n"
     ]
    },
    {
     "name": "stderr",
     "output_type": "stream",
     "text": [
      "  0% of 361.0 KiB |                                  |   0.0 s/B ETA:  --:--:--\n",
      "100% of 361.0 KiB |################################|   3.1 MiB/s ETA:  00:00:00\n",
      "100% of 361.0 KiB |################################|   3.1 MiB/s Time:  0:00:00\n",
      "2025-02-07 12:51:35,904 [INFO] Extracting Series Instance UID from /var/folders/rc/rclfvgm135q8nz2l8y8dq38h0000gq/T/tmplnflonci.dcm...\n",
      "2025-02-07 12:51:35,911 [INFO] Extracted Series Instance UID: 2.25.126065020028304165744255156731121737912\n",
      "2025-02-07 12:51:35,912 [INFO] Searching for Series Instance UID: 2.25.126065020028304165744255156731121737912 in experiment: 173_20190918_mr...\n",
      "2025-02-07 12:51:35,912 [INFO] Found Series Name: Ax_T1_Post for Series UID: 2.25.126065020028304165744255156731121737912\n"
     ]
    },
    {
     "name": "stdout",
     "output_type": "stream",
     "text": [
      "        Downloaded SEG_20240429_201945_200_S12.dcm to temporary file.\n",
      "/Volumes/Siren/Brain_data/1.PatientDirectory/173/MRI/Processed_New/\n",
      "    Found DICOM SEG Resource in Scan SEG_20240429_203617_693_S7\n",
      "      Processing SEG_20240429_203617_693_S7.dcm...\n"
     ]
    },
    {
     "name": "stderr",
     "output_type": "stream",
     "text": [
      "  0% of 220.8 KiB |                                  |   0.0 s/B ETA:  --:--:--\n",
      "100% of 220.8 KiB |################################|   2.7 MiB/s ETA:  00:00:00\n",
      "100% of 220.8 KiB |################################|   2.7 MiB/s Time:  0:00:00\n",
      "2025-02-07 12:51:45,391 [INFO] Extracting Series Instance UID from /var/folders/rc/rclfvgm135q8nz2l8y8dq38h0000gq/T/tmp77qog1tm.dcm...\n",
      "2025-02-07 12:51:45,397 [INFO] Extracted Series Instance UID: 2.25.263197837017317183607603706818869433528\n",
      "2025-02-07 12:51:45,397 [INFO] Searching for Series Instance UID: 2.25.263197837017317183607603706818869433528 in experiment: 173_20190918_mr...\n",
      "2025-02-07 12:51:45,398 [INFO] Found Series Name: Ax_FLAIR for Series UID: 2.25.263197837017317183607603706818869433528\n"
     ]
    },
    {
     "name": "stdout",
     "output_type": "stream",
     "text": [
      "        Downloaded SEG_20240429_203617_693_S7.dcm to temporary file.\n",
      "/Volumes/Siren/Brain_data/1.PatientDirectory/173/MRI/Processed_New/\n",
      "  Experiment: 173_20190814_mr\n",
      "  Experiment: 173_20190111_mr\n",
      "  Experiment: 173_20181219_mr\n",
      "  Experiment: 173_20180904_mr\n",
      "  Experiment: 173_20190212_mr\n",
      "  Experiment: 173_20180901_mr\n",
      "  Experiment: 173_20190605_mr\n",
      "  Experiment: 173_20190215_ct\n",
      "  Experiment: 173_20180831_ct\n",
      "  Experiment: 173_20180922_mr\n",
      "  Experiment: 173_20190413_ct\n",
      "Subject: 174\n",
      "  Experiment: 174_20190809_ct\n",
      "  Experiment: 174_20190523_ct\n",
      "  Experiment: 174_20190525_ct\n",
      "  Experiment: 174_20190514_mr\n",
      "  Experiment: 174_20190816_mr\n",
      "    Found DICOM SEG Resource in Scan SEG_20240429_185535_402_S11\n",
      "      Processing SEG_20240429_185535_402_S11.dcm...\n"
     ]
    },
    {
     "name": "stderr",
     "output_type": "stream",
     "text": [
      "  0% of 266.8 KiB |                                  |   0.0 s/B ETA:  --:--:--\n",
      "100% of 266.8 KiB |################################|   2.9 MiB/s ETA:  00:00:00\n",
      "100% of 266.8 KiB |################################|   2.9 MiB/s Time:  0:00:00\n",
      "2025-02-07 12:51:58,801 [INFO] Extracting Series Instance UID from /var/folders/rc/rclfvgm135q8nz2l8y8dq38h0000gq/T/tmpk_m5nnds.dcm...\n",
      "2025-02-07 12:51:58,805 [INFO] Extracted Series Instance UID: 2.25.98546679865635315811008066939048475615\n",
      "2025-02-07 12:51:58,806 [INFO] Searching for Series Instance UID: 2.25.98546679865635315811008066939048475615 in experiment: 174_20190816_mr...\n"
     ]
    },
    {
     "name": "stdout",
     "output_type": "stream",
     "text": [
      "        Downloaded SEG_20240429_185535_402_S11.dcm to temporary file.\n"
     ]
    },
    {
     "name": "stderr",
     "output_type": "stream",
     "text": [
      "2025-02-07 12:51:59,248 [INFO] Found Series Name: Ax_T1_Post for Series UID: 2.25.98546679865635315811008066939048475615\n"
     ]
    },
    {
     "name": "stdout",
     "output_type": "stream",
     "text": [
      "/Volumes/Siren/Brain_data/1.PatientDirectory/174/MRI/Processed_New/\n",
      "    Found DICOM SEG Resource in Scan SEG_20240429_185617_988_S11\n",
      "      Processing SEG_20240429_185617_988_S11.dcm...\n"
     ]
    },
    {
     "name": "stderr",
     "output_type": "stream",
     "text": [
      "  0% of 266.9 KiB |                                  |   0.0 s/B ETA:  --:--:--\n",
      "100% of 266.9 KiB |################################|   2.3 MiB/s ETA:  00:00:00\n",
      "100% of 266.9 KiB |################################|   2.3 MiB/s Time:  0:00:00\n",
      "2025-02-07 12:52:09,090 [INFO] Extracting Series Instance UID from /var/folders/rc/rclfvgm135q8nz2l8y8dq38h0000gq/T/tmpoxv9knjo.dcm...\n",
      "2025-02-07 12:52:09,094 [INFO] Extracted Series Instance UID: 2.25.98546679865635315811008066939048475615\n",
      "2025-02-07 12:52:09,095 [INFO] Searching for Series Instance UID: 2.25.98546679865635315811008066939048475615 in experiment: 174_20190816_mr...\n",
      "2025-02-07 12:52:09,095 [INFO] Found Series Name: Ax_T1_Post for Series UID: 2.25.98546679865635315811008066939048475615\n"
     ]
    },
    {
     "name": "stdout",
     "output_type": "stream",
     "text": [
      "        Downloaded SEG_20240429_185617_988_S11.dcm to temporary file.\n",
      "/Volumes/Siren/Brain_data/1.PatientDirectory/174/MRI/Processed_New/\n",
      "    Found DICOM SEG Resource in Scan SEG_20240429_193331_593_S5\n",
      "      Processing SEG_20240429_193331_593_S5.dcm...\n"
     ]
    },
    {
     "name": "stderr",
     "output_type": "stream",
     "text": [
      "  0% of 194.4 KiB |                                  |   0.0 s/B ETA:  --:--:--\n",
      "100% of 194.4 KiB |################################|   2.4 MiB/s ETA:  00:00:00\n",
      "100% of 194.4 KiB |################################|   2.4 MiB/s Time:  0:00:00\n",
      "2025-02-07 12:52:18,433 [INFO] Extracting Series Instance UID from /var/folders/rc/rclfvgm135q8nz2l8y8dq38h0000gq/T/tmpprui9aet.dcm...\n",
      "2025-02-07 12:52:18,439 [INFO] Extracted Series Instance UID: 2.25.207731397786244479675033035874872842642\n",
      "2025-02-07 12:52:18,440 [INFO] Searching for Series Instance UID: 2.25.207731397786244479675033035874872842642 in experiment: 174_20190816_mr...\n",
      "2025-02-07 12:52:18,440 [INFO] Found Series Name: Ax_FLAIR_FS for Series UID: 2.25.207731397786244479675033035874872842642\n"
     ]
    },
    {
     "name": "stdout",
     "output_type": "stream",
     "text": [
      "        Downloaded SEG_20240429_193331_593_S5.dcm to temporary file.\n",
      "/Volumes/Siren/Brain_data/1.PatientDirectory/174/MRI/Processed_New/\n",
      "  Experiment: 174_20190521_mr\n",
      "  Experiment: 174_20190222_mr\n",
      "Subject: 175\n",
      "  Experiment: 175_20060728_mr\n",
      "  Experiment: 175_20191019_mr\n",
      "  Experiment: 175_20080212_mr\n",
      "  Experiment: 175_20090828_mr\n",
      "  Experiment: 175_20190919_mr\n",
      "  Experiment: 175_20190920_mr\n",
      "  Experiment: 175_20190817_mr\n",
      "  Experiment: 175_20070428_mr\n",
      "  Experiment: 175_20190822_mr\n",
      "  Experiment: 175_20190816_mr\n",
      "Subject: 176\n",
      "  Experiment: 176_20190713_mr\n",
      "  Experiment: 176_20180607_mr\n",
      "  Experiment: 176_20190409_mr\n",
      "  Experiment: 176_20180531_mr\n",
      "  Experiment: 176_20190214_mr\n",
      "  Experiment: 176_20190528_mr\n",
      "  Experiment: 176_20190924_mr\n",
      "  Experiment: 176_20191124_mr\n",
      "    Found DICOM SEG Resource in Scan SEG_20240427_101954_220_S15\n",
      "      Processing SEG_20240427_101954_220_S15.dcm...\n"
     ]
    },
    {
     "name": "stderr",
     "output_type": "stream",
     "text": [
      "  0% of 458.3 KiB |                                  |   0.0 s/B ETA:  --:--:--\n",
      "100% of 458.3 KiB |################################|   3.4 MiB/s ETA:  00:00:00\n",
      "100% of 458.3 KiB |################################|   3.4 MiB/s Time:  0:00:00\n",
      "2025-02-07 12:52:34,224 [INFO] Extracting Series Instance UID from /var/folders/rc/rclfvgm135q8nz2l8y8dq38h0000gq/T/tmpijolibn5.dcm...\n",
      "2025-02-07 12:52:34,230 [INFO] Extracted Series Instance UID: 2.25.159169472579560706946080688289095715502\n",
      "2025-02-07 12:52:34,231 [INFO] Searching for Series Instance UID: 2.25.159169472579560706946080688289095715502 in experiment: 176_20191124_mr...\n"
     ]
    },
    {
     "name": "stdout",
     "output_type": "stream",
     "text": [
      "        Downloaded SEG_20240427_101954_220_S15.dcm to temporary file.\n"
     ]
    },
    {
     "name": "stderr",
     "output_type": "stream",
     "text": [
      "2025-02-07 12:52:34,741 [INFO] Found Series Name: Ax_T1_Post for Series UID: 2.25.159169472579560706946080688289095715502\n"
     ]
    },
    {
     "name": "stdout",
     "output_type": "stream",
     "text": [
      "/Volumes/Siren/Brain_data/1.PatientDirectory/176/MRI/Processed_New/\n",
      "Number of segments: 1\n",
      "        Removed temporary file /var/folders/rc/rclfvgm135q8nz2l8y8dq38h0000gq/T/tmpijolibn5.dcm\n",
      "    Found DICOM SEG Resource in Scan SEG_20240427_102358_723_S15\n",
      "      Processing SEG_20240427_102358_723_S15.dcm...\n"
     ]
    },
    {
     "name": "stderr",
     "output_type": "stream",
     "text": [
      "  0% of 671.0 KiB |                                  |   0.0 s/B ETA:  --:--:--\n",
      " 76% of 671.0 KiB |########################        |   3.6 MiB/s ETA:   0:00:00\n",
      "100% of 671.0 KiB |################################|   3.6 MiB/s Time:  0:00:00\n",
      "2025-02-07 12:52:49,983 [INFO] Extracting Series Instance UID from /var/folders/rc/rclfvgm135q8nz2l8y8dq38h0000gq/T/tmp_4y4_tgq.dcm...\n",
      "2025-02-07 12:52:49,990 [INFO] Extracted Series Instance UID: 2.25.159169472579560706946080688289095715502\n",
      "2025-02-07 12:52:49,991 [INFO] Searching for Series Instance UID: 2.25.159169472579560706946080688289095715502 in experiment: 176_20191124_mr...\n",
      "2025-02-07 12:52:49,991 [INFO] Found Series Name: Ax_T1_Post for Series UID: 2.25.159169472579560706946080688289095715502\n"
     ]
    },
    {
     "name": "stdout",
     "output_type": "stream",
     "text": [
      "        Downloaded SEG_20240427_102358_723_S15.dcm to temporary file.\n",
      "/Volumes/Siren/Brain_data/1.PatientDirectory/176/MRI/Processed_New/\n",
      "Number of segments: 2\n",
      "        Removed temporary file /var/folders/rc/rclfvgm135q8nz2l8y8dq38h0000gq/T/tmp_4y4_tgq.dcm\n",
      "    Found DICOM SEG Resource in Scan SEG_20240427_105555_030_S7\n",
      "      Processing SEG_20240427_105555_030_S7.dcm...\n"
     ]
    },
    {
     "name": "stderr",
     "output_type": "stream",
     "text": [
      "  0% of 152.9 KiB |                                  |   0.0 s/B ETA:  --:--:--\n",
      "100% of 152.9 KiB |################################|   2.5 MiB/s ETA:  00:00:00\n",
      "100% of 152.9 KiB |################################|   2.5 MiB/s Time:  0:00:00\n",
      "2025-02-07 12:53:01,596 [INFO] Extracting Series Instance UID from /var/folders/rc/rclfvgm135q8nz2l8y8dq38h0000gq/T/tmp9qqh2g7d.dcm...\n",
      "2025-02-07 12:53:01,603 [INFO] Extracted Series Instance UID: 2.25.252468075169362792764647137818862897062\n",
      "2025-02-07 12:53:01,603 [INFO] Searching for Series Instance UID: 2.25.252468075169362792764647137818862897062 in experiment: 176_20191124_mr...\n",
      "2025-02-07 12:53:01,604 [INFO] Found Series Name: Ax_FLAIR_FS for Series UID: 2.25.252468075169362792764647137818862897062\n"
     ]
    },
    {
     "name": "stdout",
     "output_type": "stream",
     "text": [
      "        Downloaded SEG_20240427_105555_030_S7.dcm to temporary file.\n",
      "/Volumes/Siren/Brain_data/1.PatientDirectory/176/MRI/Processed_New/\n",
      "Number of segments: 1\n",
      "        Removed temporary file /var/folders/rc/rclfvgm135q8nz2l8y8dq38h0000gq/T/tmp9qqh2g7d.dcm\n",
      "  Experiment: 176_20190611_mr\n",
      "  Experiment: 176_20190612_mr\n",
      "  Experiment: 176_20190731_mr\n",
      "  Experiment: 176_20181023_mr\n",
      "  Experiment: 176_20180508_mr\n",
      "  Experiment: 176_20190212_mr\n",
      "  Experiment: 176_20180828_mr\n",
      "  Experiment: 176_20181218_mr\n",
      "Subject: 177\n",
      "  Experiment: 177_20200122_mr\n",
      "  Experiment: 177_20191225_mr\n",
      "  Experiment: 177_20190917_mr\n",
      "  Experiment: 177_20191012_mr\n",
      "  Experiment: 177_20190720_mr\n",
      "  Experiment: 177_20190110_mr\n",
      "  Experiment: 177_20190511_mr\n",
      "  Experiment: 177_20190111_mr\n",
      "  Experiment: 177_20190913_mr\n",
      "  Experiment: 177_20190215_mr\n",
      "Subject: 178\n",
      "  Experiment: 178_20060907_mr\n",
      "  Experiment: 178_20070807_mr\n",
      "  Experiment: 178_20190831_mr\n",
      "  Experiment: 178_20050217_mr\n",
      "  Experiment: 178_20070308_mr\n",
      "  Experiment: 178_20190622_mr\n",
      "  Experiment: 178_20190410_mr\n",
      "  Experiment: 178_20030430_mr\n",
      "  Experiment: 178_20080520_mr\n",
      "  Experiment: 178_20180131_mr\n",
      "  Experiment: 178_20060217_mr\n",
      "  Experiment: 178_20131109_mr\n",
      "  Experiment: 178_20100919_mr\n",
      "  Experiment: 178_20140726_mr\n",
      "  Experiment: 178_20171004_mr\n",
      "  Experiment: 178_20171101_mr\n",
      "  Experiment: 178_20080514_mr\n",
      "  Experiment: 178_20110730_mr\n",
      "  Experiment: 178_20150926_mr\n",
      "  Experiment: 178_20181227_mr\n",
      "  Experiment: 178_20141213_mr\n",
      "  Experiment: 178_20161015_mr\n",
      "  Experiment: 178_20170311_mr\n",
      "  Experiment: 178_20141101_mr\n",
      "  Experiment: 178_20180426_mr\n",
      "  Experiment: 178_20150606_mr\n",
      "  Experiment: 178_20111129_mr\n",
      "  Experiment: 178_20120331_mr\n",
      "  Experiment: 178_20140315_mr\n",
      "  Experiment: 178_20160116_mr\n",
      "  Experiment: 178_20130406_mr\n",
      "  Experiment: 178_20141214_mr\n",
      "  Experiment: 178_20171226_mr\n",
      "  Experiment: 178_20150217_mr\n",
      "  Experiment: 178_20070509_mr\n",
      "  Experiment: 178_20040817_mr\n",
      "  Experiment: 178_20130831_mr\n",
      "  Experiment: 178_20150801_mr\n",
      "  Experiment: 178_20120804_mr\n",
      "  Experiment: 178_20170106_mr\n",
      "  Experiment: 178_20080501_mr\n",
      "  Experiment: 178_20060504_mr\n",
      "  Experiment: 178_20170426_mr\n",
      "  Experiment: 178_20150411_mr\n",
      "  Experiment: 178_20161230_mr\n",
      "  Experiment: 178_20031001_mr\n",
      "  Experiment: 178_20050818_mr\n",
      "  Experiment: 178_20160713_mr\n",
      "  Experiment: 178_20040401_mr\n",
      "  Experiment: 178_20121208_mr\n",
      "  Experiment: 178_20161231_mr\n",
      "  Experiment: 178_20180320_mr\n",
      "  Experiment: 178_20170126_mr\n",
      "  Experiment: 178_20080516_mr\n",
      "  Experiment: 178_20080312_mr\n",
      "  Experiment: 178_20181027_mr\n",
      "  Experiment: 178_20161119_mr\n",
      "Subject: 179\n",
      "  Experiment: 179_20191212_mr\n",
      "  Experiment: 179_20181212_mr\n",
      "  Experiment: 179_20180621_mr\n",
      "  Experiment: 179_20190918_mr\n",
      "  Experiment: 179_20181110_mr\n",
      "  Experiment: 179_20171220_mr\n",
      "  Experiment: 179_20180115_mr\n",
      "  Experiment: 179_20171223_mr\n",
      "  Experiment: 179_20180427_mr\n",
      "  Experiment: 179_20171221_mr\n",
      "  Experiment: 179_20171219_mr\n",
      "  Experiment: 179_20180816_mr\n",
      "  Experiment: 179_20181018_mr\n",
      "  Experiment: 179_20190524_mr\n",
      "  Experiment: 179_20190222_mr\n",
      "Subject: 180\n",
      "  Experiment: 180_20200616_mr\n",
      "    Found DICOM SEG Resource in Scan SEG_20240425_195739_473_S17\n",
      "      Processing SEG_20240425_195739_473_S17.dcm...\n"
     ]
    },
    {
     "name": "stderr",
     "output_type": "stream",
     "text": [
      "  0% of 405.2 KiB |                                  |   0.0 s/B ETA:  --:--:--\n",
      "100% of 405.2 KiB |################################|   3.6 MiB/s ETA:  00:00:00\n",
      "100% of 405.2 KiB |################################|   3.6 MiB/s Time:  0:00:00\n",
      "2025-02-07 12:53:39,306 [INFO] Extracting Series Instance UID from /var/folders/rc/rclfvgm135q8nz2l8y8dq38h0000gq/T/tmpvevbyaud.dcm...\n",
      "2025-02-07 12:53:39,311 [INFO] Extracted Series Instance UID: 2.25.316471382468689792986105251900687097008\n",
      "2025-02-07 12:53:39,311 [INFO] Searching for Series Instance UID: 2.25.316471382468689792986105251900687097008 in experiment: 180_20200616_mr...\n"
     ]
    },
    {
     "name": "stdout",
     "output_type": "stream",
     "text": [
      "        Downloaded SEG_20240425_195739_473_S17.dcm to temporary file.\n"
     ]
    },
    {
     "name": "stderr",
     "output_type": "stream",
     "text": [
      "2025-02-07 12:53:40,058 [INFO] Found Series Name: Ax_T1_Post for Series UID: 2.25.316471382468689792986105251900687097008\n"
     ]
    },
    {
     "name": "stdout",
     "output_type": "stream",
     "text": [
      "/Volumes/Siren/Brain_data/1.PatientDirectory/180/MRI/Processed_New/\n",
      "Number of segments: 1\n",
      "        Removed temporary file /var/folders/rc/rclfvgm135q8nz2l8y8dq38h0000gq/T/tmpvevbyaud.dcm\n",
      "    Found DICOM SEG Resource in Scan SEG_20240425_205944_836_S6\n",
      "      Processing SEG_20240425_205944_836_S6.dcm...\n"
     ]
    },
    {
     "name": "stderr",
     "output_type": "stream",
     "text": [
      "  0% of 152.9 KiB |                                  |   0.0 s/B ETA:  --:--:--\n",
      "100% of 152.9 KiB |################################|   2.7 MiB/s ETA:  00:00:00\n",
      "100% of 152.9 KiB |################################|   2.7 MiB/s Time:  0:00:00\n",
      "2025-02-07 12:53:53,587 [INFO] Extracting Series Instance UID from /var/folders/rc/rclfvgm135q8nz2l8y8dq38h0000gq/T/tmpczc0fg_x.dcm...\n",
      "2025-02-07 12:53:53,594 [INFO] Extracted Series Instance UID: 2.25.95387755182144313726316462669323018038\n",
      "2025-02-07 12:53:53,595 [INFO] Searching for Series Instance UID: 2.25.95387755182144313726316462669323018038 in experiment: 180_20200616_mr...\n",
      "2025-02-07 12:53:53,595 [INFO] Found Series Name: Ax_FLAIR_FS for Series UID: 2.25.95387755182144313726316462669323018038\n"
     ]
    },
    {
     "name": "stdout",
     "output_type": "stream",
     "text": [
      "        Downloaded SEG_20240425_205944_836_S6.dcm to temporary file.\n",
      "/Volumes/Siren/Brain_data/1.PatientDirectory/180/MRI/Processed_New/\n",
      "Subject: 181\n",
      "  Experiment: 181_20170511_mr\n",
      "  Experiment: 181_20200516_mr\n",
      "  Experiment: 181_20200626_mr\n",
      "  Experiment: 181_20200526_mr\n",
      "Subject: 182\n",
      "  Experiment: 182_20160419_mr\n",
      "  Experiment: 182_20151031_mr\n",
      "  Experiment: 182_20161014_mr\n",
      "  Experiment: 182_20160614_mr\n",
      "  Experiment: 182_20151229_mr\n",
      "  Experiment: 182_20180424_mr\n",
      "  Experiment: 182_20141223_mr\n",
      "  Experiment: 182_20161015_mr\n",
      "  Experiment: 182_20160223_mr\n",
      "  Experiment: 182_20170221_mr\n",
      "  Experiment: 182_20161129_mr\n",
      "  Experiment: 182_20170822_mr\n",
      "  Experiment: 182_20171219_mr\n",
      "  Experiment: 182_20171024_mr\n",
      "  Experiment: 182_20160809_mr\n",
      "  Experiment: 182_20170627_mr\n",
      "  Experiment: 182_20150428_mr\n",
      "  Experiment: 182_20150728_mr\n",
      "  Experiment: 182_20190514_mr\n",
      "  Experiment: 182_20141225_mr\n",
      "  Experiment: 182_20170416_mr\n",
      "  Experiment: 182_20190212_mr\n",
      "  Experiment: 182_20181118_mr\n",
      "  Experiment: 182_20191015_mr\n",
      "    Found DICOM SEG Resource in Scan SEG_20240425_121827_318_S13\n",
      "      Processing SEG_20240425_121827_318_S13.dcm...\n"
     ]
    },
    {
     "name": "stderr",
     "output_type": "stream",
     "text": [
      "  0% of 113.2 KiB |                                  |   0.0 s/B ETA:  --:--:--\n",
      "100% of 113.2 KiB |################################|   2.0 MiB/s ETA:  00:00:00\n",
      "100% of 113.2 KiB |################################|   2.0 MiB/s Time:  0:00:00\n",
      "2025-02-07 12:54:10,254 [INFO] Extracting Series Instance UID from /var/folders/rc/rclfvgm135q8nz2l8y8dq38h0000gq/T/tmpiq037jsa.dcm...\n",
      "2025-02-07 12:54:10,257 [INFO] Extracted Series Instance UID: 2.25.293239109851551960601149717329100971299\n",
      "2025-02-07 12:54:10,258 [INFO] Searching for Series Instance UID: 2.25.293239109851551960601149717329100971299 in experiment: 182_20191015_mr...\n"
     ]
    },
    {
     "name": "stdout",
     "output_type": "stream",
     "text": [
      "        Downloaded SEG_20240425_121827_318_S13.dcm to temporary file.\n"
     ]
    },
    {
     "name": "stderr",
     "output_type": "stream",
     "text": [
      "2025-02-07 12:54:10,808 [INFO] Found Series Name: Ax_T1_Post for Series UID: 2.25.293239109851551960601149717329100971299\n"
     ]
    },
    {
     "name": "stdout",
     "output_type": "stream",
     "text": [
      "/Volumes/Siren/Brain_data/1.PatientDirectory/182/MRI/Processed_New/\n",
      "Number of segments: 1\n",
      "        Removed temporary file /var/folders/rc/rclfvgm135q8nz2l8y8dq38h0000gq/T/tmpiq037jsa.dcm\n",
      "    Found DICOM SEG Resource in Scan SEG_20240425_131714_062_S6\n",
      "      Processing SEG_20240425_131714_062_S6.dcm...\n"
     ]
    },
    {
     "name": "stderr",
     "output_type": "stream",
     "text": [
      "  0% of 204.3 KiB |                                  |   0.0 s/B ETA:  --:--:--\n",
      "100% of 204.3 KiB |################################|   2.3 MiB/s ETA:  00:00:00\n",
      "100% of 204.3 KiB |################################|   2.3 MiB/s Time:  0:00:00\n",
      "2025-02-07 12:54:24,421 [INFO] Extracting Series Instance UID from /var/folders/rc/rclfvgm135q8nz2l8y8dq38h0000gq/T/tmpcdynoubn.dcm...\n",
      "2025-02-07 12:54:24,429 [INFO] Extracted Series Instance UID: 2.25.251937880381210758921026575643727123973\n",
      "2025-02-07 12:54:24,430 [INFO] Searching for Series Instance UID: 2.25.251937880381210758921026575643727123973 in experiment: 182_20191015_mr...\n",
      "2025-02-07 12:54:24,430 [INFO] Found Series Name: Ax_FLAIR_FS for Series UID: 2.25.251937880381210758921026575643727123973\n"
     ]
    },
    {
     "name": "stdout",
     "output_type": "stream",
     "text": [
      "        Downloaded SEG_20240425_131714_062_S6.dcm to temporary file.\n",
      "/Volumes/Siren/Brain_data/1.PatientDirectory/182/MRI/Processed_New/\n",
      "Number of segments: 1\n",
      "        Removed temporary file /var/folders/rc/rclfvgm135q8nz2l8y8dq38h0000gq/T/tmpcdynoubn.dcm\n",
      "  Experiment: 182_20141220_mr\n",
      "  Experiment: 182_20161004_mr\n",
      "  Experiment: 182_20150908_mr\n",
      "  Experiment: 182_20180303_mr\n",
      "  Experiment: 182_20161221_mr\n",
      "  Experiment: 182_20161013_mr\n",
      "  Experiment: 182_20150616_mr\n",
      "  Experiment: 182_20141227_mr\n",
      "Subject: 183\n",
      "  Experiment: 183_20200704_mr\n",
      "  Experiment: 183_20200717_mr\n",
      "  Experiment: 183_20200623_mr\n",
      "  Experiment: 183_20200723_mr\n",
      "  Experiment: 183_20200722_mr\n",
      "  Experiment: 183_20201022_mr\n",
      "Subject: 184\n",
      "  Experiment: 184_20190424_mr\n",
      "  Experiment: 184_20200105_mr\n",
      "  Experiment: 184_20200221_mr\n",
      "  Experiment: 184_20190515_mr\n",
      "  Experiment: 184_20200130_mr\n",
      "  Experiment: 184_20190824_mr\n",
      "  Experiment: 184_20201113_mr\n",
      "  Experiment: 184_20190514_mr\n",
      "  Experiment: 184_20200808_mr\n",
      "  Experiment: 184_20200523_mr\n",
      "Subject: 185\n",
      "  Experiment: 185_20191231_mr\n",
      "  Experiment: 185_20170824_mr\n",
      "  Experiment: 185_20190711_mr\n",
      "  Experiment: 185_20181114_mr\n",
      "  Experiment: 185_20180718_mr\n",
      "  Experiment: 185_20180426_mr\n",
      "  Experiment: 185_20190208_mr\n",
      "  Experiment: 185_20191121_mr\n",
      "  Experiment: 185_20190314_mr\n",
      "  Experiment: 185_20171028_mr\n",
      "  Experiment: 185_20200304_mr\n",
      "  Experiment: 185_20190516_mr\n",
      "  Experiment: 185_20200507_mr\n",
      "  Experiment: 185_20200623_mr\n",
      "  Experiment: 185_20180125_mr\n",
      "  Experiment: 185_20190905_mr\n",
      "  Experiment: 185_20200929_mr\n",
      "  Experiment: 185_20160804_mr\n",
      "  Experiment: 185_20160711_mr\n",
      "  Experiment: 185_20191212_mr\n",
      "  Experiment: 185_20170505_mr\n",
      "  Experiment: 185_20160713_mr\n",
      "  Experiment: 185_20160715_mr\n",
      "  Experiment: 185_20160624_mr\n",
      "  Experiment: 185_20161025_mr\n",
      "  Experiment: 185_20170117_mr\n",
      "  Experiment: 185_20161122_mr\n",
      "  Experiment: 185_20170310_mr\n",
      "  Experiment: 185_20170703_mr\n",
      "Subject: 186\n",
      "  Experiment: 186_20200407_mr\n",
      "  Experiment: 186_20200922_mr\n",
      "  Experiment: 186_20200913_mr\n",
      "  Experiment: 186_20200714_mr\n",
      "  Experiment: 186_20200605_mr\n",
      "  Experiment: 186_20201009_mr\n",
      "  Experiment: 186_20200918_mr\n",
      "  Experiment: 186_20200328_mr\n",
      "  Experiment: 186_20200917_mr\n",
      "  Experiment: 186_20200914_mr\n",
      "  Experiment: 186_20201027_mr\n",
      "Subject: 187\n",
      "  Experiment: 187_20201217_mr\n",
      "  Experiment: 187_20201215_mr\n",
      "  Experiment: 187_20201216_mr\n",
      "Subject: 188\n",
      "  Experiment: 188_20201219_mr\n",
      "  Experiment: 188_20200624_mr\n",
      "  Experiment: 188_20200812_mr\n",
      "  Experiment: 188_20200625_mr\n",
      "  Experiment: 188_20210215_mr\n",
      "    Found DICOM SEG Resource in Scan SEG_20240424_211933_198_S11\n",
      "      Processing SEG_20240424_211933_198_S11.dcm...\n"
     ]
    },
    {
     "name": "stderr",
     "output_type": "stream",
     "text": [
      "  0% of 429.3 KiB |                                  |   0.0 s/B ETA:  --:--:--\n",
      "100% of 429.3 KiB |################################|   2.7 MiB/s ETA:  00:00:00\n",
      "100% of 429.3 KiB |################################|   2.7 MiB/s Time:  0:00:00\n",
      "2025-02-07 12:54:59,159 [INFO] Extracting Series Instance UID from /var/folders/rc/rclfvgm135q8nz2l8y8dq38h0000gq/T/tmpc_2dc597.dcm...\n",
      "2025-02-07 12:54:59,165 [INFO] Extracted Series Instance UID: 2.25.317611080703644014318162192277976765017\n",
      "2025-02-07 12:54:59,165 [INFO] Searching for Series Instance UID: 2.25.317611080703644014318162192277976765017 in experiment: 188_20210215_mr...\n"
     ]
    },
    {
     "name": "stdout",
     "output_type": "stream",
     "text": [
      "        Downloaded SEG_20240424_211933_198_S11.dcm to temporary file.\n"
     ]
    },
    {
     "name": "stderr",
     "output_type": "stream",
     "text": [
      "2025-02-07 12:54:59,655 [INFO] Found Series Name: Ax_T1_Post for Series UID: 2.25.317611080703644014318162192277976765017\n"
     ]
    },
    {
     "name": "stdout",
     "output_type": "stream",
     "text": [
      "/Volumes/Siren/Brain_data/1.PatientDirectory/188/MRI/Processed_New/\n",
      "    Found DICOM SEG Resource in Scan SEG_20240424_223126_516_S6\n",
      "      Processing SEG_20240424_223126_516_S6.dcm...\n"
     ]
    },
    {
     "name": "stderr",
     "output_type": "stream",
     "text": [
      "  0% of 657.1 KiB |                                  |   0.0 s/B ETA:  --:--:--\n",
      " 77% of 657.1 KiB |########################        |   2.9 MiB/s ETA:   0:00:00\n",
      "100% of 657.1 KiB |################################|   2.9 MiB/s Time:  0:00:00\n",
      "2025-02-07 12:55:09,576 [INFO] Extracting Series Instance UID from /var/folders/rc/rclfvgm135q8nz2l8y8dq38h0000gq/T/tmpersyfe4b.dcm...\n",
      "2025-02-07 12:55:09,585 [INFO] Extracted Series Instance UID: 2.25.336115516293826221733079447318386130866\n",
      "2025-02-07 12:55:09,585 [INFO] Searching for Series Instance UID: 2.25.336115516293826221733079447318386130866 in experiment: 188_20210215_mr...\n",
      "2025-02-07 12:55:09,586 [INFO] Found Series Name: AX_FLAIR_FS for Series UID: 2.25.336115516293826221733079447318386130866\n"
     ]
    },
    {
     "name": "stdout",
     "output_type": "stream",
     "text": [
      "        Downloaded SEG_20240424_223126_516_S6.dcm to temporary file.\n",
      "/Volumes/Siren/Brain_data/1.PatientDirectory/188/MRI/Processed_New/\n",
      "  Experiment: 188_20201120_mr\n",
      "Subject: 189\n",
      "  Experiment: 189_20200729_mr\n",
      "  Experiment: 189_20171118_mr\n",
      "  Experiment: 189_20201219_mr\n",
      "  Experiment: 189_20180627_mr\n",
      "  Experiment: 189_20190222_mr\n",
      "  Experiment: 189_20210121_mr\n",
      "  Experiment: 189_20170222_mr\n",
      "  Experiment: 189_20180912_mr\n",
      "  Experiment: 189_20201125_mr\n",
      "  Experiment: 189_20190223_mr\n",
      "  Experiment: 189_20200110_mr\n",
      "  Experiment: 189_20180522_mr\n",
      "  Experiment: 189_20200311_mr\n",
      "  Experiment: 189_20201225_mr\n",
      "  Experiment: 189_20130528_mr\n",
      "  Experiment: 189_20180221_mr\n",
      "  Experiment: 189_20151201_mr\n",
      "  Experiment: 189_20130527_mr\n",
      "  Experiment: 189_20130928_mr\n",
      "  Experiment: 189_20141118_mr\n",
      "  Experiment: 189_20130524_mr\n",
      "  Experiment: 189_20190208_mr\n",
      "  Experiment: 189_20191030_mr\n",
      "  Experiment: 189_20181114_mr\n",
      "  Experiment: 189_20200923_mr\n",
      "  Experiment: 189_20201024_mr\n",
      "  Experiment: 189_20070419_mr\n",
      "  Experiment: 189_20190418_mr\n",
      "  Experiment: 189_20200617_mr\n",
      "  Experiment: 189_20200422_mr\n",
      "  Experiment: 189_20140522_mr\n",
      "  Experiment: 189_20180613_mr\n",
      "  Experiment: 189_20190613_mr\n",
      "  Experiment: 189_20150521_mr\n",
      "  Experiment: 189_20170830_mr\n",
      "  Experiment: 189_20180529_mr\n",
      "  Experiment: 189_20180516_mr\n",
      "  Experiment: 189_20131226_mr\n",
      "  Experiment: 189_20201212_mr\n",
      "  Experiment: 189_20140716_mr\n",
      "  Experiment: 189_20130525_mr\n",
      "  Experiment: 189_20190710_mr\n",
      "  Experiment: 189_20190904_mr\n",
      "  Experiment: 189_20160819_mr\n",
      "  Experiment: 189_20190206_mr\n",
      "Subject: 191\n",
      "  Experiment: 191_20131116_mr\n",
      "  Experiment: 191_20150317_mr\n",
      "  Experiment: 191_20141122_mr\n",
      "  Experiment: 191_20161130_mr\n",
      "  Experiment: 191_20160610_mr\n",
      "  Experiment: 191_20181017_mr\n",
      "  Experiment: 191_20140523_mr\n",
      "  Experiment: 191_20170413_mr\n",
      "  Experiment: 191_20190919_mr\n",
      "  Experiment: 191_20150910_mr\n",
      "  Experiment: 191_20191121_mr\n",
      "  Experiment: 191_20200923_mr\n",
      "  Experiment: 191_20200701_mr\n",
      "  Experiment: 191_20201124_mr\n",
      "    Found DICOM SEG Resource in Scan SEG_20240423_111920_295_S15\n",
      "      Processing SEG_20240423_111920_295_S15.dcm...\n"
     ]
    },
    {
     "name": "stderr",
     "output_type": "stream",
     "text": [
      "  0% of 657.5 KiB |                                  |   0.0 s/B ETA:  --:--:--\n",
      " 77% of 657.5 KiB |########################        |   3.1 MiB/s ETA:   0:00:00\n",
      "100% of 657.5 KiB |################################|   3.1 MiB/s Time:  0:00:00\n",
      "2025-02-07 12:55:36,734 [INFO] Extracting Series Instance UID from /var/folders/rc/rclfvgm135q8nz2l8y8dq38h0000gq/T/tmp338si1yd.dcm...\n",
      "2025-02-07 12:55:36,744 [INFO] Extracted Series Instance UID: 2.25.321755440246149875328845268581292632864\n",
      "2025-02-07 12:55:36,745 [INFO] Searching for Series Instance UID: 2.25.321755440246149875328845268581292632864 in experiment: 191_20201124_mr...\n"
     ]
    },
    {
     "name": "stdout",
     "output_type": "stream",
     "text": [
      "        Downloaded SEG_20240423_111920_295_S15.dcm to temporary file.\n"
     ]
    },
    {
     "name": "stderr",
     "output_type": "stream",
     "text": [
      "2025-02-07 12:55:37,326 [INFO] Found Series Name: Ax_T1_Post for Series UID: 2.25.321755440246149875328845268581292632864\n"
     ]
    },
    {
     "name": "stdout",
     "output_type": "stream",
     "text": [
      "/Volumes/Siren/Brain_data/1.PatientDirectory/191/MRI/Processed_New/\n",
      "Number of segments: 1\n",
      "        Removed temporary file /var/folders/rc/rclfvgm135q8nz2l8y8dq38h0000gq/T/tmp338si1yd.dcm\n",
      "    Found DICOM SEG Resource in Scan SEG_20240423_112415_439_S15\n",
      "      Processing SEG_20240423_112415_439_S15.dcm...\n"
     ]
    },
    {
     "name": "stderr",
     "output_type": "stream",
     "text": [
      "  0% of 787.9 KiB |                                  |   0.0 s/B ETA:  --:--:--\n",
      " 64% of 787.9 KiB |####################            |   3.3 MiB/s ETA:   0:00:00\n",
      "100% of 787.9 KiB |################################|   3.3 MiB/s ETA:  00:00:00\n",
      "100% of 787.9 KiB |################################|   3.3 MiB/s Time:  0:00:00\n",
      "2025-02-07 12:55:50,946 [INFO] Extracting Series Instance UID from /var/folders/rc/rclfvgm135q8nz2l8y8dq38h0000gq/T/tmp3gbl681h.dcm...\n",
      "2025-02-07 12:55:50,955 [INFO] Extracted Series Instance UID: 2.25.321755440246149875328845268581292632864\n",
      "2025-02-07 12:55:50,956 [INFO] Searching for Series Instance UID: 2.25.321755440246149875328845268581292632864 in experiment: 191_20201124_mr...\n",
      "2025-02-07 12:55:50,957 [INFO] Found Series Name: Ax_T1_Post for Series UID: 2.25.321755440246149875328845268581292632864\n"
     ]
    },
    {
     "name": "stdout",
     "output_type": "stream",
     "text": [
      "        Downloaded SEG_20240423_112415_439_S15.dcm to temporary file.\n",
      "/Volumes/Siren/Brain_data/1.PatientDirectory/191/MRI/Processed_New/\n",
      "Number of segments: 2\n",
      "        Removed temporary file /var/folders/rc/rclfvgm135q8nz2l8y8dq38h0000gq/T/tmp3gbl681h.dcm\n",
      "    Found DICOM SEG Resource in Scan SEG_20240423_121717_180_S11\n",
      "      Processing SEG_20240423_121717_180_S11.dcm...\n"
     ]
    },
    {
     "name": "stderr",
     "output_type": "stream",
     "text": [
      "  0% of 657.5 KiB |                                  |   0.0 s/B ETA:  --:--:--\n",
      " 77% of 657.5 KiB |########################        |   3.6 MiB/s ETA:   0:00:00\n",
      "100% of 657.5 KiB |################################|   3.6 MiB/s ETA:  00:00:00\n",
      "100% of 657.5 KiB |################################|   3.6 MiB/s Time:  0:00:00\n",
      "2025-02-07 12:56:02,861 [INFO] Extracting Series Instance UID from /var/folders/rc/rclfvgm135q8nz2l8y8dq38h0000gq/T/tmpz50y2oay.dcm...\n",
      "2025-02-07 12:56:02,870 [INFO] Extracted Series Instance UID: 2.25.165584599533136136988241738049445939039\n",
      "2025-02-07 12:56:02,870 [INFO] Searching for Series Instance UID: 2.25.165584599533136136988241738049445939039 in experiment: 191_20201124_mr...\n",
      "2025-02-07 12:56:02,871 [INFO] Found Series Name: AX_FLAIR for Series UID: 2.25.165584599533136136988241738049445939039\n"
     ]
    },
    {
     "name": "stdout",
     "output_type": "stream",
     "text": [
      "        Downloaded SEG_20240423_121717_180_S11.dcm to temporary file.\n",
      "/Volumes/Siren/Brain_data/1.PatientDirectory/191/MRI/Processed_New/\n",
      "Number of segments: 1\n",
      "        Removed temporary file /var/folders/rc/rclfvgm135q8nz2l8y8dq38h0000gq/T/tmpz50y2oay.dcm\n",
      "  Experiment: 191_20160409_mr\n",
      "  Experiment: 191_20150715_mr\n",
      "  Experiment: 191_20160114_mr\n",
      "  Experiment: 191_20170727_mr\n",
      "  Experiment: 191_20190214_mr\n",
      "  Experiment: 191_20171019_mr\n",
      "  Experiment: 191_20150107_mr\n",
      "  Experiment: 191_20180222_mr\n",
      "  Experiment: 191_20200506_mr\n",
      "  Experiment: 191_20180104_mr\n",
      "  Experiment: 191_20140314_mr\n",
      "  Experiment: 191_20140801_mr\n",
      "  Experiment: 191_20160909_mr\n",
      "  Experiment: 191_20180801_mr\n",
      "  Experiment: 191_20200312_mr\n",
      "  Experiment: 191_20200821_mr\n",
      "  Experiment: 191_20150515_mr\n",
      "  Experiment: 191_20200111_mr\n",
      "  Experiment: 191_20170502_ct\n",
      "  Experiment: 191_20190516_mr\n",
      "  Experiment: 191_20190621_mr\n",
      "  Experiment: 191_20180517_mr\n",
      "  Experiment: 191_20141008_mr\n",
      "  Experiment: 191_20190601_mr\n",
      "  Experiment: 191_20170503_mr\n",
      "  Experiment: 191_20151119_mr\n",
      "  Experiment: 191_20190228_mr\n",
      "  Experiment: 191_20131118_mr\n",
      "  Experiment: 191_20201018_mr\n",
      "  Experiment: 191_20200730_mr\n",
      "  Experiment: 191_20170502_mr\n",
      "  Experiment: 191_20190531_mr\n",
      "  Experiment: 191_20141007_mr\n",
      "  Experiment: 191_20131120_mr\n",
      "  Experiment: 191_20201002_mr\n",
      "  Experiment: 191_20141002_mr\n",
      "Subject: 192\n",
      "  Experiment: 192_20200211_mr\n",
      "  Experiment: 192_20200612_mr\n",
      "  Experiment: 192_20210123_mr\n",
      "  Experiment: 192_20200828_mr\n",
      "  Experiment: 192_20210223_mr\n",
      "    Found DICOM SEG Resource in Scan SEG_20240417_165753_444_S13\n",
      "      Processing SEG_20240417_165753_444_S13.dcm...\n"
     ]
    },
    {
     "name": "stderr",
     "output_type": "stream",
     "text": [
      "  0% of 378.6 KiB |                                  |   0.0 s/B ETA:  --:--:--\n",
      "100% of 378.6 KiB |################################|   3.4 MiB/s ETA:  00:00:00\n",
      "100% of 378.6 KiB |################################|   3.4 MiB/s Time:  0:00:00\n",
      "2025-02-07 12:56:26,748 [INFO] Extracting Series Instance UID from /var/folders/rc/rclfvgm135q8nz2l8y8dq38h0000gq/T/tmpcyyxt4g3.dcm...\n",
      "2025-02-07 12:56:26,753 [INFO] Extracted Series Instance UID: 2.25.75262431975167142641675292328289859783\n",
      "2025-02-07 12:56:26,754 [INFO] Searching for Series Instance UID: 2.25.75262431975167142641675292328289859783 in experiment: 192_20210223_mr...\n"
     ]
    },
    {
     "name": "stdout",
     "output_type": "stream",
     "text": [
      "        Downloaded SEG_20240417_165753_444_S13.dcm to temporary file.\n"
     ]
    },
    {
     "name": "stderr",
     "output_type": "stream",
     "text": [
      "2025-02-07 12:56:27,358 [INFO] Found Series Name: Ax_T1_Post for Series UID: 2.25.75262431975167142641675292328289859783\n"
     ]
    },
    {
     "name": "stdout",
     "output_type": "stream",
     "text": [
      "/Volumes/Siren/Brain_data/1.PatientDirectory/192/MRI/Processed_New/\n",
      "    Found DICOM SEG Resource in Scan SEG_20240417_173545_787_S6\n",
      "      Processing SEG_20240417_173545_787_S6.dcm...\n"
     ]
    },
    {
     "name": "stderr",
     "output_type": "stream",
     "text": [
      "  0% of 167.5 KiB |                                  |   0.0 s/B ETA:  --:--:--\n",
      "100% of 167.5 KiB |################################|   2.4 MiB/s ETA:  00:00:00\n",
      "100% of 167.5 KiB |################################|   2.4 MiB/s Time:  0:00:00\n",
      "2025-02-07 12:56:37,264 [INFO] Extracting Series Instance UID from /var/folders/rc/rclfvgm135q8nz2l8y8dq38h0000gq/T/tmp_rvpgr3l.dcm...\n",
      "2025-02-07 12:56:37,270 [INFO] Extracted Series Instance UID: 2.25.284714535473187960588481410579493986128\n",
      "2025-02-07 12:56:37,271 [INFO] Searching for Series Instance UID: 2.25.284714535473187960588481410579493986128 in experiment: 192_20210223_mr...\n",
      "2025-02-07 12:56:37,271 [INFO] Found Series Name: Ax_FLAIR_FS for Series UID: 2.25.284714535473187960588481410579493986128\n"
     ]
    },
    {
     "name": "stdout",
     "output_type": "stream",
     "text": [
      "        Downloaded SEG_20240417_173545_787_S6.dcm to temporary file.\n",
      "/Volumes/Siren/Brain_data/1.PatientDirectory/192/MRI/Processed_New/\n",
      "    Found DICOM SEG Resource in Scan SEG_20240417_173858_632_S13\n",
      "      Processing SEG_20240417_173858_632_S13.dcm...\n"
     ]
    },
    {
     "name": "stderr",
     "output_type": "stream",
     "text": [
      "  0% of 485.1 KiB |                                  |   0.0 s/B ETA:  --:--:--\n",
      "100% of 485.1 KiB |################################|   3.8 MiB/s ETA:  00:00:00\n",
      "100% of 485.1 KiB |################################|   3.8 MiB/s Time:  0:00:00\n",
      "2025-02-07 12:56:46,563 [INFO] Extracting Series Instance UID from /var/folders/rc/rclfvgm135q8nz2l8y8dq38h0000gq/T/tmpfo9htftm.dcm...\n",
      "2025-02-07 12:56:46,571 [INFO] Extracted Series Instance UID: 2.25.75262431975167142641675292328289859783\n",
      "2025-02-07 12:56:46,571 [INFO] Searching for Series Instance UID: 2.25.75262431975167142641675292328289859783 in experiment: 192_20210223_mr...\n",
      "2025-02-07 12:56:46,572 [INFO] Found Series Name: Ax_T1_Post for Series UID: 2.25.75262431975167142641675292328289859783\n"
     ]
    },
    {
     "name": "stdout",
     "output_type": "stream",
     "text": [
      "        Downloaded SEG_20240417_173858_632_S13.dcm to temporary file.\n",
      "/Volumes/Siren/Brain_data/1.PatientDirectory/192/MRI/Processed_New/\n",
      "  Experiment: 192_20201103_mr\n",
      "  Experiment: 192_20200122_mr\n",
      "  Experiment: 192_20201201_mr\n",
      "  Experiment: 192_20191228_mr\n",
      "  Experiment: 192_20191226_mr\n",
      "  Experiment: 192_20200428_mr\n",
      "  Experiment: 192_20200114_mr\n",
      "  Experiment: 192_20200121_mr\n",
      "Subject: 193\n",
      "  Experiment: 193_20210130_mr\n",
      "  Experiment: 193_20201130_mr\n",
      "  Experiment: 193_20210327_mr\n",
      "  Experiment: 193_20201201_mr\n",
      "  Experiment: 193_20210522_mr\n",
      "  Experiment: 193_20201127_mr\n",
      "Subject: 194\n",
      "  Experiment: 194_20210518_mr\n",
      "  Experiment: 194_20201125_mr\n",
      "  Experiment: 194_20210313_mr\n",
      "  Experiment: 194_20200627_mr\n",
      "  Experiment: 194_20210120_mr\n",
      "  Experiment: 194_20201003_mr\n",
      "  Experiment: 194_20200703_mr\n",
      "  Experiment: 194_20200721_mr\n",
      "Subject: 195\n",
      "  Experiment: 195_20201230_mr\n",
      "  Experiment: 195_20210211_mr\n",
      "  Experiment: 195_20210206_mr\n",
      "  Experiment: 195_20210413_mr\n",
      "    Found DICOM SEG Resource in Scan SEG_20240417_145730_361_S11\n",
      "      Processing SEG_20240417_145730_361_S11.dcm...\n"
     ]
    },
    {
     "name": "stderr",
     "output_type": "stream",
     "text": [
      "  0% of 332.2 KiB |                                  |   0.0 s/B ETA:  --:--:--\n",
      "100% of 332.2 KiB |################################|   2.9 MiB/s ETA:  00:00:00\n",
      "100% of 332.2 KiB |################################|   2.9 MiB/s Time:  0:00:00\n",
      "2025-02-07 12:57:03,718 [INFO] Extracting Series Instance UID from /var/folders/rc/rclfvgm135q8nz2l8y8dq38h0000gq/T/tmpqy187z_s.dcm...\n",
      "2025-02-07 12:57:03,723 [INFO] Extracted Series Instance UID: 2.25.34478432670884236995207560097424329725\n",
      "2025-02-07 12:57:03,723 [INFO] Searching for Series Instance UID: 2.25.34478432670884236995207560097424329725 in experiment: 195_20210413_mr...\n"
     ]
    },
    {
     "name": "stdout",
     "output_type": "stream",
     "text": [
      "        Downloaded SEG_20240417_145730_361_S11.dcm to temporary file.\n"
     ]
    },
    {
     "name": "stderr",
     "output_type": "stream",
     "text": [
      "2025-02-07 12:57:04,151 [INFO] Found Series Name: Ax_T1_Post for Series UID: 2.25.34478432670884236995207560097424329725\n"
     ]
    },
    {
     "name": "stdout",
     "output_type": "stream",
     "text": [
      "/Volumes/Siren/Brain_data/1.PatientDirectory/195/MRI/Processed_New/\n",
      "    Found DICOM SEG Resource in Scan SEG_20240417_162445_018_S5\n",
      "      Processing SEG_20240417_162445_018_S5.dcm...\n"
     ]
    },
    {
     "name": "stderr",
     "output_type": "stream",
     "text": [
      "  0% of 625.1 KiB |                                  |   0.0 s/B ETA:  --:--:--\n",
      " 81% of 625.1 KiB |##########################      |   3.7 MiB/s ETA:   0:00:00\n",
      "100% of 625.1 KiB |################################|   3.7 MiB/s Time:  0:00:00\n",
      "2025-02-07 12:57:13,949 [INFO] Extracting Series Instance UID from /var/folders/rc/rclfvgm135q8nz2l8y8dq38h0000gq/T/tmp19lp2tie.dcm...\n",
      "2025-02-07 12:57:13,956 [INFO] Extracted Series Instance UID: 2.25.316701356828008868641831678458326908581\n",
      "2025-02-07 12:57:13,957 [INFO] Searching for Series Instance UID: 2.25.316701356828008868641831678458326908581 in experiment: 195_20210413_mr...\n",
      "2025-02-07 12:57:13,957 [INFO] Found Series Name: AX_FLAIR_FS for Series UID: 2.25.316701356828008868641831678458326908581\n"
     ]
    },
    {
     "name": "stdout",
     "output_type": "stream",
     "text": [
      "        Downloaded SEG_20240417_162445_018_S5.dcm to temporary file.\n",
      "/Volumes/Siren/Brain_data/1.PatientDirectory/195/MRI/Processed_New/\n",
      "    Found DICOM SEG Resource in Scan SEG_20240417_162639_271_S11\n",
      "      Processing SEG_20240417_162639_271_S11.dcm...\n"
     ]
    },
    {
     "name": "stderr",
     "output_type": "stream",
     "text": [
      "  0% of 104.4 KiB |                                  |   0.0 s/B ETA:  --:--:--\n",
      "100% of 104.4 KiB |################################|   1.7 MiB/s ETA:  00:00:00\n",
      "100% of 104.4 KiB |################################|   1.7 MiB/s Time:  0:00:00\n",
      "2025-02-07 12:57:23,165 [INFO] Extracting Series Instance UID from /var/folders/rc/rclfvgm135q8nz2l8y8dq38h0000gq/T/tmpts45p2yj.dcm...\n",
      "2025-02-07 12:57:23,168 [INFO] Extracted Series Instance UID: 2.25.34478432670884236995207560097424329725\n",
      "2025-02-07 12:57:23,169 [INFO] Searching for Series Instance UID: 2.25.34478432670884236995207560097424329725 in experiment: 195_20210413_mr...\n",
      "2025-02-07 12:57:23,169 [INFO] Found Series Name: Ax_T1_Post for Series UID: 2.25.34478432670884236995207560097424329725\n"
     ]
    },
    {
     "name": "stdout",
     "output_type": "stream",
     "text": [
      "        Downloaded SEG_20240417_162639_271_S11.dcm to temporary file.\n",
      "/Volumes/Siren/Brain_data/1.PatientDirectory/195/MRI/Processed_New/\n",
      "Subject: 199\n",
      "  Experiment: 199_20210605_mr\n",
      "    Found DICOM SEG Resource in Scan SEG_20240416_163259_025_S12\n",
      "      Processing SEG_20240416_163259_025_S12.dcm...\n"
     ]
    },
    {
     "name": "stderr",
     "output_type": "stream",
     "text": [
      "  0% of 397.3 KiB |                                  |   0.0 s/B ETA:  --:--:--\n",
      "100% of 397.3 KiB |################################|   3.1 MiB/s ETA:  00:00:00\n",
      "100% of 397.3 KiB |################################|   3.1 MiB/s Time:  0:00:00\n",
      "2025-02-07 12:57:32,914 [INFO] Extracting Series Instance UID from /var/folders/rc/rclfvgm135q8nz2l8y8dq38h0000gq/T/tmptwrl9k39.dcm...\n",
      "2025-02-07 12:57:32,920 [INFO] Extracted Series Instance UID: 2.25.89517086856392510385623992237626975687\n",
      "2025-02-07 12:57:32,920 [INFO] Searching for Series Instance UID: 2.25.89517086856392510385623992237626975687 in experiment: 199_20210605_mr...\n"
     ]
    },
    {
     "name": "stdout",
     "output_type": "stream",
     "text": [
      "        Downloaded SEG_20240416_163259_025_S12.dcm to temporary file.\n"
     ]
    },
    {
     "name": "stderr",
     "output_type": "stream",
     "text": [
      "2025-02-07 12:57:33,489 [INFO] Found Series Name: Ax_T1_Post for Series UID: 2.25.89517086856392510385623992237626975687\n"
     ]
    },
    {
     "name": "stdout",
     "output_type": "stream",
     "text": [
      "/Volumes/Siren/Brain_data/1.PatientDirectory/199/MRI/Processed_New/\n",
      "Number of segments: 1\n",
      "        Removed temporary file /var/folders/rc/rclfvgm135q8nz2l8y8dq38h0000gq/T/tmptwrl9k39.dcm\n",
      "    Found DICOM SEG Resource in Scan SEG_20240416_170341_976_S5\n",
      "      Processing SEG_20240416_170341_976_S5.dcm...\n"
     ]
    },
    {
     "name": "stderr",
     "output_type": "stream",
     "text": [
      "  0% of 211.8 KiB |                                  |   0.0 s/B ETA:  --:--:--\n",
      "100% of 211.8 KiB |################################|   2.7 MiB/s ETA:  00:00:00\n",
      "100% of 211.8 KiB |################################|   2.7 MiB/s Time:  0:00:00\n",
      "2025-02-07 12:57:46,470 [INFO] Extracting Series Instance UID from /var/folders/rc/rclfvgm135q8nz2l8y8dq38h0000gq/T/tmp_r4rrjxf.dcm...\n",
      "2025-02-07 12:57:46,478 [INFO] Extracted Series Instance UID: 2.25.97419227196518041186482000843149198540\n",
      "2025-02-07 12:57:46,478 [INFO] Searching for Series Instance UID: 2.25.97419227196518041186482000843149198540 in experiment: 199_20210605_mr...\n",
      "2025-02-07 12:57:46,478 [INFO] Found Series Name: Ax_FLAIR_FS for Series UID: 2.25.97419227196518041186482000843149198540\n"
     ]
    },
    {
     "name": "stdout",
     "output_type": "stream",
     "text": [
      "        Downloaded SEG_20240416_170341_976_S5.dcm to temporary file.\n",
      "/Volumes/Siren/Brain_data/1.PatientDirectory/199/MRI/Processed_New/\n",
      "    Found DICOM SEG Resource in Scan SEG_20240416_170715_804_S12\n",
      "      Processing SEG_20240416_170715_804_S12.dcm...\n"
     ]
    },
    {
     "name": "stderr",
     "output_type": "stream",
     "text": [
      "  0% of 592.8 KiB |                                  |   0.0 s/B ETA:  --:--:--\n",
      " 86% of 592.8 KiB |###########################     |   3.3 MiB/s ETA:   0:00:00\n",
      "100% of 592.8 KiB |################################|   3.3 MiB/s Time:  0:00:00\n",
      "2025-02-07 12:57:55,986 [INFO] Extracting Series Instance UID from /var/folders/rc/rclfvgm135q8nz2l8y8dq38h0000gq/T/tmpla2tmn_b.dcm...\n",
      "2025-02-07 12:57:55,993 [INFO] Extracted Series Instance UID: 2.25.89517086856392510385623992237626975687\n",
      "2025-02-07 12:57:55,994 [INFO] Searching for Series Instance UID: 2.25.89517086856392510385623992237626975687 in experiment: 199_20210605_mr...\n",
      "2025-02-07 12:57:55,994 [INFO] Found Series Name: Ax_T1_Post for Series UID: 2.25.89517086856392510385623992237626975687\n"
     ]
    },
    {
     "name": "stdout",
     "output_type": "stream",
     "text": [
      "        Downloaded SEG_20240416_170715_804_S12.dcm to temporary file.\n",
      "/Volumes/Siren/Brain_data/1.PatientDirectory/199/MRI/Processed_New/\n",
      "Number of segments: 2\n",
      "        Removed temporary file /var/folders/rc/rclfvgm135q8nz2l8y8dq38h0000gq/T/tmpla2tmn_b.dcm\n",
      "    Found DICOM SEG Resource in Scan SEG_20240416_170754_708_S12\n",
      "      Processing SEG_20240416_170754_708_S12.dcm...\n"
     ]
    },
    {
     "name": "stderr",
     "output_type": "stream",
     "text": [
      "  0% of 592.8 KiB |                                  |   0.0 s/B ETA:  --:--:--\n",
      " 86% of 592.8 KiB |###########################     |   3.8 MiB/s ETA:   0:00:00\n",
      "100% of 592.8 KiB |################################|   3.8 MiB/s Time:  0:00:00\n",
      "2025-02-07 12:58:08,077 [INFO] Extracting Series Instance UID from /var/folders/rc/rclfvgm135q8nz2l8y8dq38h0000gq/T/tmp2_xy8brj.dcm...\n",
      "2025-02-07 12:58:08,083 [INFO] Extracted Series Instance UID: 2.25.89517086856392510385623992237626975687\n",
      "2025-02-07 12:58:08,083 [INFO] Searching for Series Instance UID: 2.25.89517086856392510385623992237626975687 in experiment: 199_20210605_mr...\n",
      "2025-02-07 12:58:08,084 [INFO] Found Series Name: Ax_T1_Post for Series UID: 2.25.89517086856392510385623992237626975687\n"
     ]
    },
    {
     "name": "stdout",
     "output_type": "stream",
     "text": [
      "        Downloaded SEG_20240416_170754_708_S12.dcm to temporary file.\n",
      "/Volumes/Siren/Brain_data/1.PatientDirectory/199/MRI/Processed_New/\n",
      "Number of segments: 2\n",
      "        Removed temporary file /var/folders/rc/rclfvgm135q8nz2l8y8dq38h0000gq/T/tmp2_xy8brj.dcm\n",
      "  Experiment: 199_20210511_mr\n",
      "  Experiment: 199_20210409_mr\n",
      "  Experiment: 199_20210219_mr\n",
      "  Experiment: 199_20210128_mr\n",
      "  Experiment: 199_20201129_mr\n",
      "  Experiment: 199_20200903_mr\n",
      "  Experiment: 199_20200723_mr\n",
      "  Experiment: 199_20200603_mr\n",
      "  Experiment: 199_20200408_mr\n",
      "  Experiment: 199_20200115_mr\n",
      "  Experiment: 199_20191206_mr\n",
      "  Experiment: 199_20191023_mr\n",
      "  Experiment: 199_20191008_mr\n",
      "  Experiment: 199_20190924_mr\n",
      "  Experiment: 199_20190808_mr\n",
      "  Experiment: 199_20190531_mr\n",
      "  Experiment: 199_20190525_mr\n",
      "  Experiment: 199_20190524_mr\n",
      "  Experiment: 199_20190517_mr\n",
      "  Experiment: 199_20190427_mr\n",
      "  Experiment: 199_20190426_mr\n",
      "  Experiment: 199_20190425_mr\n",
      "  Experiment: 199_20190424_mr\n",
      "  Experiment: 199_20190423_mr\n",
      "Subject: 198\n",
      "  Experiment: 198_20210907_mr\n",
      "  Experiment: 198_20210821_mr\n",
      "  Experiment: 198_20210715_mr\n",
      "  Experiment: 198_20210525_mr\n",
      "  Experiment: 198_20210316_mr\n",
      "  Experiment: 198_20210303_mr\n",
      "  Experiment: 198_20201223_mr\n",
      "  Experiment: 198_20201022_mr\n",
      "  Experiment: 198_20200714_mr\n",
      "  Experiment: 198_20200528_mr\n",
      "  Experiment: 198_20200312_mr\n",
      "  Experiment: 198_20200130_mr\n",
      "  Experiment: 198_20190107_mr\n",
      "Subject: 197\n",
      "  Experiment: 197_20210703_mr\n",
      "  Experiment: 197_20210604_mr\n",
      "  Experiment: 197_20210504_mr\n",
      "  Experiment: 197_20210427_mr\n",
      "  Experiment: 197_20210425_mr\n",
      "  Experiment: 197_20210401_mr\n",
      "  Experiment: 197_20210331_mr\n",
      "  Experiment: 197_20210329_mr\n",
      "  Experiment: 197_20210312_mr\n",
      "Subject: 196\n",
      "  Experiment: 196_20210601_mr\n",
      "    Found DICOM SEG Resource in Scan SEG_20240416_205036_224_S11\n",
      "      Processing SEG_20240416_205036_224_S11.dcm...\n"
     ]
    },
    {
     "name": "stderr",
     "output_type": "stream",
     "text": [
      "  0% of 234.8 KiB |                                  |   0.0 s/B ETA:  --:--:--\n",
      "100% of 234.8 KiB |################################|   3.0 MiB/s ETA:  00:00:00\n",
      "100% of 234.8 KiB |################################|   3.0 MiB/s Time:  0:00:00\n",
      "2025-02-07 12:58:34,382 [INFO] Extracting Series Instance UID from /var/folders/rc/rclfvgm135q8nz2l8y8dq38h0000gq/T/tmpjc8grizu.dcm...\n",
      "2025-02-07 12:58:34,386 [INFO] Extracted Series Instance UID: 2.25.200768438137678227919455987072857192515\n",
      "2025-02-07 12:58:34,386 [INFO] Searching for Series Instance UID: 2.25.200768438137678227919455987072857192515 in experiment: 196_20210601_mr...\n"
     ]
    },
    {
     "name": "stdout",
     "output_type": "stream",
     "text": [
      "        Downloaded SEG_20240416_205036_224_S11.dcm to temporary file.\n"
     ]
    },
    {
     "name": "stderr",
     "output_type": "stream",
     "text": [
      "2025-02-07 12:58:34,919 [INFO] Found Series Name: Ax_T1_Post for Series UID: 2.25.200768438137678227919455987072857192515\n"
     ]
    },
    {
     "name": "stdout",
     "output_type": "stream",
     "text": [
      "/Volumes/Siren/Brain_data/1.PatientDirectory/196/MRI/Processed_New/\n",
      "    Found DICOM SEG Resource in Scan SEG_20240416_214702_286_S5\n",
      "      Processing SEG_20240416_214702_286_S5.dcm...\n"
     ]
    },
    {
     "name": "stderr",
     "output_type": "stream",
     "text": [
      "  0% of 220.5 KiB |                                  |   0.0 s/B ETA:  --:--:--\n",
      "100% of 220.5 KiB |################################|   2.9 MiB/s ETA:  00:00:00\n",
      "100% of 220.5 KiB |################################|   2.8 MiB/s Time:  0:00:00\n",
      "2025-02-07 12:58:44,612 [INFO] Extracting Series Instance UID from /var/folders/rc/rclfvgm135q8nz2l8y8dq38h0000gq/T/tmpbtkhzkt4.dcm...\n",
      "2025-02-07 12:58:44,619 [INFO] Extracted Series Instance UID: 2.25.285817887246821901677039294307890703724\n",
      "2025-02-07 12:58:44,620 [INFO] Searching for Series Instance UID: 2.25.285817887246821901677039294307890703724 in experiment: 196_20210601_mr...\n",
      "2025-02-07 12:58:44,620 [INFO] Found Series Name: Ax_FLAIR_FS for Series UID: 2.25.285817887246821901677039294307890703724\n"
     ]
    },
    {
     "name": "stdout",
     "output_type": "stream",
     "text": [
      "        Downloaded SEG_20240416_214702_286_S5.dcm to temporary file.\n",
      "/Volumes/Siren/Brain_data/1.PatientDirectory/196/MRI/Processed_New/\n",
      "    Found DICOM SEG Resource in Scan SEG_20240416_215352_121_S11\n",
      "      Processing SEG_20240416_215352_121_S11.dcm...\n"
     ]
    },
    {
     "name": "stderr",
     "output_type": "stream",
     "text": [
      "  0% of 365.2 KiB |                                  |   0.0 s/B ETA:  --:--:--\n",
      "100% of 365.2 KiB |################################|   3.4 MiB/s ETA:  00:00:00\n",
      "100% of 365.2 KiB |################################|   3.4 MiB/s Time:  0:00:00\n",
      "2025-02-07 12:58:54,026 [INFO] Extracting Series Instance UID from /var/folders/rc/rclfvgm135q8nz2l8y8dq38h0000gq/T/tmp880tpc_a.dcm...\n",
      "2025-02-07 12:58:54,030 [INFO] Extracted Series Instance UID: 2.25.200768438137678227919455987072857192515\n",
      "2025-02-07 12:58:54,031 [INFO] Searching for Series Instance UID: 2.25.200768438137678227919455987072857192515 in experiment: 196_20210601_mr...\n",
      "2025-02-07 12:58:54,031 [INFO] Found Series Name: Ax_T1_Post for Series UID: 2.25.200768438137678227919455987072857192515\n"
     ]
    },
    {
     "name": "stdout",
     "output_type": "stream",
     "text": [
      "        Downloaded SEG_20240416_215352_121_S11.dcm to temporary file.\n",
      "/Volumes/Siren/Brain_data/1.PatientDirectory/196/MRI/Processed_New/\n",
      "  Experiment: 196_20210403_mr\n",
      "  Experiment: 196_20210209_mr\n",
      "  Experiment: 196_20210108_mr\n",
      "  Experiment: 196_20201118_mr\n",
      "  Experiment: 196_20200916_mr\n",
      "  Experiment: 196_20200717_mr\n",
      "  Experiment: 196_20200627_mr\n",
      "  Experiment: 196_20200618_mr\n",
      "  Experiment: 196_20200618_ct\n",
      "  Experiment: 196_20200613_mr\n",
      "  Experiment: 196_20200612_ct\n",
      "Subject: 200\n",
      "  Experiment: 200_20210420_mr\n",
      "  Experiment: 200_20200906_mr\n",
      "  Experiment: 200_20201011_mr\n",
      "  Experiment: 200_20210615_mr\n",
      "  Experiment: 200_20201012_mr\n",
      "  Experiment: 200_20201201_mr\n",
      "  Experiment: 200_20201103_mr\n",
      "  Experiment: 200_20210814_mr\n",
      "  Experiment: 200_20201219_mr\n",
      "  Experiment: 200_20210311_mr\n",
      "  Experiment: 200_20210729_mr\n",
      "  Experiment: 200_20210216_mr\n",
      "  Experiment: 200_20210702_mr\n",
      "  Experiment: 200_20210309_mr\n",
      "  Experiment: 200_20201117_mr\n",
      "  Experiment: 200_20201020_mr\n",
      "  Experiment: 200_20201010_mr\n",
      "  Experiment: 200_20210827_mr\n",
      "Subject: 201\n",
      "  Experiment: 201_20210707_mr\n",
      "  Experiment: 201_20200125_mr\n",
      "  Experiment: 201_20190909_mr\n",
      "  Experiment: 201_20200509_mr\n",
      "  Experiment: 201_20190910_mr\n",
      "  Experiment: 201_20210814_mr\n",
      "    Found DICOM SEG Resource in Scan SEG_20240416_140825_577_S15\n",
      "      Processing SEG_20240416_140825_577_S15.dcm...\n"
     ]
    },
    {
     "name": "stderr",
     "output_type": "stream",
     "text": [
      "  0% of 395.3 KiB |                                  |   0.0 s/B ETA:  --:--:--\n",
      "100% of 395.3 KiB |################################|   4.2 MiB/s ETA:  00:00:00\n",
      "100% of 395.3 KiB |################################|   4.2 MiB/s Time:  0:00:00\n",
      "2025-02-07 12:59:13,127 [INFO] Extracting Series Instance UID from /var/folders/rc/rclfvgm135q8nz2l8y8dq38h0000gq/T/tmpl8pa_5m9.dcm...\n",
      "2025-02-07 12:59:13,136 [INFO] Extracted Series Instance UID: 2.25.176034632280471412927600716508356808466\n",
      "2025-02-07 12:59:13,136 [INFO] Searching for Series Instance UID: 2.25.176034632280471412927600716508356808466 in experiment: 201_20210814_mr...\n"
     ]
    },
    {
     "name": "stdout",
     "output_type": "stream",
     "text": [
      "        Downloaded SEG_20240416_140825_577_S15.dcm to temporary file.\n"
     ]
    },
    {
     "name": "stderr",
     "output_type": "stream",
     "text": [
      "2025-02-07 12:59:13,583 [INFO] Found Series Name: ENH_T1_3D_STEALTH_AX for Series UID: 2.25.176034632280471412927600716508356808466\n"
     ]
    },
    {
     "name": "stdout",
     "output_type": "stream",
     "text": [
      "/Volumes/Siren/Brain_data/1.PatientDirectory/201/MRI/Processed_New/\n",
      "Number of segments: 1\n",
      "        Removed temporary file /var/folders/rc/rclfvgm135q8nz2l8y8dq38h0000gq/T/tmpl8pa_5m9.dcm\n",
      "    Found DICOM SEG Resource in Scan SEG_20240416_161818_216_S14\n",
      "      Processing SEG_20240416_161818_216_S14.dcm...\n"
     ]
    },
    {
     "name": "stderr",
     "output_type": "stream",
     "text": [
      "  0% of 659.1 KiB |                                  |   0.0 s/B ETA:  --:--:--\n",
      " 77% of 659.1 KiB |########################        |   4.3 MiB/s ETA:   0:00:00\n",
      "100% of 659.1 KiB |################################|   4.3 MiB/s Time:  0:00:00\n",
      "2025-02-07 12:59:27,110 [INFO] Extracting Series Instance UID from /var/folders/rc/rclfvgm135q8nz2l8y8dq38h0000gq/T/tmp4hih4c06.dcm...\n",
      "2025-02-07 12:59:27,130 [INFO] Extracted Series Instance UID: 2.25.332209445051161707709332942064274410954\n",
      "2025-02-07 12:59:27,131 [INFO] Searching for Series Instance UID: 2.25.332209445051161707709332942064274410954 in experiment: 201_20210814_mr...\n",
      "2025-02-07 12:59:27,132 [INFO] Found Series Name: ENH_T2_SPACE__FLAIR_3D_MPR_ax for Series UID: 2.25.332209445051161707709332942064274410954\n"
     ]
    },
    {
     "name": "stdout",
     "output_type": "stream",
     "text": [
      "        Downloaded SEG_20240416_161818_216_S14.dcm to temporary file.\n",
      "/Volumes/Siren/Brain_data/1.PatientDirectory/201/MRI/Processed_New/\n",
      "    Found DICOM SEG Resource in Scan SEG_20240416_162028_546_S15\n",
      "      Processing SEG_20240416_162028_546_S15.dcm...\n"
     ]
    },
    {
     "name": "stderr",
     "output_type": "stream",
     "text": [
      "  0% of 407.1 KiB |                                  |   0.0 s/B ETA:  --:--:--\n",
      "100% of 407.1 KiB |################################|   4.0 MiB/s ETA:  00:00:00\n",
      "100% of 407.1 KiB |################################|   4.0 MiB/s Time:  0:00:00\n",
      "2025-02-07 12:59:36,512 [INFO] Extracting Series Instance UID from /var/folders/rc/rclfvgm135q8nz2l8y8dq38h0000gq/T/tmp2rv8_q57.dcm...\n",
      "2025-02-07 12:59:36,522 [INFO] Extracted Series Instance UID: 2.25.176034632280471412927600716508356808466\n",
      "2025-02-07 12:59:36,523 [INFO] Searching for Series Instance UID: 2.25.176034632280471412927600716508356808466 in experiment: 201_20210814_mr...\n",
      "2025-02-07 12:59:36,523 [INFO] Found Series Name: ENH_T1_3D_STEALTH_AX for Series UID: 2.25.176034632280471412927600716508356808466\n"
     ]
    },
    {
     "name": "stdout",
     "output_type": "stream",
     "text": [
      "        Downloaded SEG_20240416_162028_546_S15.dcm to temporary file.\n",
      "/Volumes/Siren/Brain_data/1.PatientDirectory/201/MRI/Processed_New/\n",
      "Number of segments: 2\n",
      "        Removed temporary file /var/folders/rc/rclfvgm135q8nz2l8y8dq38h0000gq/T/tmp2rv8_q57.dcm\n",
      "    Found DICOM SEG Resource in Scan SEG_20240416_162156_546_S15\n",
      "      Processing SEG_20240416_162156_546_S15.dcm...\n"
     ]
    },
    {
     "name": "stderr",
     "output_type": "stream",
     "text": [
      "  0% of 430.1 KiB |                                  |   0.0 s/B ETA:  --:--:--\n",
      "100% of 430.1 KiB |################################|   4.1 MiB/s ETA:  00:00:00\n",
      "100% of 430.1 KiB |################################|   4.1 MiB/s Time:  0:00:00\n",
      "2025-02-07 12:59:48,379 [INFO] Extracting Series Instance UID from /var/folders/rc/rclfvgm135q8nz2l8y8dq38h0000gq/T/tmpj3hkfd8f.dcm...\n",
      "2025-02-07 12:59:48,390 [INFO] Extracted Series Instance UID: 2.25.176034632280471412927600716508356808466\n",
      "2025-02-07 12:59:48,391 [INFO] Searching for Series Instance UID: 2.25.176034632280471412927600716508356808466 in experiment: 201_20210814_mr...\n",
      "2025-02-07 12:59:48,391 [INFO] Found Series Name: ENH_T1_3D_STEALTH_AX for Series UID: 2.25.176034632280471412927600716508356808466\n"
     ]
    },
    {
     "name": "stdout",
     "output_type": "stream",
     "text": [
      "        Downloaded SEG_20240416_162156_546_S15.dcm to temporary file.\n",
      "/Volumes/Siren/Brain_data/1.PatientDirectory/201/MRI/Processed_New/\n",
      "Number of segments: 2\n",
      "        Removed temporary file /var/folders/rc/rclfvgm135q8nz2l8y8dq38h0000gq/T/tmpj3hkfd8f.dcm\n",
      "  Experiment: 201_20210413_mr\n",
      "  Experiment: 201_20210803_mr\n",
      "  Experiment: 201_20201023_mr\n",
      "  Experiment: 201_20200826_mr\n",
      "  Experiment: 201_20200707_mr\n",
      "  Experiment: 201_20200331_mr\n",
      "  Experiment: 201_20210515_mr\n",
      "  Experiment: 201_20191224_mr\n",
      "  Experiment: 201_20201119_mr\n",
      "  Experiment: 201_20210605_mr\n",
      "  Experiment: 201_20210216_mr\n",
      "  Experiment: 201_20190906_mr\n",
      "Subject: 202\n",
      "  Experiment: 202_20210831_mr\n",
      "  Experiment: 202_20210718_mr\n",
      "  Experiment: 202_20210923_mr\n",
      "    Found DICOM SEG Resource in Scan SEG_20240415_215146_265_S11\n",
      "      Processing SEG_20240415_215146_265_S11.dcm...\n"
     ]
    },
    {
     "name": "stderr",
     "output_type": "stream",
     "text": [
      "  0% of 657.6 KiB |                                  |   0.0 s/B ETA:  --:--:--\n",
      " 77% of 657.6 KiB |########################        |   3.9 MiB/s ETA:   0:00:00\n",
      "100% of 657.6 KiB |################################|   3.9 MiB/s Time:  0:00:00\n",
      "2025-02-07 13:00:05,435 [INFO] Extracting Series Instance UID from /var/folders/rc/rclfvgm135q8nz2l8y8dq38h0000gq/T/tmplkvah1_7.dcm...\n",
      "2025-02-07 13:00:05,442 [INFO] Extracted Series Instance UID: 2.25.235947487508671014575203150751348105333\n",
      "2025-02-07 13:00:05,442 [INFO] Searching for Series Instance UID: 2.25.235947487508671014575203150751348105333 in experiment: 202_20210923_mr...\n"
     ]
    },
    {
     "name": "stdout",
     "output_type": "stream",
     "text": [
      "        Downloaded SEG_20240415_215146_265_S11.dcm to temporary file.\n"
     ]
    },
    {
     "name": "stderr",
     "output_type": "stream",
     "text": [
      "2025-02-07 13:00:05,989 [INFO] Found Series Name: Ax_T1_Post for Series UID: 2.25.235947487508671014575203150751348105333\n"
     ]
    },
    {
     "name": "stdout",
     "output_type": "stream",
     "text": [
      "/Volumes/Siren/Brain_data/1.PatientDirectory/202/MRI/Processed_New/\n",
      "    Found DICOM SEG Resource in Scan SEG_20240415_223711_436_S5\n",
      "      Processing SEG_20240415_223711_436_S5.dcm...\n"
     ]
    },
    {
     "name": "stderr",
     "output_type": "stream",
     "text": [
      "  0% of 722.7 KiB |                                  |   0.0 s/B ETA:  --:--:--\n",
      " 70% of 722.7 KiB |######################          |   3.9 MiB/s ETA:   0:00:00\n",
      "100% of 722.7 KiB |################################|   3.9 MiB/s Time:  0:00:00\n",
      "2025-02-07 13:00:15,878 [INFO] Extracting Series Instance UID from /var/folders/rc/rclfvgm135q8nz2l8y8dq38h0000gq/T/tmp8tc42p9n.dcm...\n",
      "2025-02-07 13:00:15,883 [INFO] Extracted Series Instance UID: 2.25.304049135454744846826573941186273454315\n",
      "2025-02-07 13:00:15,884 [INFO] Searching for Series Instance UID: 2.25.304049135454744846826573941186273454315 in experiment: 202_20210923_mr...\n",
      "2025-02-07 13:00:15,884 [INFO] Found Series Name: AX_FLAIR_FS for Series UID: 2.25.304049135454744846826573941186273454315\n"
     ]
    },
    {
     "name": "stdout",
     "output_type": "stream",
     "text": [
      "        Downloaded SEG_20240415_223711_436_S5.dcm to temporary file.\n",
      "/Volumes/Siren/Brain_data/1.PatientDirectory/202/MRI/Processed_New/\n",
      "    Found DICOM SEG Resource in Scan SEG_20240415_223931_236_S11\n",
      "      Processing SEG_20240415_223931_236_S11.dcm...\n"
     ]
    },
    {
     "name": "stderr",
     "output_type": "stream",
     "text": [
      "  0% of 788.0 KiB |                                  |   0.0 s/B ETA:  --:--:--\n",
      " 64% of 788.0 KiB |####################            |   4.7 MiB/s ETA:   0:00:00\n",
      "100% of 788.0 KiB |################################|   4.7 MiB/s Time:  0:00:00\n",
      "2025-02-07 13:00:25,336 [INFO] Extracting Series Instance UID from /var/folders/rc/rclfvgm135q8nz2l8y8dq38h0000gq/T/tmpzkootrye.dcm...\n",
      "2025-02-07 13:00:25,343 [INFO] Extracted Series Instance UID: 2.25.235947487508671014575203150751348105333\n",
      "2025-02-07 13:00:25,344 [INFO] Searching for Series Instance UID: 2.25.235947487508671014575203150751348105333 in experiment: 202_20210923_mr...\n",
      "2025-02-07 13:00:25,344 [INFO] Found Series Name: Ax_T1_Post for Series UID: 2.25.235947487508671014575203150751348105333\n"
     ]
    },
    {
     "name": "stdout",
     "output_type": "stream",
     "text": [
      "        Downloaded SEG_20240415_223931_236_S11.dcm to temporary file.\n",
      "/Volumes/Siren/Brain_data/1.PatientDirectory/202/MRI/Processed_New/\n",
      "Subject: 203\n",
      "  Experiment: 203_20201201_mr\n",
      "  Experiment: 203_20211217_mr\n",
      "  Experiment: 203_20090925_mr\n",
      "  Experiment: 203_20090320_mr\n",
      "  Experiment: 203_20120630_mr\n",
      "  Experiment: 203_20150421_mr\n",
      "  Experiment: 203_20110622_mr\n",
      "  Experiment: 203_20210812_mr\n",
      "  Experiment: 203_20100326_mr\n",
      "  Experiment: 203_20140408_mr\n",
      "  Experiment: 203_20191105_mr\n",
      "  Experiment: 203_20170506_mr\n",
      "  Experiment: 203_20130702_mr\n",
      "  Experiment: 203_20181108_mr\n",
      "  Experiment: 203_20210511_mr\n",
      "  Experiment: 203_20160419_mr\n",
      "  Experiment: 203_20100922_mr\n",
      "  Experiment: 203_20210922_mr\n",
      "  Experiment: 203_20180118_mr\n",
      "  Experiment: 203_20200726_mr\n",
      "  Experiment: 203_20210427_mr\n",
      "Subject: 204\n",
      "  Experiment: 204_20211104_mr\n",
      "    Found DICOM SEG Resource in Scan SEG_20240415_154643_942_S11\n",
      "      Processing SEG_20240415_154643_942_S11.dcm...\n"
     ]
    },
    {
     "name": "stderr",
     "output_type": "stream",
     "text": [
      "  0% of 267.1 KiB |                                  |   0.0 s/B ETA:  --:--:--\n",
      "100% of 267.1 KiB |################################|   3.2 MiB/s ETA:  00:00:00\n",
      "100% of 267.1 KiB |################################|   3.2 MiB/s Time:  0:00:00\n",
      "2025-02-07 13:00:40,001 [INFO] Extracting Series Instance UID from /var/folders/rc/rclfvgm135q8nz2l8y8dq38h0000gq/T/tmpud5y4lgs.dcm...\n",
      "2025-02-07 13:00:40,006 [INFO] Extracted Series Instance UID: 2.25.34638094443980408473916667880406798941\n",
      "2025-02-07 13:00:40,006 [INFO] Searching for Series Instance UID: 2.25.34638094443980408473916667880406798941 in experiment: 204_20211104_mr...\n"
     ]
    },
    {
     "name": "stdout",
     "output_type": "stream",
     "text": [
      "        Downloaded SEG_20240415_154643_942_S11.dcm to temporary file.\n"
     ]
    },
    {
     "name": "stderr",
     "output_type": "stream",
     "text": [
      "2025-02-07 13:00:40,489 [INFO] Found Series Name: Ax_T1_Post for Series UID: 2.25.34638094443980408473916667880406798941\n"
     ]
    },
    {
     "name": "stdout",
     "output_type": "stream",
     "text": [
      "/Volumes/Siren/Brain_data/1.PatientDirectory/204/MRI/Processed_New/\n",
      "        Could not find directory for SEG_20240415_154643_942_S11.dcm\n",
      "    Found DICOM SEG Resource in Scan SEG_20240415_162209_445_S5\n",
      "      Processing SEG_20240415_162209_445_S5.dcm...\n"
     ]
    },
    {
     "name": "stderr",
     "output_type": "stream",
     "text": [
      "  0% of 160.5 KiB |                                  |   0.0 s/B ETA:  --:--:--\n",
      "100% of 160.5 KiB |################################|   1.8 MiB/s ETA:  00:00:00\n",
      "100% of 160.5 KiB |################################|   1.7 MiB/s Time:  0:00:00\n",
      "2025-02-07 13:00:49,940 [INFO] Extracting Series Instance UID from /var/folders/rc/rclfvgm135q8nz2l8y8dq38h0000gq/T/tmpk_kr078f.dcm...\n",
      "2025-02-07 13:00:49,945 [INFO] Extracted Series Instance UID: 2.25.17168646404982023387724255919943413527\n",
      "2025-02-07 13:00:49,946 [INFO] Searching for Series Instance UID: 2.25.17168646404982023387724255919943413527 in experiment: 204_20211104_mr...\n",
      "2025-02-07 13:00:49,947 [INFO] Found Series Name: Ax_FLAIR_FS for Series UID: 2.25.17168646404982023387724255919943413527\n"
     ]
    },
    {
     "name": "stdout",
     "output_type": "stream",
     "text": [
      "        Downloaded SEG_20240415_162209_445_S5.dcm to temporary file.\n",
      "/Volumes/Siren/Brain_data/1.PatientDirectory/204/MRI/Processed_New/\n",
      "        Could not find directory for SEG_20240415_162209_445_S5.dcm\n",
      "  Experiment: 204_20200512_mr\n",
      "  Experiment: 204_20201223_mr\n",
      "  Experiment: 204_20210818_mr\n",
      "  Experiment: 204_20200331_mr\n",
      "  Experiment: 204_20210429_mr\n",
      "  Experiment: 204_20200519_mr\n",
      "  Experiment: 204_20210115_mr\n",
      "  Experiment: 204_20201015_mr\n",
      "  Experiment: 204_20200619_mr\n",
      "  Experiment: 204_20210615_mr\n",
      "  Experiment: 204_20200903_mr\n",
      "  Experiment: 204_20200514_mr\n",
      "  Experiment: 204_20201231_mr\n",
      "  Experiment: 204_20210922_mr\n",
      "Subject: 205\n",
      "  Experiment: 205_20211220_mr\n",
      "Subject: 206\n",
      "  Experiment: 206_20180306_mr\n",
      "  Experiment: 206_20201202_mr\n",
      "  Experiment: 206_20210619_mr\n",
      "    Found DICOM SEG Resource in Scan SEG_20240415_150249_393_S19\n",
      "      Processing SEG_20240415_150249_393_S19.dcm...\n"
     ]
    },
    {
     "name": "stderr",
     "output_type": "stream",
     "text": [
      "  0% of  72.0 KiB |                                  |   0.0 s/B ETA:  --:--:--\n",
      "100% of  72.0 KiB |################################|   1.7 MiB/s Time:  0:00:00\n",
      "2025-02-07 13:01:05,008 [INFO] Extracting Series Instance UID from /var/folders/rc/rclfvgm135q8nz2l8y8dq38h0000gq/T/tmp0au_0_qw.dcm...\n",
      "2025-02-07 13:01:05,011 [INFO] Extracted Series Instance UID: 2.25.239602287309042520573281855808146023789\n",
      "2025-02-07 13:01:05,011 [INFO] Searching for Series Instance UID: 2.25.239602287309042520573281855808146023789 in experiment: 206_20210619_mr...\n"
     ]
    },
    {
     "name": "stdout",
     "output_type": "stream",
     "text": [
      "        Downloaded SEG_20240415_150249_393_S19.dcm to temporary file.\n"
     ]
    },
    {
     "name": "stderr",
     "output_type": "stream",
     "text": [
      "2025-02-07 13:01:05,412 [INFO] Found Series Name: Ax_T1_Post for Series UID: 2.25.239602287309042520573281855808146023789\n"
     ]
    },
    {
     "name": "stdout",
     "output_type": "stream",
     "text": [
      "/Volumes/Siren/Brain_data/1.PatientDirectory/206/MRI/Processed_New/\n",
      "    Found DICOM SEG Resource in Scan SEG_20240415_153239_397_S6\n",
      "      Processing SEG_20240415_153239_397_S6.dcm...\n"
     ]
    },
    {
     "name": "stderr",
     "output_type": "stream",
     "text": [
      "  0% of 657.7 KiB |                                  |   0.0 s/B ETA:  --:--:--\n",
      " 77% of 657.7 KiB |########################        |   4.7 MiB/s ETA:   0:00:00\n",
      "100% of 657.7 KiB |################################|   4.7 MiB/s Time:  0:00:00\n",
      "2025-02-07 13:01:15,296 [INFO] Extracting Series Instance UID from /var/folders/rc/rclfvgm135q8nz2l8y8dq38h0000gq/T/tmpewpve8ql.dcm...\n",
      "2025-02-07 13:01:15,301 [INFO] Extracted Series Instance UID: 2.25.306042138761278858633961303855061074376\n",
      "2025-02-07 13:01:15,302 [INFO] Searching for Series Instance UID: 2.25.306042138761278858633961303855061074376 in experiment: 206_20210619_mr...\n",
      "2025-02-07 13:01:15,302 [INFO] Found Series Name: AX_FLAIR_FS for Series UID: 2.25.306042138761278858633961303855061074376\n"
     ]
    },
    {
     "name": "stdout",
     "output_type": "stream",
     "text": [
      "        Downloaded SEG_20240415_153239_397_S6.dcm to temporary file.\n",
      "/Volumes/Siren/Brain_data/1.PatientDirectory/206/MRI/Processed_New/\n",
      "    Found DICOM SEG Resource in Scan SEG_20240415_153526_048_S19\n",
      "      Processing SEG_20240415_153526_048_S19.dcm...\n"
     ]
    },
    {
     "name": "stderr",
     "output_type": "stream",
     "text": [
      "  0% of 169.9 KiB |                                  |   0.0 s/B ETA:  --:--:--\n",
      "100% of 169.9 KiB |################################|   1.7 MiB/s ETA:  00:00:00\n",
      "100% of 169.9 KiB |################################|   1.7 MiB/s Time:  0:00:00\n",
      "2025-02-07 13:01:24,538 [INFO] Extracting Series Instance UID from /var/folders/rc/rclfvgm135q8nz2l8y8dq38h0000gq/T/tmpw02av2__.dcm...\n",
      "2025-02-07 13:01:24,541 [INFO] Extracted Series Instance UID: 2.25.239602287309042520573281855808146023789\n",
      "2025-02-07 13:01:24,542 [INFO] Searching for Series Instance UID: 2.25.239602287309042520573281855808146023789 in experiment: 206_20210619_mr...\n",
      "2025-02-07 13:01:24,543 [INFO] Found Series Name: Ax_T1_Post for Series UID: 2.25.239602287309042520573281855808146023789\n"
     ]
    },
    {
     "name": "stdout",
     "output_type": "stream",
     "text": [
      "        Downloaded SEG_20240415_153526_048_S19.dcm to temporary file.\n",
      "/Volumes/Siren/Brain_data/1.PatientDirectory/206/MRI/Processed_New/\n",
      "  Experiment: 206_20210129_mr\n",
      "  Experiment: 206_20210423_mr\n",
      "  Experiment: 206_20210212_mr\n",
      "Subject: 207\n",
      "  Experiment: 207_20220104_ct\n",
      "  Experiment: 207_20220102_ct\n",
      "  Experiment: 207_20211225_ct\n",
      "  Experiment: 207_20220103_ct\n",
      "  Experiment: 207_20220126_mr\n",
      "  Experiment: 207_20211230_mr\n",
      "Subject: 208\n",
      "  Experiment: 208_20200926_mr\n",
      "  Experiment: 208_20170208_ct\n",
      "  Experiment: 208_20190904_mr\n",
      "  Experiment: 208_20210903_ct\n",
      "  Experiment: 208_20210123_mr\n",
      "  Experiment: 208_20190430_mr\n",
      "  Experiment: 208_20210705_mr\n",
      "  Experiment: 208_20210629_mr\n",
      "  Experiment: 208_20170209_mr\n",
      "  Experiment: 208_20180626_mr\n",
      "  Experiment: 208_20201128_mr\n",
      "  Experiment: 208_20170523_mr\n",
      "  Experiment: 208_20170905_mr\n",
      "  Experiment: 208_20171223_mr\n",
      "  Experiment: 208_20220128_mr\n",
      "  Experiment: 208_20181208_mr\n",
      "  Experiment: 208_20210327_mr\n",
      "  Experiment: 208_20211009_mr\n",
      "  Experiment: 208_20211126_mr\n",
      "  Experiment: 208_20180818_mr\n",
      "  Experiment: 208_20200609_mr\n",
      "  Experiment: 208_20191029_mr\n",
      "  Experiment: 208_20210823_mr\n",
      "  Experiment: 208_20190901_mr\n",
      "  Experiment: 208_20191224_mr\n",
      "  Experiment: 208_20170211_mr\n",
      "  Experiment: 208_20200801_mr\n",
      "  Experiment: 208_20190709_mr\n",
      "  Experiment: 208_20170207_ct\n",
      "  Experiment: 208_20170210_ct\n",
      "  Experiment: 208_20171107_mr\n",
      "  Experiment: 208_20190905_mr\n",
      "  Experiment: 208_20191001_mr\n",
      "  Experiment: 208_20190219_mr\n",
      "  Experiment: 208_20190827_mr\n",
      "  Experiment: 208_20170302_mr\n",
      "  Experiment: 208_20181016_mr\n",
      "  Experiment: 208_20210404_mr\n",
      "  Experiment: 208_20190904_ct\n",
      "  Experiment: 208_20180227_mr\n",
      "  Experiment: 208_20180428_mr\n",
      "  Experiment: 208_20200414_mr\n",
      "  Experiment: 208_20210322_mr\n",
      "  Experiment: 208_20170207_mr\n",
      "  Experiment: 208_20220211_mr\n",
      "  Experiment: 208_20170715_mr\n",
      "  Experiment: 208_20200218_mr\n",
      "Subject: 209\n",
      "  Experiment: 209_20201223_mr\n",
      "  Experiment: 209_20200514_mr\n",
      "  Experiment: 209_20210318_mr\n",
      "  Experiment: 209_20200926_mr\n",
      "  Experiment: 209_20200619_mr\n",
      "  Experiment: 209_20211029_mr\n",
      "    Found DICOM SEG Resource in Scan SEG_20240411_150247_513_S10\n",
      "      Processing SEG_20240411_150247_513_S10.dcm...\n"
     ]
    },
    {
     "name": "stderr",
     "output_type": "stream",
     "text": [
      "  0% of 241.6 KiB |                                  |   0.0 s/B ETA:  --:--:--\n",
      "100% of 241.6 KiB |################################|   2.1 MiB/s ETA:  00:00:00\n",
      "100% of 241.6 KiB |################################|   2.1 MiB/s Time:  0:00:00\n",
      "2025-02-07 13:01:51,155 [INFO] Extracting Series Instance UID from /var/folders/rc/rclfvgm135q8nz2l8y8dq38h0000gq/T/tmpwf_v5w0d.dcm...\n",
      "2025-02-07 13:01:51,163 [INFO] Extracted Series Instance UID: 2.25.284209878035920904186078563311049816004\n",
      "2025-02-07 13:01:51,163 [INFO] Searching for Series Instance UID: 2.25.284209878035920904186078563311049816004 in experiment: 209_20211029_mr...\n"
     ]
    },
    {
     "name": "stdout",
     "output_type": "stream",
     "text": [
      "        Downloaded SEG_20240411_150247_513_S10.dcm to temporary file.\n"
     ]
    },
    {
     "name": "stderr",
     "output_type": "stream",
     "text": [
      "2025-02-07 13:01:51,609 [INFO] Found Series Name: Ax_T1_Post for Series UID: 2.25.284209878035920904186078563311049816004\n"
     ]
    },
    {
     "name": "stdout",
     "output_type": "stream",
     "text": [
      "/Volumes/Siren/Brain_data/1.PatientDirectory/209/MRI/Processed_New/\n",
      "    Found DICOM SEG Resource in Scan SEG_20240411_150316_745_S5\n",
      "      Processing SEG_20240411_150316_745_S5.dcm...\n"
     ]
    },
    {
     "name": "stderr",
     "output_type": "stream",
     "text": [
      "  0% of 145.6 KiB |                                  |   0.0 s/B ETA:  --:--:--\n",
      "100% of 145.6 KiB |################################|   1.8 MiB/s ETA:  00:00:00\n",
      "100% of 145.6 KiB |################################|   1.8 MiB/s Time:  0:00:00\n",
      "2025-02-07 13:02:00,962 [INFO] Extracting Series Instance UID from /var/folders/rc/rclfvgm135q8nz2l8y8dq38h0000gq/T/tmp0e3cqzov.dcm...\n",
      "2025-02-07 13:02:00,967 [INFO] Extracted Series Instance UID: 2.25.223152230353166210608986606729370392608\n",
      "2025-02-07 13:02:00,968 [INFO] Searching for Series Instance UID: 2.25.223152230353166210608986606729370392608 in experiment: 209_20211029_mr...\n",
      "2025-02-07 13:02:00,968 [INFO] Found Series Name: Ax_FLAIR_FS for Series UID: 2.25.223152230353166210608986606729370392608\n"
     ]
    },
    {
     "name": "stdout",
     "output_type": "stream",
     "text": [
      "        Downloaded SEG_20240411_150316_745_S5.dcm to temporary file.\n",
      "/Volumes/Siren/Brain_data/1.PatientDirectory/209/MRI/Processed_New/\n",
      "    Found DICOM SEG Resource in Scan SEG_20240411_151736_825_S10\n",
      "      Processing SEG_20240411_151736_825_S10.dcm...\n"
     ]
    },
    {
     "name": "stderr",
     "output_type": "stream",
     "text": [
      "  0% of 241.6 KiB |                                  |   0.0 s/B ETA:  --:--:--\n",
      "100% of 241.6 KiB |################################|   2.2 MiB/s ETA:  00:00:00\n",
      "100% of 241.6 KiB |################################|   2.2 MiB/s Time:  0:00:00\n",
      "2025-02-07 13:02:10,243 [INFO] Extracting Series Instance UID from /var/folders/rc/rclfvgm135q8nz2l8y8dq38h0000gq/T/tmp46paj2jk.dcm...\n",
      "2025-02-07 13:02:10,250 [INFO] Extracted Series Instance UID: 2.25.284209878035920904186078563311049816004\n",
      "2025-02-07 13:02:10,251 [INFO] Searching for Series Instance UID: 2.25.284209878035920904186078563311049816004 in experiment: 209_20211029_mr...\n",
      "2025-02-07 13:02:10,252 [INFO] Found Series Name: Ax_T1_Post for Series UID: 2.25.284209878035920904186078563311049816004\n"
     ]
    },
    {
     "name": "stdout",
     "output_type": "stream",
     "text": [
      "        Downloaded SEG_20240411_151736_825_S10.dcm to temporary file.\n",
      "/Volumes/Siren/Brain_data/1.PatientDirectory/209/MRI/Processed_New/\n",
      "    Found DICOM SEG Resource in Scan SEG_20240412_134736_123_S10\n",
      "      Processing SEG_20240412_134736_123_S10.dcm...\n"
     ]
    },
    {
     "name": "stderr",
     "output_type": "stream",
     "text": [
      "  0% of  32.7 KiB |                                  |   0.0 s/B ETA:  --:--:--\n",
      "100% of  32.7 KiB |################################|   1.2 MiB/s Time:  0:00:00\n",
      "2025-02-07 13:02:19,546 [INFO] Extracting Series Instance UID from /var/folders/rc/rclfvgm135q8nz2l8y8dq38h0000gq/T/tmptr08v8tt.dcm...\n",
      "2025-02-07 13:02:19,549 [INFO] Extracted Series Instance UID: 2.25.284209878035920904186078563311049816004\n",
      "2025-02-07 13:02:19,550 [INFO] Searching for Series Instance UID: 2.25.284209878035920904186078563311049816004 in experiment: 209_20211029_mr...\n",
      "2025-02-07 13:02:19,550 [INFO] Found Series Name: Ax_T1_Post for Series UID: 2.25.284209878035920904186078563311049816004\n"
     ]
    },
    {
     "name": "stdout",
     "output_type": "stream",
     "text": [
      "        Downloaded SEG_20240412_134736_123_S10.dcm to temporary file.\n",
      "/Volumes/Siren/Brain_data/1.PatientDirectory/209/MRI/Processed_New/\n",
      "    Found DICOM SEG Resource in Scan SEG_20240412_143441_040_S5\n",
      "      Processing SEG_20240412_143441_040_S5.dcm...\n"
     ]
    },
    {
     "name": "stderr",
     "output_type": "stream",
     "text": [
      "  0% of 263.5 KiB |                                  |   0.0 s/B ETA:  --:--:--\n",
      "100% of 263.5 KiB |################################|   2.4 MiB/s ETA:  00:00:00\n",
      "100% of 263.5 KiB |################################|   2.4 MiB/s Time:  0:00:00\n",
      "2025-02-07 13:02:28,887 [INFO] Extracting Series Instance UID from /var/folders/rc/rclfvgm135q8nz2l8y8dq38h0000gq/T/tmpbr0_fzb1.dcm...\n",
      "2025-02-07 13:02:28,896 [INFO] Extracted Series Instance UID: 2.25.223152230353166210608986606729370392608\n",
      "2025-02-07 13:02:28,896 [INFO] Searching for Series Instance UID: 2.25.223152230353166210608986606729370392608 in experiment: 209_20211029_mr...\n",
      "2025-02-07 13:02:28,897 [INFO] Found Series Name: Ax_FLAIR_FS for Series UID: 2.25.223152230353166210608986606729370392608\n"
     ]
    },
    {
     "name": "stdout",
     "output_type": "stream",
     "text": [
      "        Downloaded SEG_20240412_143441_040_S5.dcm to temporary file.\n",
      "/Volumes/Siren/Brain_data/1.PatientDirectory/209/MRI/Processed_New/\n",
      "  Experiment: 209_20200604_mr\n",
      "  Experiment: 209_20210709_mr\n",
      "Subject: 210\n",
      "  Experiment: 210_20190320_mr\n",
      "  Experiment: 210_20111105_mr\n",
      "  Experiment: 210_20151231_mr\n",
      "  Experiment: 210_20070621_mr\n",
      "  Experiment: 210_20210413_mr\n",
      "  Experiment: 210_20061109_mr\n",
      "  Experiment: 210_20080612_mr\n",
      "  Experiment: 210_20200115_mr\n",
      "  Experiment: 210_20210122_mr\n",
      "  Experiment: 210_20120828_mr\n",
      "  Experiment: 210_20180616_mr\n",
      "  Experiment: 210_20141204_mr\n",
      "  Experiment: 210_20071017_mr\n",
      "  Experiment: 210_20150813_mr\n",
      "  Experiment: 210_20091126_mr\n",
      "  Experiment: 210_20140508_mr\n",
      "  Experiment: 210_20130809_mr\n",
      "  Experiment: 210_20090527_mr\n",
      "  Experiment: 210_20120420_mr\n",
      "  Experiment: 210_20140731_mr\n",
      "  Experiment: 210_20101130_mr\n",
      "  Experiment: 210_20200808_mr\n",
      "  Experiment: 210_20140131_mr\n",
      "  Experiment: 210_20080215_mr\n",
      "  Experiment: 210_20070307_mr\n",
      "  Experiment: 210_20130424_mr\n",
      "  Experiment: 210_20211007_mr\n",
      "  Experiment: 210_20201020_mr\n",
      "  Experiment: 210_20170526_mr\n",
      "  Experiment: 210_20100520_mr\n",
      "  Experiment: 210_20130626_mr\n",
      "  Experiment: 210_20060328_mr\n",
      "  Experiment: 210_20060803_mr\n",
      "  Experiment: 210_20130110_mr\n",
      "  Experiment: 210_20060510_mr\n",
      "  Experiment: 210_20060322_mr\n",
      "  Experiment: 210_20210706_mr\n",
      "  Experiment: 210_20110527_mr\n",
      "  Experiment: 210_20220113_mr\n",
      "  Experiment: 210_20130302_mr\n",
      "  Experiment: 210_20110701_mr\n",
      "  Experiment: 210_20081009_mr\n",
      "  Experiment: 210_20121108_mr\n",
      "  Experiment: 210_20150409_mr\n",
      "  Experiment: 210_20190829_mr\n",
      "  Experiment: 210_20120607_mr\n",
      "  Experiment: 210_20131030_mr\n",
      "  Experiment: 210_20171215_mr\n",
      "  Experiment: 210_20161110_mr\n",
      "  Experiment: 210_20160506_mr\n",
      "Subject: 225\n",
      "  Experiment: 225_20220801_mr\n",
      "  Experiment: 225_20221028_mr\n",
      "  Experiment: 225_20220922_mr\n",
      "  Experiment: 225_20230214_mr\n",
      "  Experiment: 225_20230213_mr\n",
      "Subject: 226\n",
      "  Experiment: 226_20230125_ct\n",
      "  Experiment: 226_20220218_ct\n",
      "  Experiment: 226_20220627_ct\n",
      "  Experiment: 226_20221203_ct\n",
      "Subject: 211\n",
      "  Experiment: 211_20190323_mr\n",
      "  Experiment: 211_20210623_mr\n",
      "  Experiment: 211_20211116_mr\n",
      "  Experiment: 211_20210915_mr\n",
      "  Experiment: 211_20210723_mr\n",
      "  Experiment: 211_20220125_mr\n",
      "  Experiment: 211_20210630_mr\n",
      "  Experiment: 211_20170510_ct\n",
      "  Experiment: 211_20110824_ct\n",
      "  Experiment: 211_20170827_ct\n",
      "  Experiment: 211_20170516_ct\n",
      "  Experiment: 211_20180714_ct\n",
      "  Experiment: 211_20210723_ct\n",
      "  Experiment: 211_20150513_ct\n",
      "Subject: 212\n",
      "  Experiment: 212_20220204_mr\n",
      "    Found DICOM SEG Resource in Scan SEG_20240415_142032_002_S10\n",
      "      Processing SEG_20240415_142032_002_S10.dcm...\n"
     ]
    },
    {
     "name": "stderr",
     "output_type": "stream",
     "text": [
      "  0% of 332.0 KiB |                                  |   0.0 s/B ETA:  --:--:--\n",
      "100% of 332.0 KiB |################################|   2.6 MiB/s ETA:  00:00:00\n",
      "100% of 332.0 KiB |################################|   2.6 MiB/s Time:  0:00:00\n",
      "2025-02-07 13:02:57,064 [INFO] Extracting Series Instance UID from /var/folders/rc/rclfvgm135q8nz2l8y8dq38h0000gq/T/tmppskcdlh5.dcm...\n",
      "2025-02-07 13:02:57,070 [INFO] Extracted Series Instance UID: 2.25.272430636774724902155478491093845445104\n",
      "2025-02-07 13:02:57,071 [INFO] Searching for Series Instance UID: 2.25.272430636774724902155478491093845445104 in experiment: 212_20220204_mr...\n"
     ]
    },
    {
     "name": "stdout",
     "output_type": "stream",
     "text": [
      "        Downloaded SEG_20240415_142032_002_S10.dcm to temporary file.\n"
     ]
    },
    {
     "name": "stderr",
     "output_type": "stream",
     "text": [
      "2025-02-07 13:02:57,500 [INFO] Found Series Name: Ax_T1_Post for Series UID: 2.25.272430636774724902155478491093845445104\n"
     ]
    },
    {
     "name": "stdout",
     "output_type": "stream",
     "text": [
      "/Volumes/Siren/Brain_data/1.PatientDirectory/212/MRI/Processed_New/\n",
      "    Found DICOM SEG Resource in Scan SEG_20240415_144832_558_S6\n",
      "      Processing SEG_20240415_144832_558_S6.dcm...\n"
     ]
    },
    {
     "name": "stderr",
     "output_type": "stream",
     "text": [
      "  0% of 559.8 KiB |                                  |   0.0 s/B ETA:  --:--:--\n",
      " 91% of 559.8 KiB |#############################   |   2.8 MiB/s ETA:   0:00:00\n",
      "100% of 559.8 KiB |################################|   2.8 MiB/s Time:  0:00:00\n",
      "2025-02-07 13:03:07,498 [INFO] Extracting Series Instance UID from /var/folders/rc/rclfvgm135q8nz2l8y8dq38h0000gq/T/tmp5hn2vx82.dcm...\n",
      "2025-02-07 13:03:07,503 [INFO] Extracted Series Instance UID: 2.25.284520542555247406932767707100099731716\n",
      "2025-02-07 13:03:07,504 [INFO] Searching for Series Instance UID: 2.25.284520542555247406932767707100099731716 in experiment: 212_20220204_mr...\n",
      "2025-02-07 13:03:07,504 [INFO] Found Series Name: AX_FLAIR_FS for Series UID: 2.25.284520542555247406932767707100099731716\n"
     ]
    },
    {
     "name": "stdout",
     "output_type": "stream",
     "text": [
      "        Downloaded SEG_20240415_144832_558_S6.dcm to temporary file.\n",
      "/Volumes/Siren/Brain_data/1.PatientDirectory/212/MRI/Processed_New/\n",
      "    Found DICOM SEG Resource in Scan SEG_20240415_145216_472_S10\n",
      "      Processing SEG_20240415_145216_472_S10.dcm...\n"
     ]
    },
    {
     "name": "stderr",
     "output_type": "stream",
     "text": [
      "  0% of 364.8 KiB |                                  |   0.0 s/B ETA:  --:--:--\n",
      "100% of 364.8 KiB |################################|   2.9 MiB/s ETA:  00:00:00\n",
      "100% of 364.8 KiB |################################|   2.9 MiB/s Time:  0:00:00\n",
      "2025-02-07 13:03:16,861 [INFO] Extracting Series Instance UID from /var/folders/rc/rclfvgm135q8nz2l8y8dq38h0000gq/T/tmpm1t50inv.dcm...\n",
      "2025-02-07 13:03:16,865 [INFO] Extracted Series Instance UID: 2.25.272430636774724902155478491093845445104\n",
      "2025-02-07 13:03:16,866 [INFO] Searching for Series Instance UID: 2.25.272430636774724902155478491093845445104 in experiment: 212_20220204_mr...\n",
      "2025-02-07 13:03:16,866 [INFO] Found Series Name: Ax_T1_Post for Series UID: 2.25.272430636774724902155478491093845445104\n"
     ]
    },
    {
     "name": "stdout",
     "output_type": "stream",
     "text": [
      "        Downloaded SEG_20240415_145216_472_S10.dcm to temporary file.\n",
      "/Volumes/Siren/Brain_data/1.PatientDirectory/212/MRI/Processed_New/\n",
      "    Found DICOM SEG Resource in Scan SEG_20240415_145834_465_S10\n",
      "      Processing SEG_20240415_145834_465_S10.dcm...\n"
     ]
    },
    {
     "name": "stderr",
     "output_type": "stream",
     "text": [
      "  0% of 690.2 KiB |                                  |   0.0 s/B ETA:  --:--:--\n",
      " 74% of 690.2 KiB |#######################         |   3.0 MiB/s ETA:   0:00:00\n",
      "100% of 690.2 KiB |################################|   3.0 MiB/s Time:  0:00:00\n",
      "2025-02-07 13:03:26,302 [INFO] Extracting Series Instance UID from /var/folders/rc/rclfvgm135q8nz2l8y8dq38h0000gq/T/tmpcz96v9kd.dcm...\n",
      "2025-02-07 13:03:26,310 [INFO] Extracted Series Instance UID: 2.25.272430636774724902155478491093845445104\n",
      "2025-02-07 13:03:26,310 [INFO] Searching for Series Instance UID: 2.25.272430636774724902155478491093845445104 in experiment: 212_20220204_mr...\n",
      "2025-02-07 13:03:26,311 [INFO] Found Series Name: Ax_T1_Post for Series UID: 2.25.272430636774724902155478491093845445104\n"
     ]
    },
    {
     "name": "stdout",
     "output_type": "stream",
     "text": [
      "        Downloaded SEG_20240415_145834_465_S10.dcm to temporary file.\n",
      "/Volumes/Siren/Brain_data/1.PatientDirectory/212/MRI/Processed_New/\n",
      "  Experiment: 212_20201125_mr\n",
      "  Experiment: 212_20201127_mr\n",
      "Subject: 105\n",
      "  Experiment: 105_20110311_mr\n",
      "  Experiment: 105_20110728_mr\n",
      "  Experiment: 105_20110309_mr\n",
      "  Experiment: 105_20110212_mr\n",
      "  Experiment: 105_20120119_mr\n",
      "  Experiment: 105_20110929_mr\n",
      "  Experiment: 105_20120308_mr\n",
      "    Found DICOM SEG Resource in Scan SEG_20240507_125011_877_S8\n",
      "      Processing SEG_20240507_125011_877_S8.dcm...\n"
     ]
    },
    {
     "name": "stderr",
     "output_type": "stream",
     "text": [
      "  0% of 460.6 KiB |                                  |   0.0 s/B ETA:  --:--:--\n",
      "100% of 460.6 KiB |################################|   3.3 MiB/s ETA:  00:00:00\n",
      "100% of 460.6 KiB |################################|   3.3 MiB/s Time:  0:00:00\n",
      "2025-02-07 13:03:37,958 [INFO] Extracting Series Instance UID from /var/folders/rc/rclfvgm135q8nz2l8y8dq38h0000gq/T/tmpqf1jpwqb.dcm...\n",
      "2025-02-07 13:03:37,963 [INFO] Extracted Series Instance UID: 2.25.102684248141150989816632450799012729142\n",
      "2025-02-07 13:03:37,964 [INFO] Searching for Series Instance UID: 2.25.102684248141150989816632450799012729142 in experiment: 105_20120308_mr...\n"
     ]
    },
    {
     "name": "stdout",
     "output_type": "stream",
     "text": [
      "        Downloaded SEG_20240507_125011_877_S8.dcm to temporary file.\n"
     ]
    },
    {
     "name": "stderr",
     "output_type": "stream",
     "text": [
      "2025-02-07 13:03:38,236 [INFO] Found Series Name: AX_T2_FLAIR for Series UID: 2.25.102684248141150989816632450799012729142\n"
     ]
    },
    {
     "name": "stdout",
     "output_type": "stream",
     "text": [
      "/Volumes/Siren/Brain_data/1.PatientDirectory/105/MRI/Processed_New/\n",
      "Number of segments: 1\n",
      "        Removed temporary file /var/folders/rc/rclfvgm135q8nz2l8y8dq38h0000gq/T/tmpqf1jpwqb.dcm\n",
      "    Found DICOM SEG Resource in Scan SEG_20240507_125225_766_S13\n",
      "      Processing SEG_20240507_125225_766_S13.dcm...\n"
     ]
    },
    {
     "name": "stderr",
     "output_type": "stream",
     "text": [
      "  0% of 135.2 KiB |                                  |   0.0 s/B ETA:  --:--:--\n",
      "100% of 135.2 KiB |################################|   2.1 MiB/s ETA:  00:00:00\n",
      "100% of 135.2 KiB |################################|   2.1 MiB/s Time:  0:00:00\n",
      "2025-02-07 13:03:50,421 [INFO] Extracting Series Instance UID from /var/folders/rc/rclfvgm135q8nz2l8y8dq38h0000gq/T/tmpd26rmg77.dcm...\n",
      "2025-02-07 13:03:50,425 [INFO] Extracted Series Instance UID: 2.25.192738127715109983202147697664094504311\n",
      "2025-02-07 13:03:50,425 [INFO] Searching for Series Instance UID: 2.25.192738127715109983202147697664094504311 in experiment: 105_20120308_mr...\n",
      "2025-02-07 13:03:50,565 [INFO] Found Series Name: Ax_T1_+C for Series UID: 2.25.192738127715109983202147697664094504311\n"
     ]
    },
    {
     "name": "stdout",
     "output_type": "stream",
     "text": [
      "        Downloaded SEG_20240507_125225_766_S13.dcm to temporary file.\n",
      "/Volumes/Siren/Brain_data/1.PatientDirectory/105/MRI/Processed_New/\n",
      "Number of segments: 1\n",
      "        Removed temporary file /var/folders/rc/rclfvgm135q8nz2l8y8dq38h0000gq/T/tmpd26rmg77.dcm\n",
      "  Experiment: 105_20120229_ct\n",
      "  Experiment: 105_20111129_mr\n",
      "  Experiment: 105_20110615_mr\n",
      "  Experiment: 105_20110312_ct\n",
      "Subject: 126\n",
      "  Experiment: 126_20111229_mr\n",
      "  Experiment: 126_20141015_mr\n",
      "  Experiment: 126_20111230_mr\n",
      "  Experiment: 126_20140702_mr\n",
      "  Experiment: 126_20141024_mr\n",
      "  Experiment: 126_20130221_mr\n",
      "  Experiment: 126_20121012_mr\n",
      "  Experiment: 126_20141227_mr\n",
      "    Found DICOM SEG Resource in Scan SEG_20240506_223227_661_S1001\n",
      "      Processing SEG_20240506_223227_661_S1001.dcm...\n"
     ]
    },
    {
     "name": "stderr",
     "output_type": "stream",
     "text": [
      "  0% of  74.1 KiB |                                  |   0.0 s/B ETA:  --:--:--\n",
      "100% of  74.1 KiB |################################|   1.9 MiB/s Time:  0:00:00\n",
      "2025-02-07 13:04:05,447 [INFO] Extracting Series Instance UID from /var/folders/rc/rclfvgm135q8nz2l8y8dq38h0000gq/T/tmpv4ocruso.dcm...\n",
      "2025-02-07 13:04:05,452 [INFO] Extracted Series Instance UID: 2.25.244569972640721613633664288788241137212\n",
      "2025-02-07 13:04:05,453 [INFO] Searching for Series Instance UID: 2.25.244569972640721613633664288788241137212 in experiment: 126_20141227_mr...\n"
     ]
    },
    {
     "name": "stdout",
     "output_type": "stream",
     "text": [
      "        Downloaded SEG_20240506_223227_661_S1001.dcm to temporary file.\n"
     ]
    },
    {
     "name": "stderr",
     "output_type": "stream",
     "text": [
      "2025-02-07 13:04:06,148 [INFO] Found Series Name: T1_AX_GAD for Series UID: 2.25.244569972640721613633664288788241137212\n"
     ]
    },
    {
     "name": "stdout",
     "output_type": "stream",
     "text": [
      "/Volumes/Siren/Brain_data/1.PatientDirectory/126/MRI/Processed_New/\n",
      "  Experiment: 126_20120101_mr\n",
      "  Experiment: 126_20141018_mr\n",
      "  Experiment: 126_20120817_mr\n",
      "  Experiment: 126_20121127_mr\n",
      "  Experiment: 126_20120403_mr\n",
      "  Experiment: 126_20130924_mr\n",
      "  Experiment: 126_20140315_mr\n",
      "  Experiment: 126_20141011_mr\n",
      "  Experiment: 126_20140701_mr\n",
      "  Experiment: 126_20131112_mr\n",
      "  Experiment: 126_20111228_mr\n",
      "  Experiment: 126_20141114_mr\n",
      "  Experiment: 126_20130702_mr\n",
      "  Experiment: 126_20140204_mr\n",
      "  Experiment: 126_20130813_mr\n",
      "  Experiment: 126_20140930_mr\n",
      "  Experiment: 126_20140506_mr\n",
      "  Experiment: 126_20120501_mr\n",
      "  Experiment: 126_20120626_mr\n",
      "  Experiment: 126_20130111_mr\n",
      "  Experiment: 126_20120121_mr\n",
      "  Experiment: 126_20130405_mr\n",
      "  Experiment: 126_20141024_ct\n",
      "  Experiment: 126_20141204_ct\n",
      "  Experiment: 126_20141118_ct\n",
      "  Experiment: 126_20141019_ct\n",
      "  Experiment: 126_20140111_ct\n",
      "  Experiment: 126_20111231_ct\n",
      "  Experiment: 126_20141122_ct\n",
      "  Experiment: 126_20130521_mr\n",
      "  Experiment: 126_20141017_mr\n",
      "  Experiment: 126_20141123_mr\n",
      "  Experiment: 126_20141017_ct\n",
      "  Experiment: 126_20111228_ct\n",
      "  Experiment: 126_20140816_mr\n",
      "Subject: 130\n",
      "  Experiment: 130_20140312_mr\n",
      "  Experiment: 130_20140619_mr\n",
      "  Experiment: 130_20140821_mr\n",
      "  Experiment: 130_20150702_mr\n",
      "  Experiment: 130_20140506_mr\n",
      "  Experiment: 130_20131119_mr\n",
      "  Experiment: 130_20150730_mr\n",
      "  Experiment: 130_20150211_mr\n",
      "  Experiment: 130_20130919_mr\n",
      "  Experiment: 130_20151111_mr\n",
      "  Experiment: 130_20130521_mr\n",
      "  Experiment: 130_20150603_mr\n",
      "  Experiment: 130_20130717_mr\n",
      "  Experiment: 130_20141211_mr\n",
      "  Experiment: 130_20150401_mr\n",
      "  Experiment: 130_20130516_mr\n",
      "  Experiment: 130_20130306_mr\n",
      "  Experiment: 130_20110917_mr\n",
      "  Experiment: 130_20141021_mr\n",
      "  Experiment: 130_20151001_mr\n",
      "  Experiment: 130_20130314_mr\n",
      "  Experiment: 130_20140114_mr\n",
      "  Experiment: 130_20130316_mr\n",
      "Subject: 127\n",
      "  Experiment: 127_20140314_mr\n",
      "  Experiment: 127_20140313_mr\n",
      "  Experiment: 127_20140318_mr\n",
      "  Experiment: 127_20141111_mr\n",
      "  Experiment: 127_20140624_mr\n",
      "  Experiment: 127_20150405_mr\n",
      "    Found DICOM SEG Resource in Scan SEG_20240506_214008_137_S9\n",
      "      Processing SEG_20240506_214008_137_S9.dcm...\n"
     ]
    },
    {
     "name": "stderr",
     "output_type": "stream",
     "text": [
      "  0% of 167.4 KiB |                                  |   0.0 s/B ETA:  --:--:--\n",
      "100% of 167.4 KiB |################################|   2.0 MiB/s ETA:  00:00:00\n",
      "100% of 167.4 KiB |################################|   2.0 MiB/s Time:  0:00:00\n",
      "2025-02-07 13:04:32,059 [INFO] Extracting Series Instance UID from /var/folders/rc/rclfvgm135q8nz2l8y8dq38h0000gq/T/tmpkc4i3ahl.dcm...\n",
      "2025-02-07 13:04:32,063 [INFO] Extracted Series Instance UID: 2.25.101808541730407948753395162676672984702\n",
      "2025-02-07 13:04:32,064 [INFO] Searching for Series Instance UID: 2.25.101808541730407948753395162676672984702 in experiment: 127_20150405_mr...\n"
     ]
    },
    {
     "name": "stdout",
     "output_type": "stream",
     "text": [
      "        Downloaded SEG_20240506_214008_137_S9.dcm to temporary file.\n"
     ]
    },
    {
     "name": "stderr",
     "output_type": "stream",
     "text": [
      "2025-02-07 13:04:32,498 [INFO] Found Series Name: B_Ax_T1_+C for Series UID: 2.25.101808541730407948753395162676672984702\n"
     ]
    },
    {
     "name": "stdout",
     "output_type": "stream",
     "text": [
      "/Volumes/Siren/Brain_data/1.PatientDirectory/127/MRI/Processed_New/\n",
      "Number of segments: 1\n",
      "        Removed temporary file /var/folders/rc/rclfvgm135q8nz2l8y8dq38h0000gq/T/tmpkc4i3ahl.dcm\n",
      "    Found DICOM SEG Resource in Scan SEG_20240506_220901_445_S6\n",
      "      Processing SEG_20240506_220901_445_S6.dcm...\n"
     ]
    },
    {
     "name": "stderr",
     "output_type": "stream",
     "text": [
      "  0% of 460.2 KiB |                                  |   0.0 s/B ETA:  --:--:--\n",
      "100% of 460.2 KiB |################################|   3.2 MiB/s ETA:  00:00:00\n",
      "100% of 460.2 KiB |################################|   3.2 MiB/s Time:  0:00:00\n",
      "2025-02-07 13:04:44,694 [INFO] Extracting Series Instance UID from /var/folders/rc/rclfvgm135q8nz2l8y8dq38h0000gq/T/tmpc67668cs.dcm...\n",
      "2025-02-07 13:04:44,698 [INFO] Extracted Series Instance UID: 2.25.118910697828557717080111877743074171464\n",
      "2025-02-07 13:04:44,699 [INFO] Searching for Series Instance UID: 2.25.118910697828557717080111877743074171464 in experiment: 127_20150405_mr...\n",
      "2025-02-07 13:04:44,699 [INFO] Found Series Name: B_AX_T2_FLAIR for Series UID: 2.25.118910697828557717080111877743074171464\n"
     ]
    },
    {
     "name": "stdout",
     "output_type": "stream",
     "text": [
      "        Downloaded SEG_20240506_220901_445_S6.dcm to temporary file.\n",
      "/Volumes/Siren/Brain_data/1.PatientDirectory/127/MRI/Processed_New/\n",
      "Number of segments: 1\n",
      "        Removed temporary file /var/folders/rc/rclfvgm135q8nz2l8y8dq38h0000gq/T/tmpc67668cs.dcm\n",
      "    Found DICOM SEG Resource in Scan SEG_20240506_221157_655_S9\n",
      "      Processing SEG_20240506_221157_655_S9.dcm...\n"
     ]
    },
    {
     "name": "stderr",
     "output_type": "stream",
     "text": [
      "  0% of 362.9 KiB |                                  |   0.0 s/B ETA:  --:--:--\n",
      "100% of 362.9 KiB |################################|   3.2 MiB/s ETA:  00:00:00\n",
      "100% of 362.9 KiB |################################|   3.2 MiB/s Time:  0:00:00\n",
      "2025-02-07 13:04:56,359 [INFO] Extracting Series Instance UID from /var/folders/rc/rclfvgm135q8nz2l8y8dq38h0000gq/T/tmpybgv1dt5.dcm...\n",
      "2025-02-07 13:04:56,365 [INFO] Extracted Series Instance UID: 2.25.101808541730407948753395162676672984702\n",
      "2025-02-07 13:04:56,366 [INFO] Searching for Series Instance UID: 2.25.101808541730407948753395162676672984702 in experiment: 127_20150405_mr...\n",
      "2025-02-07 13:04:56,366 [INFO] Found Series Name: B_Ax_T1_+C for Series UID: 2.25.101808541730407948753395162676672984702\n"
     ]
    },
    {
     "name": "stdout",
     "output_type": "stream",
     "text": [
      "        Downloaded SEG_20240506_221157_655_S9.dcm to temporary file.\n",
      "/Volumes/Siren/Brain_data/1.PatientDirectory/127/MRI/Processed_New/\n",
      "Number of segments: 2\n",
      "        Removed temporary file /var/folders/rc/rclfvgm135q8nz2l8y8dq38h0000gq/T/tmpybgv1dt5.dcm\n",
      "  Experiment: 127_20140327_mr\n",
      "  Experiment: 127_20140318_ct\n",
      "  Experiment: 127_20150405_ct\n",
      "  Experiment: 127_20140314_ct\n",
      "  Experiment: 127_20130902_ct\n",
      "  Experiment: 127_20140312_mr\n",
      "  Experiment: 127_20141230_mr\n",
      "  Experiment: 127_20140819_mr\n",
      "  Experiment: 127_20140319_mr\n",
      "  Experiment: 127_20150210_mr\n",
      "  Experiment: 127_20140930_mr\n",
      "  Experiment: 127_20130901_ct\n",
      "Subject: 128\n",
      "  Experiment: 128_20130130_ct\n",
      "  Experiment: 128_20150420_ct\n",
      "  Experiment: 128_20130202_ct\n",
      "  Experiment: 128_20150421_ct\n",
      "  Experiment: 128_20100312_mr\n",
      "  Experiment: 128_20110504_mr\n",
      "  Experiment: 128_20120404_mr\n",
      "  Experiment: 128_20130612_mr\n",
      "  Experiment: 128_20131016_mr\n",
      "  Experiment: 128_20130201_mr\n",
      "  Experiment: 128_20140814_mr\n",
      "  Experiment: 128_20110706_mr\n",
      "  Experiment: 128_20110112_mr\n",
      "  Experiment: 128_20130116_mr\n",
      "  Experiment: 128_20140521_mr\n",
      "  Experiment: 128_20110309_mr\n",
      "  Experiment: 128_20150421_mr\n",
      "  Experiment: 128_20140115_mr\n",
      "  Experiment: 128_20100730_mr\n",
      "  Experiment: 128_20130202_mr\n",
      "  Experiment: 128_20140925_mr\n",
      "  Experiment: 128_20140409_mr\n",
      "  Experiment: 128_20100921_mr\n",
      "  Experiment: 128_20100602_mr\n",
      "  Experiment: 128_20101117_mr\n",
      "  Experiment: 128_20121010_mr\n",
      "  Experiment: 128_20140703_mr\n",
      "  Experiment: 128_20111102_mr\n",
      "  Experiment: 128_20120627_mr\n",
      "  Experiment: 128_20141106_mr\n",
      "  Experiment: 128_20140226_mr\n",
      "  Experiment: 128_20110831_mr\n",
      "  Experiment: 128_20111228_mr\n",
      "  Experiment: 128_20141218_mr\n",
      "  Experiment: 128_20130418_mr\n",
      "  Experiment: 128_20130807_mr\n",
      "  Experiment: 128_20100106_ct\n",
      "  Experiment: 128_20100108_ct\n",
      "  Experiment: 128_20100110_ct\n",
      "  Experiment: 128_20100107_ct\n",
      "  Experiment: 128_20091229_ct\n",
      "  Experiment: 128_20091230_mr\n",
      "  Experiment: 128_20150212_mr\n",
      "Subject: 131\n",
      "  Experiment: 131_20141209_ct\n",
      "  Experiment: 131_20140228_ct\n",
      "  Experiment: 131_20140207_ct\n",
      "  Experiment: 131_20140715_ct\n",
      "  Experiment: 131_20140604_ct\n",
      "  Experiment: 131_20140604_mr\n",
      "  Experiment: 131_20140327_mr\n",
      "  Experiment: 131_20150121_mr\n",
      "  Experiment: 131_20140228_mr\n",
      "  Experiment: 131_20140208_mr\n",
      "  Experiment: 131_20140225_mr\n",
      "  Experiment: 131_20140625_mr\n",
      "  Experiment: 131_20140207_mr\n",
      "  Experiment: 131_20140820_mr\n",
      "  Experiment: 131_20141209_mr\n",
      "  Experiment: 131_20141015_mr\n",
      "Subject: 132\n",
      "  Experiment: 132_20130706_pt\n",
      "  Experiment: 132_20130706_ct\n",
      "  Experiment: 132_20120809_ct\n",
      "  Experiment: 132_20140307_ct\n",
      "  Experiment: 132_20140926_ct\n",
      "  Experiment: 132_20140207_ct\n",
      "  Experiment: 132_20140606_ct\n",
      "  Experiment: 132_20140409_ct\n",
      "  Experiment: 132_20150422_ct\n",
      "  Experiment: 132_20120122_ct\n",
      "  Experiment: 132_20120823_ct\n",
      "  Experiment: 132_20140425_ct\n",
      "  Experiment: 132_20150911_ct\n",
      "  Experiment: 132_20130921_ct\n",
      "  Experiment: 132_20150708_ct\n",
      "  Experiment: 132_20141126_ct\n",
      "  Experiment: 132_20140801_ct\n",
      "  Experiment: 132_20150128_ct\n",
      "  Experiment: 132_20130624_ct\n",
      "Subject: 133\n",
      "  Experiment: 133_20150918_mr\n",
      "  Experiment: 133_20160224_mr\n",
      "  Experiment: 133_20160603_mr\n",
      "    Found DICOM SEG Resource in Scan SEG_20240506_204609_256_S9\n",
      "      Processing SEG_20240506_204609_256_S9.dcm...\n"
     ]
    },
    {
     "name": "stderr",
     "output_type": "stream",
     "text": [
      "  0% of 265.1 KiB |                                  |   0.0 s/B ETA:  --:--:--\n",
      "100% of 265.1 KiB |################################|   3.0 MiB/s ETA:  00:00:00\n",
      "100% of 265.1 KiB |################################|   2.9 MiB/s Time:  0:00:00\n",
      "2025-02-07 13:05:26,323 [INFO] Extracting Series Instance UID from /var/folders/rc/rclfvgm135q8nz2l8y8dq38h0000gq/T/tmp8pwlgy4t.dcm...\n",
      "2025-02-07 13:05:26,328 [INFO] Extracted Series Instance UID: 2.25.266411796358919303759196955639209196258\n",
      "2025-02-07 13:05:26,328 [INFO] Searching for Series Instance UID: 2.25.266411796358919303759196955639209196258 in experiment: 133_20160603_mr...\n"
     ]
    },
    {
     "name": "stdout",
     "output_type": "stream",
     "text": [
      "        Downloaded SEG_20240506_204609_256_S9.dcm to temporary file.\n"
     ]
    },
    {
     "name": "stderr",
     "output_type": "stream",
     "text": [
      "2025-02-07 13:05:26,727 [INFO] Found Series Name: B_Ax_T1_+C for Series UID: 2.25.266411796358919303759196955639209196258\n"
     ]
    },
    {
     "name": "stdout",
     "output_type": "stream",
     "text": [
      "/Volumes/Siren/Brain_data/1.PatientDirectory/133/MRI/Processed_New/\n",
      "Number of segments: 1\n",
      "        Removed temporary file /var/folders/rc/rclfvgm135q8nz2l8y8dq38h0000gq/T/tmp8pwlgy4t.dcm\n",
      "    Found DICOM SEG Resource in Scan SEG_20240506_210915_788_S6\n",
      "      Processing SEG_20240506_210915_788_S6.dcm...\n"
     ]
    },
    {
     "name": "stderr",
     "output_type": "stream",
     "text": [
      "  0% of 492.9 KiB |                                  |   0.0 s/B ETA:  --:--:--\n",
      "100% of 492.9 KiB |################################|   3.4 MiB/s ETA:  00:00:00\n",
      "100% of 492.9 KiB |################################|   3.4 MiB/s Time:  0:00:00\n",
      "2025-02-07 13:05:38,893 [INFO] Extracting Series Instance UID from /var/folders/rc/rclfvgm135q8nz2l8y8dq38h0000gq/T/tmpk22twh_f.dcm...\n",
      "2025-02-07 13:05:38,900 [INFO] Extracted Series Instance UID: 2.25.301142739593715309684344475317173298368\n",
      "2025-02-07 13:05:38,900 [INFO] Searching for Series Instance UID: 2.25.301142739593715309684344475317173298368 in experiment: 133_20160603_mr...\n",
      "2025-02-07 13:05:38,901 [INFO] Found Series Name: B_AX_T2_FLAIR for Series UID: 2.25.301142739593715309684344475317173298368\n"
     ]
    },
    {
     "name": "stdout",
     "output_type": "stream",
     "text": [
      "        Downloaded SEG_20240506_210915_788_S6.dcm to temporary file.\n",
      "/Volumes/Siren/Brain_data/1.PatientDirectory/133/MRI/Processed_New/\n",
      "Number of segments: 1\n",
      "        Removed temporary file /var/folders/rc/rclfvgm135q8nz2l8y8dq38h0000gq/T/tmpk22twh_f.dcm\n",
      "  Experiment: 133_20160506_mr\n",
      "  Experiment: 133_20151014_mr\n",
      "  Experiment: 133_20150903_mr\n",
      "  Experiment: 133_20150912_mr\n",
      "  Experiment: 133_20160511_mr\n",
      "  Experiment: 133_20150912_ct\n",
      "  Experiment: 133_20150912_pt\n",
      "  Experiment: 133_20160506_ct\n",
      "  Experiment: 133_20160519_ct\n",
      "  Experiment: 133_20150916_mr\n",
      "  Experiment: 133_20151013_ct\n",
      "  Experiment: 133_20160420_mr\n",
      "  Experiment: 133_20150913_ct\n",
      "  Experiment: 133_20160510_mr\n",
      "  Experiment: 133_20151230_mr\n",
      "  Experiment: 133_20160603_ct\n",
      "  Experiment: 133_20150917_ct\n",
      "  Experiment: 133_20150903_ct\n",
      "  Experiment: 133_20160601_ct\n",
      "  Experiment: 133_20160510_ct\n",
      "Subject: 129\n",
      "  Experiment: 129_20150808_mr\n",
      "  Experiment: 129_20151124_mr\n",
      "  Experiment: 129_20150811_ct\n",
      "  Experiment: 129_20150807_ct\n",
      "  Experiment: 129_20150916_ct\n",
      "  Experiment: 129_20150924_ct\n",
      "  Experiment: 129_20151026_ct\n",
      "  Experiment: 129_20151017_mr\n",
      "  Experiment: 129_20150820_mr\n",
      "  Experiment: 129_20150812_ct\n",
      "Subject: 134\n",
      "  Experiment: 134_20160713_ct\n",
      "  Experiment: 134_20160315_ct\n",
      "  Experiment: 134_20160609_mr\n",
      "  Experiment: 134_20160316_mr\n",
      "Subject: 135\n",
      "  Experiment: 135_20141230_ct\n",
      "  Experiment: 135_20150605_ct\n",
      "  Experiment: 135_20151226_ct\n",
      "  Experiment: 135_20150517_ct\n",
      "  Experiment: 135_20141217_mr\n",
      "  Experiment: 135_20150529_mr\n",
      "  Experiment: 135_20150702_mr\n",
      "  Experiment: 135_20150605_mr\n",
      "  Experiment: 135_20141230_mr\n",
      "  Experiment: 135_20141209_mr\n",
      "  Experiment: 135_20141231_mr\n",
      "  Experiment: 135_20150911_mr\n",
      "  Experiment: 135_20150321_mr\n",
      "  Experiment: 135_20150606_mr\n",
      "  Experiment: 135_20090813_mr\n",
      "  Experiment: 135_20151221_mr\n",
      "  Experiment: 135_20150519_mr\n",
      "  Experiment: 135_20100618_mr\n",
      "Subject: 136\n",
      "  Experiment: 136_20070612_mr\n",
      "  Experiment: 136_20050929_mr\n",
      "  Experiment: 136_20111221_mr\n",
      "  Experiment: 136_20080618_mr\n",
      "  Experiment: 136_20141031_mr\n",
      "  Experiment: 136_20150219_mr\n",
      "  Experiment: 136_20131227_mr\n",
      "  Experiment: 136_20160701_ct\n",
      "  Experiment: 136_20050728_mr\n",
      "  Experiment: 136_20071212_mr\n",
      "  Experiment: 136_20081022_mr\n",
      "  Experiment: 136_20090624_mr\n",
      "  Experiment: 136_20110105_mr\n",
      "  Experiment: 136_20040605_mr\n",
      "  Experiment: 136_20060126_mr\n",
      "  Experiment: 136_20050602_mr\n",
      "  Experiment: 136_20041202_mr\n",
      "  Experiment: 136_20050325_mr\n",
      "  Experiment: 136_20061207_mr\n",
      "  Experiment: 136_20140507_mr\n",
      "  Experiment: 136_20070912_mr\n",
      "  Experiment: 136_20140711_mr\n",
      "  Experiment: 136_20131227_ct\n",
      "  Experiment: 136_20040609_mr\n",
      "  Experiment: 136_20060907_mr\n",
      "  Experiment: 136_20070313_mr\n",
      "  Experiment: 136_20090225_mr\n",
      "  Experiment: 136_20080312_mr\n",
      "  Experiment: 136_20060608_mr\n",
      "  Experiment: 136_20131218_mr\n",
      "  Experiment: 136_20150422_mr\n",
      "  Experiment: 136_20140905_mr\n",
      "  Experiment: 136_20040707_mr\n",
      "  Experiment: 136_20040608_ct\n",
      "  Experiment: 136_20040923_mr\n",
      "  Experiment: 136_20050201_mr\n",
      "  Experiment: 136_20140131_mr\n",
      "  Experiment: 136_20140307_mr\n",
      "  Experiment: 136_20141225_mr\n",
      "  Experiment: 136_20051124_mr\n",
      "  Experiment: 136_20060323_mr\n",
      "  Experiment: 136_20121219_mr\n",
      "  Experiment: 136_20091230_mr\n",
      "  Experiment: 136_20160209_mr\n",
      "  Experiment: 136_20160729_mr\n",
      "    Found DICOM SEG Resource in Scan SEG_20240506_193355_504_S12\n",
      "      Processing SEG_20240506_193355_504_S12.dcm...\n"
     ]
    },
    {
     "name": "stderr",
     "output_type": "stream",
     "text": [
      "  0% of 395.2 KiB |                                  |   0.0 s/B ETA:  --:--:--\n",
      "100% of 395.2 KiB |################################|   3.3 MiB/s ETA:  00:00:00\n",
      "100% of 395.2 KiB |################################|   3.3 MiB/s Time:  0:00:00\n",
      "2025-02-07 13:06:13,008 [INFO] Extracting Series Instance UID from /var/folders/rc/rclfvgm135q8nz2l8y8dq38h0000gq/T/tmpx9oxl_ms.dcm...\n",
      "2025-02-07 13:06:13,012 [INFO] Extracted Series Instance UID: 2.25.245300415776561291234485066958997488097\n",
      "2025-02-07 13:06:13,013 [INFO] Searching for Series Instance UID: 2.25.245300415776561291234485066958997488097 in experiment: 136_20160729_mr...\n"
     ]
    },
    {
     "name": "stdout",
     "output_type": "stream",
     "text": [
      "        Downloaded SEG_20240506_193355_504_S12.dcm to temporary file.\n"
     ]
    },
    {
     "name": "stderr",
     "output_type": "stream",
     "text": [
      "2025-02-07 13:06:13,563 [INFO] Found Series Name: Ax_T1_+C for Series UID: 2.25.245300415776561291234485066958997488097\n"
     ]
    },
    {
     "name": "stdout",
     "output_type": "stream",
     "text": [
      "/Volumes/Siren/Brain_data/1.PatientDirectory/136/MRI/Processed_New/\n",
      "        Could not find directory for SEG_20240506_193355_504_S12.dcm\n",
      "    Found DICOM SEG Resource in Scan SEG_20240506_203000_820_S7\n",
      "      Processing SEG_20240506_203000_820_S7.dcm...\n"
     ]
    },
    {
     "name": "stderr",
     "output_type": "stream",
     "text": [
      "  0% of 460.3 KiB |                                  |   0.0 s/B ETA:  --:--:--\n",
      "100% of 460.3 KiB |################################|   3.5 MiB/s ETA:  00:00:00\n",
      "100% of 460.3 KiB |################################|   3.5 MiB/s Time:  0:00:00\n",
      "2025-02-07 13:06:22,935 [INFO] Extracting Series Instance UID from /var/folders/rc/rclfvgm135q8nz2l8y8dq38h0000gq/T/tmp1efbxjv8.dcm...\n",
      "2025-02-07 13:06:22,940 [INFO] Extracted Series Instance UID: 2.25.332201774940192366848206220401034865754\n",
      "2025-02-07 13:06:22,940 [INFO] Searching for Series Instance UID: 2.25.332201774940192366848206220401034865754 in experiment: 136_20160729_mr...\n",
      "2025-02-07 13:06:22,941 [INFO] Found Series Name: AX_T2_FLAIR for Series UID: 2.25.332201774940192366848206220401034865754\n"
     ]
    },
    {
     "name": "stdout",
     "output_type": "stream",
     "text": [
      "        Downloaded SEG_20240506_203000_820_S7.dcm to temporary file.\n",
      "/Volumes/Siren/Brain_data/1.PatientDirectory/136/MRI/Processed_New/\n",
      "        Could not find directory for SEG_20240506_203000_820_S7.dcm\n",
      "Subject: 137\n",
      "  Experiment: 137_20150825_mr\n",
      "  Experiment: 137_20160325_mr\n",
      "  Experiment: 137_20151210_mr\n",
      "  Experiment: 137_20160915_mr\n",
      "  Experiment: 137_20160122_mr\n",
      "  Experiment: 137_20150826_mr\n",
      "  Experiment: 137_20160623_mr\n",
      "  Experiment: 137_20150820_mr\n",
      "  Experiment: 137_20150816_ct\n",
      "  Experiment: 137_20150825_ct\n",
      "  Experiment: 137_20150816_mr\n",
      "  Experiment: 137_20150909_mr\n",
      "Subject: 138\n",
      "  Experiment: 138_20161115_mr\n",
      "    Found DICOM SEG Resource in Scan SEG_20240506_185203_417_S11\n",
      "      Processing SEG_20240506_185203_417_S11.dcm...\n"
     ]
    },
    {
     "name": "stderr",
     "output_type": "stream",
     "text": [
      "  0% of 232.4 KiB |                                  |   0.0 s/B ETA:  --:--:--\n",
      "100% of 232.4 KiB |################################|   2.9 MiB/s ETA:  00:00:00\n",
      "100% of 232.4 KiB |################################|   2.8 MiB/s Time:  0:00:00\n",
      "2025-02-07 13:06:35,694 [INFO] Extracting Series Instance UID from /var/folders/rc/rclfvgm135q8nz2l8y8dq38h0000gq/T/tmp_mfoezx2.dcm...\n",
      "2025-02-07 13:06:35,707 [INFO] Extracted Series Instance UID: 2.25.88937781839563091448819060364297277207\n",
      "2025-02-07 13:06:35,707 [INFO] Searching for Series Instance UID: 2.25.88937781839563091448819060364297277207 in experiment: 138_20161115_mr...\n"
     ]
    },
    {
     "name": "stdout",
     "output_type": "stream",
     "text": [
      "        Downloaded SEG_20240506_185203_417_S11.dcm to temporary file.\n"
     ]
    },
    {
     "name": "stderr",
     "output_type": "stream",
     "text": [
      "2025-02-07 13:06:36,055 [INFO] Found Series Name: B_AX_T1_(+) for Series UID: 2.25.88937781839563091448819060364297277207\n"
     ]
    },
    {
     "name": "stdout",
     "output_type": "stream",
     "text": [
      "/Volumes/Siren/Brain_data/1.PatientDirectory/138/MRI/Processed_New/\n",
      "Number of segments: 1\n",
      "        Removed temporary file /var/folders/rc/rclfvgm135q8nz2l8y8dq38h0000gq/T/tmp_mfoezx2.dcm\n",
      "    Found DICOM SEG Resource in Scan SEG_20240506_192526_191_S6\n",
      "      Processing SEG_20240506_192526_191_S6.dcm...\n"
     ]
    },
    {
     "name": "stderr",
     "output_type": "stream",
     "text": [
      "  0% of 427.6 KiB |                                  |   0.0 s/B ETA:  --:--:--\n",
      "100% of 427.6 KiB |################################|   3.8 MiB/s ETA:  00:00:00\n",
      "100% of 427.6 KiB |################################|   3.8 MiB/s Time:  0:00:00\n",
      "2025-02-07 13:06:47,979 [INFO] Extracting Series Instance UID from /var/folders/rc/rclfvgm135q8nz2l8y8dq38h0000gq/T/tmpy5ke0iz0.dcm...\n",
      "2025-02-07 13:06:47,985 [INFO] Extracted Series Instance UID: 2.25.146035527000518772094344785804932701480\n",
      "2025-02-07 13:06:47,985 [INFO] Searching for Series Instance UID: 2.25.146035527000518772094344785804932701480 in experiment: 138_20161115_mr...\n",
      "2025-02-07 13:06:47,985 [INFO] Found Series Name: B_AX_FLAIR for Series UID: 2.25.146035527000518772094344785804932701480\n"
     ]
    },
    {
     "name": "stdout",
     "output_type": "stream",
     "text": [
      "        Downloaded SEG_20240506_192526_191_S6.dcm to temporary file.\n",
      "/Volumes/Siren/Brain_data/1.PatientDirectory/138/MRI/Processed_New/\n",
      "Number of segments: 1\n",
      "        Removed temporary file /var/folders/rc/rclfvgm135q8nz2l8y8dq38h0000gq/T/tmpy5ke0iz0.dcm\n",
      "  Experiment: 138_20160129_ct\n",
      "  Experiment: 138_20160906_ct\n",
      "  Experiment: 138_20150929_ct\n",
      "  Experiment: 138_20160627_ct\n",
      "  Experiment: 138_20150930_ct\n",
      "  Experiment: 138_20151001_ct\n",
      "  Experiment: 138_20160129_mr\n",
      "  Experiment: 138_20151021_mr\n",
      "  Experiment: 138_20160130_mr\n",
      "  Experiment: 138_20160628_mr\n",
      "  Experiment: 138_20160729_mr\n",
      "  Experiment: 138_20150929_mr\n",
      "Subject: 139\n",
      "  Experiment: 139_20131113_ct\n",
      "  Experiment: 139_20170213_ct\n",
      "  Experiment: 139_20040915_mr\n",
      "  Experiment: 139_20151211_ct\n",
      "  Experiment: 139_20150520_mr\n",
      "  Experiment: 139_20150422_mr\n",
      "  Experiment: 139_20120628_mr\n",
      "  Experiment: 139_20151211_mr\n",
      "  Experiment: 139_20061223_mr\n",
      "  Experiment: 139_20120216_mr\n",
      "  Experiment: 139_20131121_mr\n",
      "  Experiment: 139_20020928_mr\n",
      "  Experiment: 139_20030822_mr\n",
      "  Experiment: 139_20140528_mr\n",
      "  Experiment: 139_20120906_mr\n",
      "  Experiment: 139_20141226_mr\n",
      "  Experiment: 139_20130301_mr\n",
      "  Experiment: 139_20041202_mr\n",
      "  Experiment: 139_20110909_mr\n",
      "  Experiment: 139_20100123_mr\n",
      "  Experiment: 139_20070825_mr\n",
      "  Experiment: 139_20120512_mr\n",
      "  Experiment: 139_20040731_mr\n",
      "  Experiment: 139_20050910_mr\n",
      "  Experiment: 139_20130925_mr\n",
      "  Experiment: 139_20131116_mr\n",
      "  Experiment: 139_20140213_mr\n",
      "  Experiment: 139_20170219_mr\n",
      "  Experiment: 139_20160325_mr\n",
      "  Experiment: 139_20151020_mr\n",
      "  Experiment: 139_20130607_mr\n",
      "  Experiment: 139_20110104_mr\n",
      "  Experiment: 139_20050507_mr\n",
      "  Experiment: 139_20140821_mr\n",
      "  Experiment: 139_20081007_mr\n",
      "  Experiment: 139_20061003_mr\n",
      "  Experiment: 139_20070323_mr\n",
      "  Experiment: 139_20040923_mr\n",
      "  Experiment: 139_20150310_mr\n",
      "  Experiment: 139_20060225_mr\n",
      "  Experiment: 139_20051221_mr\n",
      "  Experiment: 139_20121114_mr\n",
      "  Experiment: 139_20021227_mr\n",
      "  Experiment: 139_20141203_mr\n",
      "  Experiment: 139_20060624_mr\n",
      "  Experiment: 139_20160128_mr\n",
      "  Experiment: 139_20170111_mr\n",
      "Subject: 140\n",
      "  Experiment: 140_20151015_mr\n",
      "  Experiment: 140_20151013_ct\n",
      "  Experiment: 140_20151016_ct\n",
      "  Experiment: 140_20161013_mr\n",
      "  Experiment: 140_20151013_mr\n",
      "  Experiment: 140_20161112_mr\n",
      "  Experiment: 140_20160729_mr\n",
      "  Experiment: 140_20150505_ct\n",
      "  Experiment: 140_20160323_ct\n",
      "  Experiment: 140_20170203_mr\n",
      "  Experiment: 140_20151017_mr\n",
      "  Experiment: 140_20161220_mr\n",
      "  Experiment: 140_20160818_mr\n",
      "  Experiment: 140_20160419_mr\n",
      "  Experiment: 140_20170321_mr\n",
      "    Found DICOM SEG Resource in Scan SEG_20240506_163704_716_S12\n",
      "      Processing SEG_20240506_163704_716_S12.dcm...\n"
     ]
    },
    {
     "name": "stderr",
     "output_type": "stream",
     "text": [
      "  0% of 362.9 KiB |                                  |   0.0 s/B ETA:  --:--:--\n",
      "100% of 362.9 KiB |################################|   3.1 MiB/s ETA:  00:00:00\n",
      "100% of 362.9 KiB |################################|   3.1 MiB/s Time:  0:00:00\n",
      "2025-02-07 13:07:19,558 [INFO] Extracting Series Instance UID from /var/folders/rc/rclfvgm135q8nz2l8y8dq38h0000gq/T/tmp2ekwjrpo.dcm...\n",
      "2025-02-07 13:07:19,563 [INFO] Extracted Series Instance UID: 2.25.5706833199966654972369834931866774479\n",
      "2025-02-07 13:07:19,563 [INFO] Searching for Series Instance UID: 2.25.5706833199966654972369834931866774479 in experiment: 140_20170321_mr...\n"
     ]
    },
    {
     "name": "stdout",
     "output_type": "stream",
     "text": [
      "        Downloaded SEG_20240506_163704_716_S12.dcm to temporary file.\n"
     ]
    },
    {
     "name": "stderr",
     "output_type": "stream",
     "text": [
      "2025-02-07 13:07:20,133 [INFO] Found Series Name: Ax_T1_+C for Series UID: 2.25.5706833199966654972369834931866774479\n"
     ]
    },
    {
     "name": "stdout",
     "output_type": "stream",
     "text": [
      "/Volumes/Siren/Brain_data/1.PatientDirectory/140/MRI/Processed_New/\n",
      "Number of segments: 2\n",
      "        Removed temporary file /var/folders/rc/rclfvgm135q8nz2l8y8dq38h0000gq/T/tmp2ekwjrpo.dcm\n",
      "    Found DICOM SEG Resource in Scan SEG_20240506_165917_281_S6\n",
      "      Processing SEG_20240506_165917_281_S6.dcm...\n"
     ]
    },
    {
     "name": "stderr",
     "output_type": "stream",
     "text": [
      "  0% of 427.7 KiB |                                  |   0.0 s/B ETA:  --:--:--\n",
      "100% of 427.7 KiB |################################|   3.0 MiB/s ETA:  00:00:00\n",
      "100% of 427.7 KiB |################################|   3.0 MiB/s Time:  0:00:00\n",
      "2025-02-07 13:07:32,400 [INFO] Extracting Series Instance UID from /var/folders/rc/rclfvgm135q8nz2l8y8dq38h0000gq/T/tmp4mpxldqr.dcm...\n",
      "2025-02-07 13:07:32,406 [INFO] Extracted Series Instance UID: 2.25.269993402576817805682194972470999151725\n",
      "2025-02-07 13:07:32,406 [INFO] Searching for Series Instance UID: 2.25.269993402576817805682194972470999151725 in experiment: 140_20170321_mr...\n",
      "2025-02-07 13:07:32,407 [INFO] Found Series Name: AX_T2_FLAIR for Series UID: 2.25.269993402576817805682194972470999151725\n"
     ]
    },
    {
     "name": "stdout",
     "output_type": "stream",
     "text": [
      "        Downloaded SEG_20240506_165917_281_S6.dcm to temporary file.\n",
      "/Volumes/Siren/Brain_data/1.PatientDirectory/140/MRI/Processed_New/\n",
      "Number of segments: 1\n",
      "        Removed temporary file /var/folders/rc/rclfvgm135q8nz2l8y8dq38h0000gq/T/tmp4mpxldqr.dcm\n",
      "Subject: 158\n",
      "  Experiment: 158_20180306_mr\n",
      "  Experiment: 158_20171121_mr\n",
      "  Experiment: 158_20171123_mr\n",
      "  Experiment: 158_20180512_mr\n",
      "  Experiment: 158_20180710_mr\n",
      "  Experiment: 158_20181107_mr\n",
      "    Found DICOM SEG Resource in Scan SEG_20240502_121126_489_S12002\n",
      "      Processing SEG_20240502_121126_489_S12002.dcm...\n"
     ]
    },
    {
     "name": "stderr",
     "output_type": "stream",
     "text": [
      "  0% of 515.1 KiB |                                  |   0.0 s/B ETA:  --:--:--\n",
      " 99% of 515.1 KiB |############################### |   3.0 MiB/s ETA:   0:00:00\n",
      "100% of 515.1 KiB |################################|   3.0 MiB/s Time:  0:00:00\n",
      "2025-02-07 13:07:45,934 [INFO] Extracting Series Instance UID from /var/folders/rc/rclfvgm135q8nz2l8y8dq38h0000gq/T/tmplqrt8lgg.dcm...\n",
      "2025-02-07 13:07:45,943 [INFO] Extracted Series Instance UID: 2.25.18148632139710541049858514158817717552\n",
      "2025-02-07 13:07:45,944 [INFO] Searching for Series Instance UID: 2.25.18148632139710541049858514158817717552 in experiment: 158_20181107_mr...\n"
     ]
    },
    {
     "name": "stdout",
     "output_type": "stream",
     "text": [
      "        Downloaded SEG_20240502_121126_489_S12002.dcm to temporary file.\n"
     ]
    },
    {
     "name": "stderr",
     "output_type": "stream",
     "text": [
      "2025-02-07 13:07:46,689 [INFO] Found Series Name: +C_3D_T1WI for Series UID: 2.25.18148632139710541049858514158817717552\n"
     ]
    },
    {
     "name": "stdout",
     "output_type": "stream",
     "text": [
      "/Volumes/Siren/Brain_data/1.PatientDirectory/158/MRI/Processed_New/\n",
      "Number of segments: 1\n",
      "        Conversion failed for SEG_20240502_121126_489_S12002.dcm: Segmentation size (328, 512, 79) does not match NIfTI size (332, 512, 512)\n",
      "        Removed temporary file /var/folders/rc/rclfvgm135q8nz2l8y8dq38h0000gq/T/tmplqrt8lgg.dcm\n",
      "    Found DICOM SEG Resource in Scan SEG_20240502_130712_679_S11003\n",
      "      Processing SEG_20240502_130712_679_S11003.dcm...\n"
     ]
    },
    {
     "name": "stderr",
     "output_type": "stream",
     "text": [
      "  0% of 731.2 KiB |                                  |   0.0 s/B ETA:  --:--:--\n",
      " 70% of 731.2 KiB |######################          |   3.3 MiB/s ETA:   0:00:00\n",
      "100% of 731.2 KiB |################################|   3.3 MiB/s Time:  0:00:00\n",
      "2025-02-07 13:08:03,432 [INFO] Extracting Series Instance UID from /var/folders/rc/rclfvgm135q8nz2l8y8dq38h0000gq/T/tmpjzeho47w.dcm...\n",
      "2025-02-07 13:08:03,445 [INFO] Extracted Series Instance UID: 2.25.327868020809749443042307879503966015237\n",
      "2025-02-07 13:08:03,445 [INFO] Searching for Series Instance UID: 2.25.327868020809749443042307879503966015237 in experiment: 158_20181107_mr...\n",
      "2025-02-07 13:08:03,446 [INFO] Found Series Name: 3D_Flair_FS for Series UID: 2.25.327868020809749443042307879503966015237\n"
     ]
    },
    {
     "name": "stdout",
     "output_type": "stream",
     "text": [
      "        Downloaded SEG_20240502_130712_679_S11003.dcm to temporary file.\n",
      "/Volumes/Siren/Brain_data/1.PatientDirectory/158/MRI/Processed_New/\n",
      "Number of segments: 1\n",
      "        Removed temporary file /var/folders/rc/rclfvgm135q8nz2l8y8dq38h0000gq/T/tmpjzeho47w.dcm\n",
      "    Found DICOM SEG Resource in Scan SEG_20240502_131531_910_S12002\n",
      "      Processing SEG_20240502_131531_910_S12002.dcm...\n"
     ]
    },
    {
     "name": "stderr",
     "output_type": "stream",
     "text": [
      "  0% of 641.5 KiB |                                  |   0.0 s/B ETA:  --:--:--\n",
      " 79% of 641.5 KiB |#########################       |   3.3 MiB/s ETA:   0:00:00\n",
      "100% of 641.5 KiB |################################|   3.3 MiB/s Time:  0:00:00\n",
      "2025-02-07 13:08:15,417 [INFO] Extracting Series Instance UID from /var/folders/rc/rclfvgm135q8nz2l8y8dq38h0000gq/T/tmpfwswfd3b.dcm...\n",
      "2025-02-07 13:08:15,428 [INFO] Extracted Series Instance UID: 2.25.18148632139710541049858514158817717552\n",
      "2025-02-07 13:08:15,429 [INFO] Searching for Series Instance UID: 2.25.18148632139710541049858514158817717552 in experiment: 158_20181107_mr...\n",
      "2025-02-07 13:08:15,430 [INFO] Found Series Name: +C_3D_T1WI for Series UID: 2.25.18148632139710541049858514158817717552\n"
     ]
    },
    {
     "name": "stdout",
     "output_type": "stream",
     "text": [
      "        Downloaded SEG_20240502_131531_910_S12002.dcm to temporary file.\n",
      "/Volumes/Siren/Brain_data/1.PatientDirectory/158/MRI/Processed_New/\n",
      "Number of segments: 2\n",
      "        Conversion failed for SEG_20240502_131531_910_S12002.dcm: Segmentation size (328, 512, 79) does not match NIfTI size (332, 512, 512)\n",
      "        Removed temporary file /var/folders/rc/rclfvgm135q8nz2l8y8dq38h0000gq/T/tmpfwswfd3b.dcm\n",
      "  Experiment: 158_20180527_ct\n",
      "  Experiment: 158_20171121_ct\n",
      "  Experiment: 158_20180918_mr\n",
      "Subject: 227\n",
      "  Experiment: 227_20220812_mr\n",
      "  Experiment: 227_20220319_mr\n",
      "  Experiment: 227_20221008_mr\n",
      "    Found DICOM SEG Resource in Scan SEG_20240413_204832_240_S14\n",
      "      Processing SEG_20240413_204832_240_S14.dcm...\n"
     ]
    },
    {
     "name": "stderr",
     "output_type": "stream",
     "text": [
      "  0% of 113.0 KiB |                                  |   0.0 s/B ETA:  --:--:--\n",
      "100% of 113.0 KiB |################################|   2.0 MiB/s ETA:  00:00:00\n",
      "100% of 113.0 KiB |################################|   2.0 MiB/s Time:  0:00:00\n",
      "2025-02-07 13:08:33,132 [INFO] Extracting Series Instance UID from /var/folders/rc/rclfvgm135q8nz2l8y8dq38h0000gq/T/tmp3vuve792.dcm...\n",
      "2025-02-07 13:08:33,137 [INFO] Extracted Series Instance UID: 2.25.85982146854832019178060356424734213577\n",
      "2025-02-07 13:08:33,137 [INFO] Searching for Series Instance UID: 2.25.85982146854832019178060356424734213577 in experiment: 227_20221008_mr...\n"
     ]
    },
    {
     "name": "stdout",
     "output_type": "stream",
     "text": [
      "        Downloaded SEG_20240413_204832_240_S14.dcm to temporary file.\n"
     ]
    },
    {
     "name": "stderr",
     "output_type": "stream",
     "text": [
      "2025-02-07 13:08:33,792 [INFO] Found Series Name: Ax_T1_Post for Series UID: 2.25.85982146854832019178060356424734213577\n"
     ]
    },
    {
     "name": "stdout",
     "output_type": "stream",
     "text": [
      "/Volumes/Siren/Brain_data/1.PatientDirectory/227/MRI/Processed_New/\n",
      "Number of segments: 1\n",
      "        Removed temporary file /var/folders/rc/rclfvgm135q8nz2l8y8dq38h0000gq/T/tmp3vuve792.dcm\n",
      "    Found DICOM SEG Resource in Scan SEG_20240413_221528_558_S10\n",
      "      Processing SEG_20240413_221528_558_S10.dcm...\n"
     ]
    },
    {
     "name": "stderr",
     "output_type": "stream",
     "text": [
      "  0% of 167.5 KiB |                                  |   0.0 s/B ETA:  --:--:--\n",
      "100% of 167.5 KiB |################################|   2.4 MiB/s ETA:  00:00:00\n",
      "100% of 167.5 KiB |################################|   2.4 MiB/s Time:  0:00:00\n",
      "2025-02-07 13:08:44,522 [INFO] Extracting Series Instance UID from /var/folders/rc/rclfvgm135q8nz2l8y8dq38h0000gq/T/tmpb6xqe9wb.dcm...\n",
      "2025-02-07 13:08:44,529 [INFO] Extracted Series Instance UID: 2.25.81909074005509130134791363576157863995\n",
      "2025-02-07 13:08:44,530 [INFO] Searching for Series Instance UID: 2.25.81909074005509130134791363576157863995 in experiment: 227_20221008_mr...\n",
      "2025-02-07 13:08:44,530 [INFO] Found Series Name: Ax_FLAIR_FS for Series UID: 2.25.81909074005509130134791363576157863995\n"
     ]
    },
    {
     "name": "stdout",
     "output_type": "stream",
     "text": [
      "        Downloaded SEG_20240413_221528_558_S10.dcm to temporary file.\n",
      "/Volumes/Siren/Brain_data/1.PatientDirectory/227/MRI/Processed_New/\n",
      "Number of segments: 1\n",
      "        Conversion failed for SEG_20240413_221528_558_S10.dcm: Segmentation size (216, 256, 42) does not match NIfTI size (256, 256, 42)\n",
      "        Removed temporary file /var/folders/rc/rclfvgm135q8nz2l8y8dq38h0000gq/T/tmpb6xqe9wb.dcm\n",
      "  Experiment: 227_20220620_mr\n",
      "  Experiment: 227_20211102_mr\n",
      "  Experiment: 227_20211019_ct\n",
      "  Experiment: 227_20211018_ct\n",
      "  Experiment: 227_20211018_mr\n",
      "  Experiment: 227_20220120_mr\n",
      "  Experiment: 227_20211019_mr\n",
      "  Experiment: 227_20211020_mr\n"
     ]
    }
   ],
   "source": [
    "# 1. Import necessary libraries\n",
    "import tempfile\n",
    "import xnat\n",
    "import os\n",
    "import logging\n",
    "from dcmseg2nii import main\n",
    "\n",
    "import pydicom\n",
    "from datetime import datetime, timedelta\n",
    "\n",
    "# 2. Configure logging to both file and console\n",
    "logging.basicConfig(\n",
    "    level=logging.INFO,  # Set to INFO or DEBUG for more detailed logs\n",
    "    format='%(asctime)s [%(levelname)s] %(message)s',\n",
    "    handlers=[\n",
    "        logging.FileHandler(\"dcmseg2nii_conversion.log\"),\n",
    "        logging.StreamHandler()\n",
    "    ]\n",
    ")\n",
    "\n",
    "def extract_code_meanings(dicomseg_path: str) -> list[str]:\n",
    "    \"\"\"\n",
    "    Extracts the segmented code meanings from a DICOM SEG file.\n",
    "\n",
    "    Parameters:\n",
    "        dicomseg_path (str): Path to the DICOM SEG file.\n",
    "\n",
    "    Returns:\n",
    "        List[str]: A list of code meanings.\n",
    "    \"\"\"\n",
    "    logging.info(\"Extracting code meanings from DICOM SEG...\")\n",
    "    dcm = pydicom.dcmread(dicomseg_path)\n",
    "    code_meanings = []\n",
    "    if 'SegmentSequence' in dcm:\n",
    "        for segment in dcm.SegmentSequence:\n",
    "            # Extract the Segmented Property Type Code Meaning\n",
    "            if ('SegmentedPropertyTypeCodeSequence' in segment and\n",
    "                len(segment.SegmentedPropertyTypeCodeSequence) > 0):\n",
    "                type_code = segment.SegmentedPropertyTypeCodeSequence[0]\n",
    "                if 'CodeMeaning' in type_code:\n",
    "                    code_meanings.append(type_code.CodeMeaning)\n",
    "    logging.info(\"Extracted code meanings: %s\", code_meanings)\n",
    "    return code_meanings\n",
    "\n",
    "def extract_series_uid(dicomseg_path: str) -> str:\n",
    "    \"\"\"\n",
    "    Extracts the Series Instance UID from a DICOM SEG file.\n",
    "\n",
    "    Parameters:\n",
    "        dicomseg_path (str): Path to the DICOM SEG file.\n",
    "\n",
    "    Returns:\n",
    "        str: Series Instance UID.\n",
    "    \"\"\"\n",
    "    logging.info(f\"Extracting Series Instance UID from {dicomseg_path}...\")\n",
    "    try:\n",
    "        dcm = pydicom.dcmread(dicomseg_path, stop_before_pixels=True)\n",
    "        series_uid = dcm.ReferencedSeriesSequence[0].SeriesInstanceUID\n",
    "        logging.info(f\"Extracted Series Instance UID: {series_uid}\")\n",
    "        return series_uid\n",
    "    except Exception as e:\n",
    "        logging.error(f\"Failed to extract Series Instance UID from {dicomseg_path}: {e}\")\n",
    "        raise\n",
    "\n",
    "\n",
    "def get_series_name_from_xnat(session, series_uid: str, experiment) -> str:\n",
    "    \"\"\"\n",
    "    Retrieves the series name from XNAT by iterating through all scans to find a match for the Series Instance UID.\n",
    "\n",
    "    Parameters:\n",
    "        session: XNATpy session object.\n",
    "        series_uid (str): Series Instance UID.\n",
    "        project_id (str): XNAT project ID.\n",
    "\n",
    "    Returns:\n",
    "        str: Series name or 'UnknownSeries' if not found.\n",
    "    \"\"\"\n",
    "    logging.info(f\"Searching for Series Instance UID: {series_uid} in project: {project_id}...\")\n",
    "    try:\n",
    "        for scan in experiment.scans.values():\n",
    "            scan_series_uid = scan.uid\n",
    "            # print(scan_series_uid)\n",
    "            if scan_series_uid == series_uid:\n",
    "                series_name = scan.series_description\n",
    "                series_name_clean = series_name.replace(' ', '_').replace('/', '_')\n",
    "                logging.info(f\"Found Series Name: {series_name_clean} for Series UID: {series_uid}\")\n",
    "                return series_name_clean\n",
    "        logging.warning(f\"No scan found with Series Instance UID: {series_uid} in Experiment: {experiment.label}\")\n",
    "        return 'UnknownSeries'\n",
    "    except Exception as e:\n",
    "        logging.error(f\"Error while searching for Series UID {series_uid}: {e}\")\n",
    "        return 'UnknownSeries'\n",
    "\n",
    "def get_series_name_from_xnat(session, series_uid: str, experiment) -> str:\n",
    "    \"\"\"\n",
    "    Retrieves the series name from XNAT by iterating through all scans to find a match for the Series Instance UID.\n",
    "\n",
    "    Parameters:\n",
    "        session: XNATpy session object.\n",
    "        series_uid (str): Series Instance UID.\n",
    "        experiment: The experiment object from XNAT.\n",
    "\n",
    "    Returns:\n",
    "        str: Series name or 'UnknownSeries' if not found.\n",
    "    \"\"\"\n",
    "    logging.info(f\"Searching for Series Instance UID: {series_uid} in experiment: {experiment.label}...\")\n",
    "    try:\n",
    "        for scan in experiment.scans.values():\n",
    "            if scan.uid == series_uid:\n",
    "                series_name = scan.series_description\n",
    "                series_name_clean = series_name.replace(' ', '_').replace('/', '_')\n",
    "                logging.info(f\"Found Series Name: {series_name_clean} for Series UID: {series_uid}\")\n",
    "                return series_name_clean\n",
    "        logging.warning(f\"No scan found with Series Instance UID: {series_uid} in experiment: {experiment.label}\")\n",
    "        return 'UnknownSeries'\n",
    "    except Exception as e:\n",
    "        logging.error(f\"Error while searching for Series UID {series_uid}: {e}\")\n",
    "        return 'UnknownSeries'\n",
    "\n",
    "\n",
    "# 3. Define XNAT connection parameters using environment variables for security\n",
    "xnat_url = os.getenv('XNAT_URL') \n",
    "username = os.getenv('XNAT_USERNAME')\n",
    "password = os.getenv('XNAT_PASSWORD')\n",
    "\n",
    "# 4. Define the project ID and output directory\n",
    "project_id = 'BRAIN'                   # Replace with your project ID\n",
    "\n",
    "data_prefix = '/Volumes/Siren/Brain_data/1.PatientDirectory'\n",
    "session_prefix = \"MRI/Processed_New/\"\n",
    "\n",
    "# 5. Connect to XNAT and process segmentations\n",
    "# WARNING: Ensure XNAT_URL, XNAT_USERNAME, and XNAT_PASSWORD environment variables are set\n",
    "with xnat.connect(xnat_url, user=username, password=password) as session:\n",
    "    project = session.projects[project_id]\n",
    "    \n",
    "    for subject in project.subjects.values():\n",
    "        print(f\"Subject: {subject.label}\")\n",
    "        \n",
    "        # Example: Filter for a specific subject if needed\n",
    "        # if subject.label != '150':\n",
    "        #     continue  # Skip subjects that are not '150'\n",
    "        \n",
    "        for experiment in subject.experiments.values():\n",
    "            print(f\"  Experiment: {experiment.label}\")\n",
    "            \n",
    "            for scan in experiment.assessors.values():\n",
    "                for resource in scan.resources.values():\n",
    "                    if resource.label == 'SEG':  # Adjust if your resource label differs\n",
    "                        print(f\"    Found DICOM SEG Resource in Scan {scan.label}\")\n",
    "                        \n",
    "                        for dicom_file in resource.files.values():\n",
    "                            print(f\"      Processing {dicom_file.name}...\")\n",
    "                            \n",
    "                            with tempfile.NamedTemporaryFile(suffix='.dcm', delete=False) as temp_dicom_file:\n",
    "                                dicom_file.download(temp_dicom_file.name)\n",
    "                                dicomseg_file_path = temp_dicom_file.name\n",
    "                                print(f\"        Downloaded {dicom_file.name} to temporary file.\")\n",
    "                            \n",
    "                            try:\n",
    "                                series_uid = extract_series_uid(dicomseg_file_path)\n",
    "                            except Exception as e:\n",
    "                                print(f\"        Failed to extract Series UID from {dicom_file.name}: {e}\")\n",
    "                                os.remove(dicomseg_file_path)\n",
    "                                print(f\"        Removed temporary file {dicomseg_file_path}\")\n",
    "                                continue  # Skip to the next file\n",
    "                            \n",
    "                            try:\n",
    "                                series_name_clean = get_series_name_from_xnat(session, series_uid, experiment)\n",
    "                            except Exception as e:\n",
    "                                print(f\"        Failed to retrieve Series Name from XNAT for {dicom_file.name}: {e}\")\n",
    "                                series_name_clean = 'UnknownSeries'\n",
    "                            \n",
    "                            # convert date from offset\n",
    "                            experiment_label_clean = experiment.label.replace(' ', '_').replace('/', '_')\n",
    "                            experiment_date = experiment_label_clean.split('_')[1]\n",
    "                            year = int(experiment_date[:4])\n",
    "                            month = int(experiment_date[4:6])\n",
    "                            day = int(experiment_date[6:])\n",
    "\n",
    "                            # Subtract 8 days\n",
    "                            date = datetime(year, month, day) - timedelta(days=8)\n",
    "\n",
    "                            # Reconstruct the date string\n",
    "                            new_experiment_date = f\"{date.year:04d}{date.month:02d}{date.day:02d}\"\n",
    "\n",
    "                            # find the session directory, the directory has text beyond the date, so we need to find the match\n",
    "                            directory_prefix = os.path.join(data_prefix, subject.label, session_prefix)\n",
    "                            print(directory_prefix)\n",
    "                            nii_directory = None\n",
    "                            for directory in os.listdir(directory_prefix):\n",
    "                                if new_experiment_date in directory:\n",
    "                                    nii_directory = os.path.join(directory_prefix, directory)\n",
    "                                    break\n",
    "                            else:\n",
    "                                print(f\"        Could not find directory for {dicom_file.name}\")\n",
    "                                continue\n",
    "\n",
    "                            # find the nii file in the directory\n",
    "                            nii_path = None\n",
    "                            for file in os.listdir(nii_directory):\n",
    "                                if series_name_clean in file and '.nii' in file:\n",
    "                                    nii_path = os.path.join(nii_directory, file)\n",
    "                                    break\n",
    "                            else:\n",
    "                                if os.path.exists(os.path.join(nii_directory, 'T2.nii.gz')) and 'T2' in series_name_clean:\n",
    "                                    nii_path = os.path.join(nii_directory, 'T2.nii.gz')\n",
    "                                elif os.path.exists(os.path.join(nii_directory, 'FLAIR.nii.gz')) and 'FLAIR' in series_name_clean:\n",
    "                                    nii_path = os.path.join(nii_directory, 'FLAIR.nii.gz')\n",
    "                                elif os.path.exists(os.path.join(nii_directory, 'T1.nii.gz')) and 'T1' in series_name_clean:\n",
    "                                    nii_path = os.path.join(nii_directory, 'T1.nii.gz')\n",
    "                                elif os.path.exists(os.path.join(nii_directory, 'T1+C')) and 'T1+C' in series_name_clean:\n",
    "                                    nii_path = os.path.join(nii_directory, 'T1C.nii.gz')\n",
    "                                else:\n",
    "                                    print(f\"        Could not find NIfTI file for {dicom_file.name}\")\n",
    "                                continue\n",
    "\n",
    "                            output_directory = os.path.join(nii_directory, 'xnat')\n",
    "                            if not os.path.exists(output_directory):\n",
    "                                os.makedirs(output_directory)\n",
    "\n",
    "                            \n",
    "                            # Convert DICOM SEG to aligned NIfTI\n",
    "                            try:\n",
    "                                main(dicomseg_file_path, nii_path, output_directory)\n",
    "                            except Exception as e:\n",
    "                                print(f\"        Conversion failed for {dicom_file.name}: {e}\")\n",
    "                            \n",
    "                            try:\n",
    "                                os.remove(dicomseg_file_path)\n",
    "                                print(f\"        Removed temporary file {dicomseg_file_path}\")\n",
    "                            except Exception as e:\n",
    "                                print(f\"        Failed to remove temporary file {dicomseg_file_path}: {e}\")"
   ]
  },
  {
   "cell_type": "code",
   "execution_count": 1,
   "metadata": {},
   "outputs": [
    {
     "name": "stderr",
     "output_type": "stream",
     "text": [
      "INFO:dcmseg2nii:Reading DICOM SEG file: SEG_20240507_121615_030_S6.dcm\n",
      "INFO:dcmseg2nii:Extracting metadata from DICOM SEG file\n",
      "INFO:dcmseg2nii:Decoding pixel data\n",
      "INFO:dcmseg2nii:Extracting image positions\n",
      "INFO:dcmseg2nii:Generating DICOM datasets for each segment\n",
      "INFO:dcmseg2nii:Processing Segment 1: Edema\n"
     ]
    }
   ],
   "source": [
    "from dcmseg2nii import convert_seg_to_full_series\n",
    "annot_dict = convert_seg_to_full_series('SEG_20240507_121615_030_S6.dcm')"
   ]
  },
  {
   "cell_type": "code",
   "execution_count": 2,
   "metadata": {},
   "outputs": [
    {
     "name": "stderr",
     "output_type": "stream",
     "text": [
      "INFO:dcmseg2nii:Created temporary directory for segment Edema: /var/folders/rc/rclfvgm135q8nz2l8y8dq38h0000gq/T/dicom_segment_Edema_lwvx1ucp\n",
      "INFO:dcmseg2nii:Saved DICOM file: /var/folders/rc/rclfvgm135q8nz2l8y8dq38h0000gq/T/dicom_segment_Edema_lwvx1ucp/slice_001.dcm\n",
      "INFO:dcmseg2nii:Saved DICOM file: /var/folders/rc/rclfvgm135q8nz2l8y8dq38h0000gq/T/dicom_segment_Edema_lwvx1ucp/slice_002.dcm\n",
      "INFO:dcmseg2nii:Saved DICOM file: /var/folders/rc/rclfvgm135q8nz2l8y8dq38h0000gq/T/dicom_segment_Edema_lwvx1ucp/slice_003.dcm\n",
      "INFO:dcmseg2nii:Saved DICOM file: /var/folders/rc/rclfvgm135q8nz2l8y8dq38h0000gq/T/dicom_segment_Edema_lwvx1ucp/slice_004.dcm\n",
      "INFO:dcmseg2nii:Saved DICOM file: /var/folders/rc/rclfvgm135q8nz2l8y8dq38h0000gq/T/dicom_segment_Edema_lwvx1ucp/slice_005.dcm\n",
      "INFO:dcmseg2nii:Saved DICOM file: /var/folders/rc/rclfvgm135q8nz2l8y8dq38h0000gq/T/dicom_segment_Edema_lwvx1ucp/slice_006.dcm\n",
      "INFO:dcmseg2nii:Saved DICOM file: /var/folders/rc/rclfvgm135q8nz2l8y8dq38h0000gq/T/dicom_segment_Edema_lwvx1ucp/slice_007.dcm\n",
      "INFO:dcmseg2nii:Saved DICOM file: /var/folders/rc/rclfvgm135q8nz2l8y8dq38h0000gq/T/dicom_segment_Edema_lwvx1ucp/slice_008.dcm\n",
      "INFO:dcmseg2nii:Saved DICOM file: /var/folders/rc/rclfvgm135q8nz2l8y8dq38h0000gq/T/dicom_segment_Edema_lwvx1ucp/slice_009.dcm\n",
      "INFO:dcmseg2nii:Saved DICOM file: /var/folders/rc/rclfvgm135q8nz2l8y8dq38h0000gq/T/dicom_segment_Edema_lwvx1ucp/slice_010.dcm\n",
      "INFO:dcmseg2nii:Saved DICOM file: /var/folders/rc/rclfvgm135q8nz2l8y8dq38h0000gq/T/dicom_segment_Edema_lwvx1ucp/slice_011.dcm\n",
      "INFO:dcmseg2nii:Saved DICOM file: /var/folders/rc/rclfvgm135q8nz2l8y8dq38h0000gq/T/dicom_segment_Edema_lwvx1ucp/slice_012.dcm\n",
      "INFO:dcmseg2nii:Saved DICOM file: /var/folders/rc/rclfvgm135q8nz2l8y8dq38h0000gq/T/dicom_segment_Edema_lwvx1ucp/slice_013.dcm\n",
      "INFO:dcmseg2nii:Saved DICOM file: /var/folders/rc/rclfvgm135q8nz2l8y8dq38h0000gq/T/dicom_segment_Edema_lwvx1ucp/slice_014.dcm\n",
      "INFO:dcmseg2nii:Saved DICOM file: /var/folders/rc/rclfvgm135q8nz2l8y8dq38h0000gq/T/dicom_segment_Edema_lwvx1ucp/slice_015.dcm\n",
      "INFO:dcmseg2nii:Saved DICOM file: /var/folders/rc/rclfvgm135q8nz2l8y8dq38h0000gq/T/dicom_segment_Edema_lwvx1ucp/slice_016.dcm\n",
      "INFO:dcmseg2nii:Saved DICOM file: /var/folders/rc/rclfvgm135q8nz2l8y8dq38h0000gq/T/dicom_segment_Edema_lwvx1ucp/slice_017.dcm\n",
      "INFO:dcmseg2nii:Saved DICOM file: /var/folders/rc/rclfvgm135q8nz2l8y8dq38h0000gq/T/dicom_segment_Edema_lwvx1ucp/slice_018.dcm\n",
      "INFO:dcmseg2nii:Saved DICOM file: /var/folders/rc/rclfvgm135q8nz2l8y8dq38h0000gq/T/dicom_segment_Edema_lwvx1ucp/slice_019.dcm\n",
      "INFO:dcmseg2nii:Saved DICOM file: /var/folders/rc/rclfvgm135q8nz2l8y8dq38h0000gq/T/dicom_segment_Edema_lwvx1ucp/slice_020.dcm\n",
      "INFO:dcmseg2nii:Saved DICOM file: /var/folders/rc/rclfvgm135q8nz2l8y8dq38h0000gq/T/dicom_segment_Edema_lwvx1ucp/slice_021.dcm\n",
      "INFO:dcmseg2nii:Saved DICOM file: /var/folders/rc/rclfvgm135q8nz2l8y8dq38h0000gq/T/dicom_segment_Edema_lwvx1ucp/slice_022.dcm\n",
      "INFO:dcmseg2nii:Running dcm2niix on DICOM directory for segment Edema: /var/folders/rc/rclfvgm135q8nz2l8y8dq38h0000gq/T/dicom_segment_Edema_lwvx1ucp\n",
      "Error: Check sorted order: 4D dataset has 2 volumes, but volume index ranges from 1..22\n",
      "INFO:dcmseg2nii:Successfully ran dcm2niix on /var/folders/rc/rclfvgm135q8nz2l8y8dq38h0000gq/T/dicom_segment_Edema_lwvx1ucp\n",
      "INFO:dcmseg2nii:NIfTI file for segment Edema: /var/folders/rc/rclfvgm135q8nz2l8y8dq38h0000gq/T/nifti_segment_Edema_l_y8gth8/dicom_segment_Edema_lwvx1ucp_Edema_0_1.nii.gz\n"
     ]
    },
    {
     "name": "stdout",
     "output_type": "stream",
     "text": [
      "Chris Rorden's dcm2niiX version v1.0.20240202  Clang16.0.6 ARM (64-bit MacOS)\n",
      "Found 22 DICOM file(s)\n",
      "Warning: Instance Number (0020,0013) order is not spatial.\n",
      "Warning: Volume number does not vary (0019,10A2; 0020,0100; 2005,1063; 2005,1413), assuming meaningful instance number (0020,0013).\n",
      "::autoBids:GE usedSeqName:'' seqName:'' internalSeqName:'' seriesDesc:'' scanSeq:'' stepDesc:'' bidsData:'' bidsSuffix:'_acq-_run-1'\n",
      "Warning: Unable to determine GE Slice timing, no Protocol Data Block GE (0025,101B): /var/folders/rc/rclfvgm135q8nz2l8y8dq38h0000gq/T/dicom_segment_Edema_lwvx1ucp/slice_001.dcm\n",
      "Convert 22 DICOM as /var/folders/rc/rclfvgm135q8nz2l8y8dq38h0000gq/T/nifti_segment_Edema_l_y8gth8/dicom_segment_Edema_lwvx1ucp_Edema_0_1 (512x512x11x2)\n",
      "Conversion required 0.057405 seconds (0.056497 for core code).\n"
     ]
    }
   ],
   "source": [
    "from dcmseg2nii import save_dicom_datasets_to_temp_directories, run_dcm2niix_on_directories\n",
    "# Step 1: Save DICOM datasets to their own temporary directories\n",
    "segment_dirs = save_dicom_datasets_to_temp_directories(annot_dict)\n",
    "\n",
    "# Step 2: Run dcm2niix on the directories and get the NIfTI file paths\n",
    "nifti_files = run_dcm2niix_on_directories(segment_dirs)"
   ]
  },
  {
   "cell_type": "code",
   "execution_count": 3,
   "metadata": {},
   "outputs": [
    {
     "name": "stdout",
     "output_type": "stream",
     "text": [
      "{'Edema': '/var/folders/rc/rclfvgm135q8nz2l8y8dq38h0000gq/T/nifti_segment_Edema_l_y8gth8/dicom_segment_Edema_lwvx1ucp_Edema_0_1.nii.gz'}\n"
     ]
    }
   ],
   "source": [
    "print(nifti_files)"
   ]
  },
  {
   "cell_type": "code",
   "execution_count": null,
   "metadata": {},
   "outputs": [],
   "source": []
  },
  {
   "cell_type": "code",
   "execution_count": 2,
   "metadata": {},
   "outputs": [],
   "source": [
    "import nibabel as nib\n",
    "annot = nib.load('in/in_FH_ET_20120920000000_99.nii')\n",
    "img = nib.load()"
   ]
  },
  {
   "cell_type": "code",
   "execution_count": 5,
   "metadata": {},
   "outputs": [
    {
     "ename": "AttributeError",
     "evalue": "'Segmentation' object has no attribute 'segment_pixel_array'",
     "output_type": "error",
     "traceback": [
      "\u001b[0;31m---------------------------------------------------------------------------\u001b[0m",
      "\u001b[0;31mAttributeError\u001b[0m                            Traceback (most recent call last)",
      "Cell \u001b[0;32mIn[5], line 56\u001b[0m\n\u001b[1;32m     54\u001b[0m dicomseg_path \u001b[38;5;241m=\u001b[39m \u001b[38;5;124m'\u001b[39m\u001b[38;5;124m./in/SEG_20240507_121615_030_S6.dcm\u001b[39m\u001b[38;5;124m'\u001b[39m\n\u001b[1;32m     55\u001b[0m output_basename \u001b[38;5;241m=\u001b[39m \u001b[38;5;124m'\u001b[39m\u001b[38;5;124m./seg\u001b[39m\u001b[38;5;124m'\u001b[39m\n\u001b[0;32m---> 56\u001b[0m \u001b[43mmain\u001b[49m\u001b[43m(\u001b[49m\u001b[43mdicomseg_path\u001b[49m\u001b[43m,\u001b[49m\u001b[43m \u001b[49m\u001b[43moutput_basename\u001b[49m\u001b[43m)\u001b[49m\n",
      "Cell \u001b[0;32mIn[5], line 31\u001b[0m, in \u001b[0;36mmain\u001b[0;34m(dicomseg_path, output_basename)\u001b[0m\n\u001b[1;32m     26\u001b[0m \u001b[38;5;66;03m# Iterate over each segment number in the segmentation\u001b[39;00m\n\u001b[1;32m     27\u001b[0m \u001b[38;5;28;01mfor\u001b[39;00m i, segment_number \u001b[38;5;129;01min\u001b[39;00m \u001b[38;5;28menumerate\u001b[39m(seg\u001b[38;5;241m.\u001b[39msegment_numbers):\n\u001b[1;32m     28\u001b[0m     \u001b[38;5;66;03m# Extract the 3D (or 4D) bitmap for this segment\u001b[39;00m\n\u001b[1;32m     29\u001b[0m     \u001b[38;5;66;03m#   This returns a NumPy array with shape [z, y, x] if volumetric\u001b[39;00m\n\u001b[1;32m     30\u001b[0m     \u001b[38;5;66;03m#   or [time, z, y, x] if time dimension is included.\u001b[39;00m\n\u001b[0;32m---> 31\u001b[0m     arr \u001b[38;5;241m=\u001b[39m \u001b[43mseg\u001b[49m\u001b[38;5;241;43m.\u001b[39;49m\u001b[43msegment_pixel_array\u001b[49m(segment_number)\n\u001b[1;32m     33\u001b[0m     \u001b[38;5;66;03m# Here, we use an identity affine just for demonstration.\u001b[39;00m\n\u001b[1;32m     34\u001b[0m     \u001b[38;5;66;03m# In a real scenario, you would reconstruct the correct orientation\u001b[39;00m\n\u001b[1;32m     35\u001b[0m     \u001b[38;5;66;03m# using the DICOM references for the original image series.\u001b[39;00m\n\u001b[1;32m     36\u001b[0m     affine \u001b[38;5;241m=\u001b[39m np\u001b[38;5;241m.\u001b[39meye(\u001b[38;5;241m4\u001b[39m)\n",
      "File \u001b[0;32m~/Code/dcmseg2nii/.venv/lib/python3.12/site-packages/pydicom/dataset.py:918\u001b[0m, in \u001b[0;36mDataset.__getattr__\u001b[0;34m(self, name)\u001b[0m\n\u001b[1;32m    916\u001b[0m     \u001b[38;5;28;01mreturn\u001b[39;00m {}\n\u001b[1;32m    917\u001b[0m \u001b[38;5;66;03m# Try the base class attribute getter (fix for issue 332)\u001b[39;00m\n\u001b[0;32m--> 918\u001b[0m \u001b[38;5;28;01mreturn\u001b[39;00m \u001b[38;5;28;43mobject\u001b[39;49m\u001b[38;5;241;43m.\u001b[39;49m\u001b[38;5;21;43m__getattribute__\u001b[39;49m\u001b[43m(\u001b[49m\u001b[38;5;28;43mself\u001b[39;49m\u001b[43m,\u001b[49m\u001b[43m \u001b[49m\u001b[43mname\u001b[49m\u001b[43m)\u001b[49m\n",
      "\u001b[0;31mAttributeError\u001b[0m: 'Segmentation' object has no attribute 'segment_pixel_array'"
     ]
    }
   ],
   "source": [
    "#!/usr/bin/env python3\n",
    "\n",
    "import sys\n",
    "import numpy as np\n",
    "import pydicom\n",
    "import nibabel as nib\n",
    "\n",
    "# Highdicom Segmentation class:\n",
    "from highdicom.seg import segread\n",
    "\n",
    "\n",
    "def main(dicomseg_path, output_basename):\n",
    "    \"\"\"\n",
    "    Convert a DICOM Segmentation file to one or more NIfTI label maps.\n",
    "    Each segment in the DICOM-SEG will be saved as a separate NIfTI file.\n",
    "    \n",
    "    :param dicomseg_path: Path to the input DICOM Segmentation file (dicomseg).\n",
    "    :param output_basename: The base filename/path to use for output NIfTI files.\n",
    "    \"\"\"\n",
    "    # Read the DICOM SEG\n",
    "    ds = pydicom.dcmread(dicomseg_path)\n",
    "    \n",
    "    # Initialize a highdicom Segmentation object\n",
    "    seg = segread(dicomseg_path)\n",
    "    \n",
    "    # Iterate over each segment number in the segmentation\n",
    "    for i, segment_number in enumerate(seg.segment_numbers):\n",
    "        # Extract the 3D (or 4D) bitmap for this segment\n",
    "        #   This returns a NumPy array with shape [z, y, x] if volumetric\n",
    "        #   or [time, z, y, x] if time dimension is included.\n",
    "        arr = seg.segment_pixel_array(segment_number)\n",
    "        \n",
    "        # Here, we use an identity affine just for demonstration.\n",
    "        # In a real scenario, you would reconstruct the correct orientation\n",
    "        # using the DICOM references for the original image series.\n",
    "        affine = np.eye(4)\n",
    "        \n",
    "        # Create a NIfTI image\n",
    "        nifti_img = nib.Nifti1Image(arr.astype(np.uint8), affine)\n",
    "        \n",
    "        # Write out the file. We append the segment number to the basename:\n",
    "        out_file = f\"{output_basename}_segment_{segment_number}.nii.gz\"\n",
    "        nib.save(nifti_img, out_file)\n",
    "        print(f\"Saved segment {segment_number} to {out_file}\")\n",
    "\n",
    "\n",
    "if __name__ == \"__main__\":\n",
    "    # if len(sys.argv) != 3:\n",
    "    #     print(f\"Usage: {sys.argv[0]} <dicomseg_path> <output_nifti_basename>\")\n",
    "    #     sys.exit(1)\n",
    "\n",
    "    # dicomseg_path = sys.argv[1]\n",
    "    # output_basename = sys.argv[2]\n",
    "    dicomseg_path = './in/SEG_20240507_121615_030_S6.dcm'\n",
    "    output_basename = './seg'\n",
    "    main(dicomseg_path, output_basename)"
   ]
  },
  {
   "cell_type": "code",
   "execution_count": null,
   "metadata": {},
   "outputs": [],
   "source": [
    "import numpy as np\n",
    "import SimpleITK as sitk\n",
    "from pydicom import dcmread\n",
    "import os\n",
    "\n",
    "\n",
    "def inspect_dicom_seg(input_path):\n",
    "    \"\"\"Debug function to inspect DICOM-SEG structure\"\"\"\n",
    "    dcm = dcmread(input_path)\n",
    "    print(f\"Pixel Array Shape: {dcm.pixel_array.shape}\")\n",
    "    print(f\"Number of frames: {len(dcm.PerFrameFunctionalGroupsSequence)}\")\n",
    "    print(f\"Referenced Series length: {len(dcm.ReferencedSeriesSequence[0].ReferencedInstanceSequence)}\")\n",
    "    print(\"\\nFirst few DimensionIndexValues:\")\n",
    "    for i, frame in enumerate(dcm.PerFrameFunctionalGroupsSequence[:5]):\n",
    "        print(f\"Frame {i}: {frame.FrameContentSequence[0].DimensionIndexValues}\")\n",
    "\n",
    "def convert_dicomseg_to_nifti(input_path, output_path):\n",
    "    \"\"\"Convert DICOM-SEG to NIfTI\"\"\"\n",
    "    dcm = dcmread(input_path)\n",
    "    \n",
    "    # Get dimensions\n",
    "    rows = dcm.Rows\n",
    "    cols = dcm.Columns\n",
    "    num_slices = len(dcm.ReferencedSeriesSequence[0].ReferencedInstanceSequence)\n",
    "    \n",
    "    # Create output volume\n",
    "    volume = np.zeros((num_slices, rows, cols), dtype=np.uint8)\n",
    "    \n",
    "    # Extract pixel data\n",
    "    seg_data = dcm.pixel_array\n",
    "    \n",
    "    # Map frames to correct slices\n",
    "    for frame_idx, frame in enumerate(dcm.PerFrameFunctionalGroupsSequence):\n",
    "        dim_idx = frame.FrameContentSequence[0].DimensionIndexValues\n",
    "        slice_idx = dim_idx[1] - 1  # Second value is slice number (1-based)\n",
    "        \n",
    "        frame_data = seg_data[frame_idx] if len(seg_data.shape) == 3 else seg_data\n",
    "        volume[slice_idx] = np.logical_or(volume[slice_idx], frame_data)\n",
    "    \n",
    "    # Convert to SimpleITK image and flip for RAS orientation\n",
    "    volume = np.flip(np.flip(volume, axis=1), axis=2)\n",
    "    sitk_image = sitk.GetImageFromArray(volume)\n",
    "    \n",
    "    # Set metadata\n",
    "    spacing = list(dcm.PixelSpacing) if hasattr(dcm, 'PixelSpacing') else [1.0, 1.0]\n",
    "    spacing.append(dcm.SpacingBetweenSlices if hasattr(dcm, 'SpacingBetweenSlices') else 1.0)\n",
    "    sitk_image.SetSpacing(spacing)\n",
    "    \n",
    "    # Save as NIfTI\n",
    "    sitk.WriteImage(sitk_image, output_path)\n",
    "    return True\n",
    "\n",
    "if __name__ == \"__main__\":\n",
    "    # Example usage\n",
    "    dicomseg_path = './in/SEG_20240507_121615_030_S6.dcm'\n",
    "    nifti_path = './seg.nii'\n",
    "    ref_nifti_path = '/Volumes/Siren/Brain_data/2.PatientDirectory/107/MRI/Processed_New/20120912_Mr_Brain_Wo+_W_Cont_Ss/Ax_T2_FLAIR.nii.gz'\n",
    "    convert_dicomseg_to_nifti(dicomseg_path, nifti_path)"
   ]
  },
  {
   "cell_type": "code",
   "execution_count": 27,
   "metadata": {},
   "outputs": [],
   "source": [
    "import pydicom\n",
    "import numpy as np\n",
    "import nibabel as nib\n",
    "\n",
    "def dicomseg_to_nifti(seg_path, out_nifti_path):\n",
    "    \"\"\"\n",
    "    Convert a DICOM-SEG file to a full 3D NIfTI volume with the same\n",
    "    orientation as dcm2niix would produce, relying solely on the DICOM-SEG metadata.\n",
    "    \"\"\"\n",
    "    ds = pydicom.dcmread(seg_path)\n",
    "\n",
    "    # Basic check: ensure file is a SEG\n",
    "    if ds.Modality != \"SEG\":\n",
    "        raise ValueError(f\"File {seg_path} is not a segmentation (SEG). Found Modality={ds.Modality}.\")\n",
    "\n",
    "    # ----------------------------------------------------------------\n",
    "    # 1) Identify all referenced slices from ReferencedSeriesSequence\n",
    "    # ----------------------------------------------------------------\n",
    "    if not hasattr(ds, \"ReferencedSeriesSequence\") or len(ds.ReferencedSeriesSequence) == 0:\n",
    "        raise ValueError(\"No ReferencedSeriesSequence found in the SEG - cannot determine original slices.\")\n",
    "\n",
    "    ref_series = ds.ReferencedSeriesSequence[0]\n",
    "    if not hasattr(ref_series, \"ReferencedInstanceSequence\") or len(ref_series.ReferencedInstanceSequence) == 0:\n",
    "        raise ValueError(\"No ReferencedInstanceSequence found in the SEG - cannot determine original slices.\")\n",
    "\n",
    "    # This is the full list of SOPInstanceUIDs for each slice in the original series, in acquisition order:\n",
    "    referenced_sop_uids = [inst.ReferencedSOPInstanceUID for inst in ref_series.ReferencedInstanceSequence]\n",
    "    num_slices = len(referenced_sop_uids)\n",
    "\n",
    "    # ----------------------------------------------------------------\n",
    "    # 2) Gather orientation + spacing from SharedFunctionalGroups\n",
    "    # ----------------------------------------------------------------\n",
    "    # Typically found in ds.SharedFunctionalGroupsSequence\n",
    "    shared_fg = ds.SharedFunctionalGroupsSequence[0]\n",
    "\n",
    "    # Pixel spacing: [row spacing, column spacing]\n",
    "    pixel_measures = shared_fg.PixelMeasuresSequence[0]\n",
    "    pixel_spacing = pixel_measures.PixelSpacing\n",
    "    spacing_row = float(pixel_spacing[0])\n",
    "    spacing_col = float(pixel_spacing[1])\n",
    "\n",
    "    # Slice thickness (may be approximate or absent)\n",
    "    slice_thickness = None\n",
    "    if hasattr(pixel_measures, \"SliceThickness\"):\n",
    "        slice_thickness = float(pixel_measures.SliceThickness)\n",
    "\n",
    "    # Orientation: row_dir (first 3), col_dir (last 3)\n",
    "    orientation = shared_fg.PlaneOrientationSequence[0].ImageOrientationPatient\n",
    "    row_dir = np.array(orientation[0:3], dtype=float)\n",
    "    col_dir = np.array(orientation[3:6], dtype=float)\n",
    "    # Normal direction (slice direction) is cross(row_dir, col_dir)\n",
    "    # We'll finalize slice direction after we identify the specific slice positions below.\n",
    "\n",
    "    # ----------------------------------------------------------------\n",
    "    # 3) Prepare the empty segmentation volume\n",
    "    # ----------------------------------------------------------------\n",
    "    rows = ds.Rows\n",
    "    cols = ds.Columns\n",
    "    seg_volume = np.zeros((rows, cols, num_slices), dtype=np.uint8)\n",
    "\n",
    "    # ----------------------------------------------------------------\n",
    "    # 4) Map each Per-Frame functional group to the correct slice index\n",
    "    # ----------------------------------------------------------------\n",
    "    # ds.PerFrameFunctionalGroupsSequence[x].DerivationImageSequence or .ReferencedImageSequence\n",
    "    # often includes the ReferencedSOPInstanceUID for that frame.\n",
    "    # Also, we can read the plane position for computing an affine.\n",
    "    per_frame = ds.PerFrameFunctionalGroupsSequence\n",
    "    # The 4D segmentation data in ds.pixel_array: shape = (NumberOfFrames, rows, cols)\n",
    "    seg_data_4d = ds.pixel_array\n",
    "\n",
    "    # We'll store [z-position, slice_index] to help with constructing the affine.\n",
    "    # Typically we rely on ImagePositionPatient in PlanePositionSequence to get\n",
    "    # the (x,y,z) for each frame. Then we find the normal-axis coordinate\n",
    "    # to sort slices or confirm ordering.\n",
    "    positions = [None] * num_slices  # Will hold (index_in_vol, ImagePositionPatient) for each slice\n",
    "\n",
    "    for frame_idx, frame_fg in enumerate(per_frame):\n",
    "        # 4A) Identify the referenced SOPInstanceUID for this frame\n",
    "        if hasattr(frame_fg, \"DerivationImageSequence\"):\n",
    "            ref_uid = frame_fg.DerivationImageSequence[0].SourceImageSequence[0].ReferencedSOPInstanceUID\n",
    "        elif hasattr(frame_fg, \"ReferencedImageSequence\"):\n",
    "            ref_uid = frame_fg.ReferencedImageSequence[0].ReferencedSOPInstanceUID\n",
    "        else:\n",
    "            raise ValueError(\"Cannot find referenced SOPInstanceUID in frame functional groups.\")\n",
    "\n",
    "        # 4B) Find which slice index this UID corresponds to\n",
    "        try:\n",
    "            slice_idx = referenced_sop_uids.index(ref_uid)\n",
    "        except ValueError:\n",
    "            # Possibly the frame references an SOPInstanceUID not in ReferencedInstanceSequence.\n",
    "            # Should be unusual, but handle gracefully.\n",
    "            continue\n",
    "\n",
    "        # 4C) Retrieve the segmentation mask for this frame\n",
    "        frame_mask = seg_data_4d[frame_idx, :, :].astype(np.uint8)\n",
    "\n",
    "        # 4D) Merge into seg_volume (if multiple segments overlap, we could do max, sum, or label)\n",
    "        seg_volume[:, :, slice_idx] = np.maximum(seg_volume[:, :, slice_idx], frame_mask)\n",
    "\n",
    "        # 4E) Store the slice's ImagePositionPatient if available\n",
    "        plane_pos_seq = frame_fg.PlanePositionSequence[0]\n",
    "        image_pos = np.array(plane_pos_seq.ImagePositionPatient, dtype=float)\n",
    "        positions[slice_idx] = (slice_idx, image_pos)\n",
    "\n",
    "    # ----------------------------------------------------------------\n",
    "    # 5) Determine the final slice direction and origin for the LPS affine\n",
    "    # ----------------------------------------------------------------\n",
    "    # For a typical series, positions should be sorted along the cross(row_dir, col_dir) direction.\n",
    "    # We'll check each stored position to see if we can detect a consistent spacing.\n",
    "    slice_normal = np.cross(row_dir, col_dir)\n",
    "    norm_len = np.linalg.norm(slice_normal)\n",
    "    if norm_len > 0:\n",
    "        slice_normal /= norm_len\n",
    "    else:\n",
    "        raise ValueError(\"Invalid orientation vectors: cross product is zero.\")\n",
    "\n",
    "    # Identify the first valid slice's position as the 'origin' in LPS\n",
    "    # (lowest index that had a valid reference).\n",
    "    valid_positions = [p for p in positions if p is not None]\n",
    "    if len(valid_positions) == 0:\n",
    "        raise ValueError(\"No valid positions found for any slice; cannot build geometry.\")\n",
    "\n",
    "    valid_positions.sort(key=lambda x: x[0])  # sort by slice_idx\n",
    "    first_slice_idx, first_pos = valid_positions[0]\n",
    "\n",
    "    # If slice_thickness wasn't set, attempt to guess from consecutive slices\n",
    "    # that have valid positions.\n",
    "    if not slice_thickness:\n",
    "        slice_thickness = 1.0\n",
    "        if len(valid_positions) > 1:\n",
    "            second_slice_idx, second_pos = valid_positions[1]\n",
    "            dist = np.dot((second_pos - first_pos), slice_normal)\n",
    "            slice_thickness = abs(dist)\n",
    "\n",
    "    # ----------------------------------------------------------------\n",
    "    # 6) Create the LPS-to-voxel affine\n",
    "    # ----------------------------------------------------------------\n",
    "    # We scale row_dir by pixel_spacing[0], col_dir by pixel_spacing[1], slice_normal by slice_thickness.\n",
    "    affine_lps = np.eye(4, dtype=float)\n",
    "    affine_lps[0:3, 0] = row_dir * spacing_row\n",
    "    affine_lps[0:3, 1] = col_dir * spacing_col\n",
    "    affine_lps[0:3, 2] = slice_normal * slice_thickness\n",
    "    affine_lps[0:3, 3] = first_pos\n",
    "\n",
    "    # Create a NIfTI image in LPS orientation\n",
    "    nifti_lps = nib.Nifti1Image(seg_volume, affine_lps)\n",
    "\n",
    "    # ----------------------------------------------------------------\n",
    "    # 7) Reorient to RAS to mimic dcm2niix\n",
    "    # ----------------------------------------------------------------\n",
    "    nifti_ras = nib.as_closest_canonical(nifti_lps)\n",
    "\n",
    "    # ----------------------------------------------------------------\n",
    "    # 8) Save to NIfTI\n",
    "    # ----------------------------------------------------------------\n",
    "    nib.save(nifti_ras, out_nifti_path)\n",
    "    print(f\"Saved 3D segmentation to {out_nifti_path} in RAS orientation.\")"
   ]
  },
  {
   "cell_type": "code",
   "execution_count": 28,
   "metadata": {},
   "outputs": [
    {
     "name": "stdout",
     "output_type": "stream",
     "text": [
      "Saved 3D segmentation to ./seg.nii in RAS orientation.\n"
     ]
    }
   ],
   "source": [
    "# Example usage\n",
    "dicomseg_path = './in/SEG_20240507_121615_030_S6.dcm'\n",
    "nifti_path = './seg.nii'\n",
    "ref_nifti_path = '/Volumes/Siren/Brain_data/2.PatientDirectory/107/MRI/Processed_New/20120912_Mr_Brain_Wo+_W_Cont_Ss/Ax_T2_FLAIR.nii.gz'\n",
    "dicomseg_to_nifti(dicomseg_path, nifti_path)"
   ]
  },
  {
   "cell_type": "code",
   "execution_count": null,
   "metadata": {},
   "outputs": [],
   "source": []
  },
  {
   "cell_type": "code",
   "execution_count": 41,
   "metadata": {},
   "outputs": [
    {
     "ename": "TypeError",
     "evalue": "Wrong number or type of arguments for overloaded function 'ImageFileWriter_Execute'.\n  Possible C/C++ prototypes are:\n    itk::simple::ImageFileWriter::Execute(itk::simple::Image const &)\n    itk::simple::ImageFileWriter::Execute(itk::simple::Image const &,itk::simple::PathType const &,bool,int)\n",
     "output_type": "error",
     "traceback": [
      "\u001b[0;31m---------------------------------------------------------------------------\u001b[0m",
      "\u001b[0;31mTypeError\u001b[0m                                 Traceback (most recent call last)",
      "\u001b[0;32m/var/folders/rc/rclfvgm135q8nz2l8y8dq38h0000gq/T/ipykernel_36319/1033612901.py\u001b[0m in \u001b[0;36m?\u001b[0;34m()\u001b[0m\n\u001b[1;32m      1\u001b[0m \u001b[0;32mimport\u001b[0m \u001b[0mSimpleITK\u001b[0m \u001b[0;32mas\u001b[0m \u001b[0msitk\u001b[0m\u001b[0;34m\u001b[0m\u001b[0;34m\u001b[0m\u001b[0m\n\u001b[1;32m      2\u001b[0m \u001b[0msitk\u001b[0m\u001b[0;34m.\u001b[0m\u001b[0mReadImage\u001b[0m\u001b[0;34m(\u001b[0m\u001b[0mdicomseg_path\u001b[0m\u001b[0;34m)\u001b[0m\u001b[0;34m\u001b[0m\u001b[0;34m\u001b[0m\u001b[0m\n\u001b[0;32m----> 3\u001b[0;31m \u001b[0msitk\u001b[0m\u001b[0;34m.\u001b[0m\u001b[0mWriteImage\u001b[0m\u001b[0;34m(\u001b[0m\u001b[0mdicomseg_path\u001b[0m\u001b[0;34m,\u001b[0m \u001b[0mnifti_path\u001b[0m\u001b[0;34m)\u001b[0m\u001b[0;34m\u001b[0m\u001b[0;34m\u001b[0m\u001b[0m\n\u001b[0m",
      "\u001b[0;32m~/Code/dcmseg2nii/.venv/lib/python3.12/site-packages/SimpleITK/extra.py\u001b[0m in \u001b[0;36m?\u001b[0;34m(image, fileName, useCompression, compressionLevel, imageIO, compressor)\u001b[0m\n\u001b[1;32m    430\u001b[0m     \u001b[0mwriter\u001b[0m\u001b[0;34m.\u001b[0m\u001b[0mSetUseCompression\u001b[0m\u001b[0;34m(\u001b[0m\u001b[0museCompression\u001b[0m\u001b[0;34m)\u001b[0m\u001b[0;34m\u001b[0m\u001b[0;34m\u001b[0m\u001b[0m\n\u001b[1;32m    431\u001b[0m     \u001b[0mwriter\u001b[0m\u001b[0;34m.\u001b[0m\u001b[0mSetCompressionLevel\u001b[0m\u001b[0;34m(\u001b[0m\u001b[0mcompressionLevel\u001b[0m\u001b[0;34m)\u001b[0m\u001b[0;34m\u001b[0m\u001b[0;34m\u001b[0m\u001b[0m\n\u001b[1;32m    432\u001b[0m     \u001b[0mwriter\u001b[0m\u001b[0;34m.\u001b[0m\u001b[0mSetImageIO\u001b[0m\u001b[0;34m(\u001b[0m\u001b[0mimageIO\u001b[0m\u001b[0;34m)\u001b[0m\u001b[0;34m\u001b[0m\u001b[0;34m\u001b[0m\u001b[0m\n\u001b[1;32m    433\u001b[0m     \u001b[0mwriter\u001b[0m\u001b[0;34m.\u001b[0m\u001b[0mSetCompressor\u001b[0m\u001b[0;34m(\u001b[0m\u001b[0mcompressor\u001b[0m\u001b[0;34m)\u001b[0m\u001b[0;34m\u001b[0m\u001b[0;34m\u001b[0m\u001b[0m\n\u001b[0;32m--> 434\u001b[0;31m     \u001b[0;32mreturn\u001b[0m \u001b[0mwriter\u001b[0m\u001b[0;34m.\u001b[0m\u001b[0mExecute\u001b[0m\u001b[0;34m(\u001b[0m\u001b[0mimage\u001b[0m\u001b[0;34m)\u001b[0m\u001b[0;34m\u001b[0m\u001b[0;34m\u001b[0m\u001b[0m\n\u001b[0m",
      "\u001b[0;32m~/Code/dcmseg2nii/.venv/lib/python3.12/site-packages/SimpleITK/SimpleITK.py\u001b[0m in \u001b[0;36m?\u001b[0;34m(self, *args)\u001b[0m\n\u001b[1;32m   7935\u001b[0m         \u001b[0mExecute\u001b[0m\u001b[0;34m(\u001b[0m\u001b[0mImageFileWriter\u001b[0m \u001b[0mself\u001b[0m\u001b[0;34m,\u001b[0m \u001b[0mImage\u001b[0m \u001b[0marg2\u001b[0m\u001b[0;34m,\u001b[0m \u001b[0mitk\u001b[0m\u001b[0;34m:\u001b[0m\u001b[0;34m:\u001b[0m\u001b[0msimple\u001b[0m\u001b[0;34m:\u001b[0m\u001b[0;34m:\u001b[0m\u001b[0mPathType\u001b[0m \u001b[0mconst\u001b[0m \u001b[0;34m&\u001b[0m \u001b[0minFileName\u001b[0m\u001b[0;34m,\u001b[0m \u001b[0mbool\u001b[0m \u001b[0museCompression\u001b[0m\u001b[0;34m,\u001b[0m \u001b[0mint\u001b[0m \u001b[0mcompressionLevel\u001b[0m\u001b[0;34m)\u001b[0m\u001b[0;34m\u001b[0m\u001b[0;34m\u001b[0m\u001b[0m\n\u001b[1;32m   7936\u001b[0m \u001b[0;34m\u001b[0m\u001b[0m\n\u001b[1;32m   7937\u001b[0m \u001b[0;34m\u001b[0m\u001b[0m\n\u001b[1;32m   7938\u001b[0m         \"\"\"\n\u001b[0;32m-> 7939\u001b[0;31m         \u001b[0;32mreturn\u001b[0m \u001b[0m_SimpleITK\u001b[0m\u001b[0;34m.\u001b[0m\u001b[0mImageFileWriter_Execute\u001b[0m\u001b[0;34m(\u001b[0m\u001b[0mself\u001b[0m\u001b[0;34m,\u001b[0m \u001b[0;34m*\u001b[0m\u001b[0margs\u001b[0m\u001b[0;34m)\u001b[0m\u001b[0;34m\u001b[0m\u001b[0;34m\u001b[0m\u001b[0m\n\u001b[0m",
      "\u001b[0;31mTypeError\u001b[0m: Wrong number or type of arguments for overloaded function 'ImageFileWriter_Execute'.\n  Possible C/C++ prototypes are:\n    itk::simple::ImageFileWriter::Execute(itk::simple::Image const &)\n    itk::simple::ImageFileWriter::Execute(itk::simple::Image const &,itk::simple::PathType const &,bool,int)\n"
     ]
    }
   ],
   "source": [
    "import SimpleITK as sitk\n",
    "sitk.ReadImage(dicomseg_path)\n",
    "sitk.WriteImage(dicomseg_path, nifti_path)"
   ]
  },
  {
   "cell_type": "code",
   "execution_count": 6,
   "metadata": {},
   "outputs": [
    {
     "data": {
      "text/plain": [
       "True"
      ]
     },
     "execution_count": 6,
     "metadata": {},
     "output_type": "execute_result"
    }
   ],
   "source": [
    "\"\"\" A SimpleITK example demonstrating how to convert and resize DICOM files\n",
    "    to common image types. \"\"\"\n",
    "\n",
    "import argparse\n",
    "import csv\n",
    "import functools\n",
    "import itertools\n",
    "import multiprocessing\n",
    "import os\n",
    "import sys\n",
    "\n",
    "import SimpleITK as sitk\n",
    "\n",
    "\n",
    "def convert_image(input_file_name, output_file_name, new_width=None):\n",
    "    \"\"\" Convert a single DICOM image to a common image type. \"\"\"\n",
    "    try:\n",
    "        image_file_reader = sitk.ImageFileReader()\n",
    "        # only read DICOM images\n",
    "        image_file_reader.SetImageIO(\"GDCMImageIO\")\n",
    "        image_file_reader.SetFileName(input_file_name)\n",
    "        image_file_reader.ReadImageInformation()\n",
    "        image_size = list(image_file_reader.GetSize())\n",
    "        new_width = new_width if new_width else image_size[0]\n",
    "        if len(image_size) == 3 and image_size[2] == 1:\n",
    "            image_size[2] = 22\n",
    "        image_file_reader.SetExtractSize(image_size)\n",
    "        image = image_file_reader.Execute()\n",
    "        if new_width:\n",
    "            original_size = image.GetSize()\n",
    "            original_spacing = image.GetSpacing()\n",
    "            # new_spacing = [\n",
    "            #     (original_size[0] - 1) * original_spacing[0] / (new_width - 1)\n",
    "            # ] * 3\n",
    "            new_spacing = original_spacing\n",
    "            new_size = [\n",
    "                new_width,\n",
    "                image_size[1],\n",
    "                22\n",
    "            ]\n",
    "            image = sitk.Resample(\n",
    "                image1=image,\n",
    "                size=new_size,\n",
    "                transform=sitk.Transform(),\n",
    "                interpolator=sitk.sitkLinear,\n",
    "                outputOrigin=image.GetOrigin(),\n",
    "                outputSpacing=new_spacing,\n",
    "                outputDirection=image.GetDirection(),\n",
    "                defaultPixelValue=0,\n",
    "                outputPixelType=image.GetPixelID(),\n",
    "            )\n",
    "        # If a single channel image, rescale to [0,255]. Also modify the\n",
    "        # intensity values based on the photometric interpretation. If\n",
    "        # MONOCHROME2 (minimum should be displayed as black) we don't need to\n",
    "        # do anything, if image has MONOCRHOME1 (minimum should be displayed as\n",
    "        # white) we flip # the intensities. This is a constraint imposed by ITK\n",
    "        # which always assumes MONOCHROME2.\n",
    "        if image.GetNumberOfComponentsPerPixel() == 1:\n",
    "            image = sitk.RescaleIntensity(image, 0, 255)\n",
    "            if image_file_reader.GetMetaData(\"0028|0004\").strip() == \"MONOCHROME1\":\n",
    "                image = sitk.InvertIntensity(image, maximum=255)\n",
    "            image = sitk.Cast(image, sitk.sitkUInt8)\n",
    "        sitk.WriteImage(image, output_file_name)\n",
    "        return True\n",
    "    except RuntimeError as e:\n",
    "        print(e)\n",
    "        return False\n",
    "\n",
    "\n",
    "def convert_images(input_file_names, output_file_names, new_width):\n",
    "    \"\"\" Convert multiple DICOM images in parallel to a common image type. \"\"\"\n",
    "    MAX_PROCESSES = 15\n",
    "    with multiprocessing.Pool(processes=MAX_PROCESSES) as pool:\n",
    "        return pool.starmap(\n",
    "            functools.partial(convert_image, new_width=new_width),\n",
    "            zip(input_file_names, output_file_names),\n",
    "        )\n",
    "\n",
    "\n",
    "def positive_int(int_str):\n",
    "    \"\"\" Custom argparse type for positive integers. \"\"\"\n",
    "    value = int(int_str)\n",
    "    if value <= 0:\n",
    "        raise argparse.ArgumentTypeError(int_str + \" is not a positive integer value\")\n",
    "    return value\n",
    "\n",
    "\n",
    "def directory(dir_name):\n",
    "    \"\"\" Custom argparse type for directory. \"\"\"\n",
    "    if not os.path.isdir(dir_name):\n",
    "        raise argparse.ArgumentTypeError(dir_name + \" is not a valid directory name\")\n",
    "    return dir_name\n",
    "\n",
    "\n",
    "def main(argv=None):\n",
    "    \"\"\" Main function. \"\"\"\n",
    "    parser = argparse.ArgumentParser(\n",
    "        description=\"Convert and resize DICOM files to common image types.\"\n",
    "    )\n",
    "    parser.add_argument(\n",
    "        \"root_of_data_directory\",\n",
    "        type=directory,\n",
    "        help=\"Path to the topmost directory containing data.\",\n",
    "    )\n",
    "    parser.add_argument(\n",
    "        \"output_file_extension\",\n",
    "        help=\"Image file extension, this determines output file type \" \"(e.g. png) .\",\n",
    "    )\n",
    "    parser.add_argument(\"--w\", type=positive_int, help=\"Width of converted images.\")\n",
    "    parser.add_argument(\"--od\", type=directory, help=\"Output directory.\")\n",
    "    args = parser.parse_args(argv)\n",
    "\n",
    "    input_file_names = []\n",
    "    for dir_name, _, file_names in os.walk(args.root_of_data_directory):\n",
    "        input_file_names += [\n",
    "            os.path.join(os.path.abspath(dir_name), fname) for fname in file_names\n",
    "        ]\n",
    "    if args.od:\n",
    "        # if all output files are written to the same directory we need them\n",
    "        # to have a unique name, so use an index.\n",
    "        file_names = [\n",
    "            os.path.join(os.path.abspath(args.od), str(i))\n",
    "            for i in range(len(input_file_names))\n",
    "        ]\n",
    "    else:\n",
    "        file_names = input_file_names\n",
    "    output_file_names = [\n",
    "        file_name + \".\" + args.output_file_extension for file_name in file_names\n",
    "    ]\n",
    "\n",
    "    res = convert_images(input_file_names, output_file_names, args.w)\n",
    "    input_file_names = list(itertools.compress(input_file_names, res))\n",
    "    output_file_names = list(itertools.compress(output_file_names, res))\n",
    "\n",
    "    # save csv file mapping input and output file names.\n",
    "    # using csv module and not pandas so as not to create more dependencies\n",
    "    # for the examples. pandas based code is more elegant/shorter.\n",
    "    dir_name = args.od if args.od else os.getcwd()\n",
    "    with open(os.path.join(dir_name, \"file_names.csv\"), mode=\"w\", encoding='utf-8') as fp:\n",
    "        fp_writer = csv.writer(\n",
    "            fp, delimiter=\",\", quotechar='\"', quoting=csv.QUOTE_MINIMAL\n",
    "        )\n",
    "        fp_writer.writerow([\"input file name\", \"output file name\"])\n",
    "        for data in zip(input_file_names, output_file_names):\n",
    "            fp_writer.writerow(data)\n",
    "\n",
    "\n",
    "\n",
    "convert_image(\"./in/SEG_20240507_121615_030_S6.dcm\", './seg.nii', new_width=None)"
   ]
  },
  {
   "cell_type": "code",
   "execution_count": 4,
   "metadata": {},
   "outputs": [
    {
     "name": "stdout",
     "output_type": "stream",
     "text": [
      "(0008|0008) = = \"DERIVED\\PRIMARY \"\n",
      "(0008|0016) = = \"1.2.840.10008.5.1.4.1.1.66.4\"\n",
      "(0008|0018) = = \"2.25.945894488964878615568549078137573714889\"\n",
      "(0008|0020) = = \"20120920\"\n",
      "(0008|0021) = = \"20240507\"\n",
      "(0008|0023) = = \"20240507\"\n",
      "(0008|0030) = = \"\"\n",
      "(0008|0031) = = \"121620\"\n",
      "(0008|0033) = = \"121620\"\n",
      "(0008|0050) = = \"\"\n",
      "(0008|0060) = = \"SEG \"\n",
      "(0008|0070) = = \"ICR \"\n",
      "(0008|0090) = = \"\"\n",
      "(0008|103e) = = \"FH_ET \"\n",
      "(0008|1090) = = \"XNAT-OHIF-VIEWER\"\n",
      "(0010|0010) = = \"\"\n",
      "(0010|0020) = = \"\"\n",
      "(0010|0030) = = \"\"\n",
      "(0010|0040) = = \"\"\n",
      "(0010|1010) = = \"\"\n",
      "(0018|1000) = = \"1 \"\n",
      "(0018|1020) = = \"3.4.1 \"\n",
      "(0018|9004) = = \"RESEARCH\"\n",
      "(0020|000d) = = \"2.25.159702042684316084112504011909566489793\"\n",
      "(0020|000e) = = \"2.25.320496192564362276577358453783751916420\"\n",
      "(0020|0010) = = \"2.25.302288137327796363342940126751124909674\"\n",
      "(0020|0011) = = \"99\"\n",
      "(0020|0013) = = \"1 \"\n",
      "(0020|0052) = = \"2.25.95477689593731099410504450315468431284\"\n",
      "(0020|1040) = = \"\"\n",
      "(0020|4000) = = \"NOT FOR CLINICAL USE\"\n",
      "(0028|0002) = = \"1\"\n",
      "(0028|0004) = = \"MONOCHROME2 \"\n",
      "(0028|0008) = = \"12\"\n",
      "(0028|0010) = = \"512\"\n",
      "(0028|0011) = = \"512\"\n",
      "(0028|0100) = = \"1\"\n",
      "(0028|0101) = = \"1\"\n",
      "(0028|0102) = = \"0\"\n",
      "(0028|0103) = = \"0\"\n",
      "(0028|2110) = = \"00\"\n",
      "(0062|0001) = = \"BINARY\"\n",
      "(0070|0080) = = \"SEGMENTATION\"\n",
      "(0070|0081) = = \"\"\n",
      "(0070|0084) = = \"\"\n",
      "Image Size: (512, 512, 12)\n",
      "Image PixelType: 8-bit unsigned integer\n"
     ]
    }
   ],
   "source": [
    "import sys\n",
    "import SimpleITK as sitk\n",
    "\n",
    "def main(args):\n",
    "    \"\"\" A SimpleITK script that prints a DICOM image's tags. \"\"\"\n",
    "    if len(args) < 2:\n",
    "        print(\"Usage: DicomImagePrintTags <input_file>\")\n",
    "        sys.exit(1)\n",
    "\n",
    "    reader = sitk.ImageFileReader()\n",
    "\n",
    "    reader.SetFileName(args[1])\n",
    "    reader.LoadPrivateTagsOn()\n",
    "\n",
    "    reader.ReadImageInformation()\n",
    "    reader.\n",
    "\n",
    "    for k in reader.GetMetaDataKeys():\n",
    "        v = reader.GetMetaData(k)\n",
    "        print(f'({k}) = = \"{v}\"')\n",
    "\n",
    "    print(f\"Image Size: {reader.GetSize()}\")\n",
    "    print(f\"Image PixelType: {sitk.GetPixelIDValueAsString(reader.GetPixelID())}\")\n",
    "\n",
    "main(['bs','./in/SEG_20240507_121615_030_S6.dcm'])"
   ]
  },
  {
   "cell_type": "code",
   "execution_count": 27,
   "metadata": {},
   "outputs": [
    {
     "name": "stdout",
     "output_type": "stream",
     "text": [
      "Image Metadata:\n",
      "[[-4.29006040e-01 -2.30409000e-02  1.21999599e-01  1.16505997e+02]\n",
      " [ 2.22935230e-02 -4.27600890e-01 -5.45998216e-01  1.26185997e+02]\n",
      " [ 9.94029269e-03 -3.56170125e-02  6.47587872e+00 -6.69872971e+01]\n",
      " [ 0.00000000e+00  0.00000000e+00  0.00000000e+00  1.00000000e+00]]\n",
      "Mask Metadata:\n",
      "[[-9.98385906e-01 -5.36209121e-02  1.87197290e-02  1.17844002e+02]\n",
      " [ 5.18703535e-02 -9.95115280e-01 -8.39947015e-02  1.20181000e+02]\n",
      " [ 2.31321603e-02 -8.28881189e-02  9.96290326e-01  4.24744987e+00]\n",
      " [ 0.00000000e+00  0.00000000e+00  0.00000000e+00  1.00000000e+00]]\n",
      "NII Metadata:\n",
      "[[-4.29006130e-01  2.30409056e-02  1.21678233e-01  1.05340096e+02]\n",
      " [ 2.22935714e-02  4.27601010e-01 -5.45965493e-01 -9.50481186e+01]\n",
      " [ 9.94029455e-03  3.56170237e-02  6.47588634e+00 -5.28081970e+01]\n",
      " [ 0.00000000e+00  0.00000000e+00  0.00000000e+00  1.00000000e+00]]\n"
     ]
    }
   ],
   "source": [
    "import nibabel as nib\n",
    "\n",
    "img = nib.load(\"AXIAL_T2_FLAIR.nii.gz\")\n",
    "mask = nib.load(\"seg.nii\")\n",
    "nii = nib.load(\"in/in_FH_ET_20120920000000_99.nii.gz\")\n",
    "\n",
    "print(\"Image Metadata:\")\n",
    "print(img.affine)\n",
    "print(\"Mask Metadata:\")\n",
    "print(mask.affine)\n",
    "print(\"NII Metadata:\")\n",
    "print(nii.affine)"
   ]
  },
  {
   "cell_type": "code",
   "execution_count": 7,
   "metadata": {},
   "outputs": [],
   "source": [
    "import SimpleITK as sitk\n",
    "\n",
    "# Read image and mask\n",
    "image = sitk.ReadImage(\"AXIAL_T2_FLAIR.nii.gz\")\n",
    "mask = sitk.ReadImage(\"seg.nii\")\n",
    "\n",
    "# Resample the mask to match the image\n",
    "resampler = sitk.ResampleImageFilter()\n",
    "resampler.SetReferenceImage(image)\n",
    "resampler.SetInterpolator(sitk.sitkNearestNeighbor)  # Use nearest neighbor for masks\n",
    "resampled_mask = resampler.Execute(mask)\n",
    "\n",
    "# Save the aligned mask\n",
    "sitk.WriteImage(resampled_mask, \"aligned_mask.nii.gz\")"
   ]
  },
  {
   "cell_type": "code",
   "execution_count": null,
   "metadata": {},
   "outputs": [
    {
     "ename": "IndexError",
     "evalue": "too many indices for array: array is 1-dimensional, but 2 were indexed",
     "output_type": "error",
     "traceback": [
      "\u001b[0;31m---------------------------------------------------------------------------\u001b[0m",
      "\u001b[0;31mIndexError\u001b[0m                                Traceback (most recent call last)",
      "Cell \u001b[0;32mIn[1], line 60\u001b[0m\n\u001b[1;32m     58\u001b[0m \u001b[38;5;28;01mimport\u001b[39;00m\u001b[38;5;250m \u001b[39m\u001b[38;5;21;01mpydicom\u001b[39;00m\n\u001b[1;32m     59\u001b[0m ds \u001b[38;5;241m=\u001b[39m pydicom\u001b[38;5;241m.\u001b[39mdcmread(\u001b[38;5;124m\"\u001b[39m\u001b[38;5;124min/SEG_20240507_121548_916_S9.dcm\u001b[39m\u001b[38;5;124m\"\u001b[39m)\n\u001b[0;32m---> 60\u001b[0m \u001b[43mcreate_affine\u001b[49m\u001b[43m(\u001b[49m\u001b[43mnp\u001b[49m\u001b[38;5;241;43m.\u001b[39;49m\u001b[43marray\u001b[49m\u001b[43m(\u001b[49m\u001b[43mds\u001b[49m\u001b[38;5;241;43m.\u001b[39;49m\u001b[43mPerFrameFunctionalGroupsSequence\u001b[49m\u001b[43m[\u001b[49m\u001b[38;5;241;43m0\u001b[39;49m\u001b[43m]\u001b[49m\u001b[38;5;241;43m.\u001b[39;49m\u001b[43mPlanePositionSequence\u001b[49m\u001b[43m[\u001b[49m\u001b[38;5;241;43m0\u001b[39;49m\u001b[43m]\u001b[49m\u001b[38;5;241;43m.\u001b[39;49m\u001b[43mImagePositionPatient\u001b[49m\u001b[43m)\u001b[49m\u001b[43m,\u001b[49m\u001b[43m \u001b[49m\u001b[43mds\u001b[49m\u001b[38;5;241;43m.\u001b[39;49m\u001b[43mSharedFunctionalGroupsSequence\u001b[49m\u001b[43m[\u001b[49m\u001b[38;5;241;43m0\u001b[39;49m\u001b[43m]\u001b[49m\u001b[38;5;241;43m.\u001b[39;49m\u001b[43mPlaneOrientationSequence\u001b[49m\u001b[43m[\u001b[49m\u001b[38;5;241;43m0\u001b[39;49m\u001b[43m]\u001b[49m\u001b[38;5;241;43m.\u001b[39;49m\u001b[43mImageOrientationPatient\u001b[49m\u001b[43m,\u001b[49m\u001b[43m \u001b[49m\u001b[38;5;241;43m22\u001b[39;49m\u001b[43m)\u001b[49m\n",
      "Cell \u001b[0;32mIn[1], line 17\u001b[0m, in \u001b[0;36mcreate_affine\u001b[0;34m(ipp, iop, ps)\u001b[0m\n\u001b[1;32m     15\u001b[0m \u001b[38;5;66;03m# round small values to zero\u001b[39;00m\n\u001b[1;32m     16\u001b[0m x[(np\u001b[38;5;241m.\u001b[39mabs(x) \u001b[38;5;241m<\u001b[39m \u001b[38;5;241m1e-6\u001b[39m)] \u001b[38;5;241m=\u001b[39m \u001b[38;5;241m0.0\u001b[39m\n\u001b[0;32m---> 17\u001b[0m vec \u001b[38;5;241m=\u001b[39m \u001b[43mx\u001b[49m\u001b[43m[\u001b[49m\u001b[38;5;241;43m0\u001b[39;49m\u001b[43m,\u001b[49m\u001b[43m:\u001b[49m\u001b[43m]\u001b[49m \u001b[38;5;66;03m# slope\u001b[39;00m\n\u001b[1;32m     18\u001b[0m pos \u001b[38;5;241m=\u001b[39m x[\u001b[38;5;241m1\u001b[39m,:] \u001b[38;5;66;03m# intercept\u001b[39;00m\n\u001b[1;32m     20\u001b[0m \u001b[38;5;66;03m# pixel spacing should be the same for all image\u001b[39;00m\n",
      "\u001b[0;31mIndexError\u001b[0m: too many indices for array: array is 1-dimensional, but 2 were indexed"
     ]
    }
   ],
   "source": [
    "import numpy as np\n",
    "def create_affine(ipp, iop, ps):\n",
    "    \"\"\"Generate an affine matrix from DICOM IPP and IOP attributes.\n",
    "    The ipp (ImagePositionPatient) parameter should an Nx3 array, and\n",
    "    the iop (ImageOrientationPatient) parameter should be Nx6, where\n",
    "    N is the number of DICOM slices in the series.\n",
    "    The return values are the affine matrix and the pixdim.\n",
    "    Note the the output will use DICOM anatomical coordinates:\n",
    "    x increases towards the left, y increases towards the back.\n",
    "    \"\"\"\n",
    "    # solve Ax = b where x is slope, intecept\n",
    "    n = ipp.shape[0]\n",
    "    A = np.column_stack([np.arange(n), np.ones(n)])\n",
    "    x, r, rank, s = np.linalg.lstsq(A, ipp, rcond=None)\n",
    "    # round small values to zero\n",
    "    x[(np.abs(x) < 1e-6)] = 0.0\n",
    "    vec = x[0,:] # slope\n",
    "    pos = x[1,:] # intercept\n",
    "\n",
    "    # pixel spacing should be the same for all image\n",
    "    spacing = np.ones(3)\n",
    "    spacing[1::-1] = ps[0,:]\n",
    "    if np.sum(np.abs(ps - spacing[1::-1])) > spacing[0]*1e-6:\n",
    "        sys.stderr.write(\"Pixel spacing is inconsistent!\\n\");\n",
    "\n",
    "    # compute slice spacing, round to 7 decimal places\n",
    "    spacing[2] = np.round(np.sqrt(np.sum(np.square(vec))), 7)\n",
    "\n",
    "    # get the orientation\n",
    "    iop_average = np.mean(iop, axis=0)\n",
    "    u = iop_average[0:3]\n",
    "    u /= np.sqrt(np.sum(np.square(u)))\n",
    "    v = iop_average[3:6]\n",
    "    v /= np.sqrt(np.sum(np.square(v)))\n",
    "\n",
    "    # round small values to zero\n",
    "    u[(np.abs(u) < 1e-6)] = 0.0\n",
    "    v[(np.abs(v) < 1e-6)] = 0.0\n",
    "\n",
    "    # create the matrix\n",
    "    mat = np.eye(4)\n",
    "    mat[0:3,0] = u*spacing[0]\n",
    "    mat[0:3,1] = v*spacing[1]\n",
    "    mat[0:3,2] = vec\n",
    "    mat[0:3,3] = pos\n",
    "\n",
    "    # check whether slice vec is orthogonal to iop vectors\n",
    "    dv = np.dot(vec, np.cross(u, v))\n",
    "    qfac = np.sign(dv)\n",
    "    if np.abs(qfac*dv - spacing[2]) > 1e-6:\n",
    "        sys.stderr.write(\"Non-orthogonal volume!\\n\");\n",
    "\n",
    "    # compute the pixdim array, with qfac as the first element\n",
    "    pixdim = np.hstack([np.array(qfac), spacing])\n",
    "\n",
    "    return mat, pixdim\n",
    "\n",
    "import pydicom\n",
    "ds = pydicom.dcmread(\"in/SEG_20240507_121548_916_S9.dcm\")\n",
    "create_affine(np.array(ds.PerFrameFunctionalGroupsSequence[0].PlanePositionSequence[0].ImagePositionPatient), ds.SharedFunctionalGroupsSequence[0].PlaneOrientationSequence[0].ImageOrientationPatient, 22)"
   ]
  },
  {
   "cell_type": "code",
   "execution_count": 2,
   "metadata": {},
   "outputs": [
    {
     "name": "stdout",
     "output_type": "stream",
     "text": [
      "(512, 512) [0]\n",
      "(512, 512) [0]\n",
      "(512, 512) [0]\n",
      "(512, 512) [0]\n",
      "(512, 512) [0]\n",
      "(512, 512) [0]\n",
      "(512, 512) [0]\n",
      "(512, 512) [0]\n",
      "(512, 512) [0]\n",
      "(512, 512) [0]\n",
      "(512, 512) [0 1]\n",
      "(512, 512) [0 1]\n",
      "(512, 512) [0 1]\n",
      "(512, 512) [0]\n",
      "(512, 512) [0 1]\n",
      "(512, 512) [0]\n",
      "(512, 512) [0]\n",
      "(512, 512) [0]\n",
      "(512, 512) [0]\n",
      "(512, 512) [0]\n",
      "(512, 512) [0]\n",
      "(512, 512) [0]\n"
     ]
    }
   ],
   "source": [
    "import numpy as np\n",
    "import highdicom\n",
    "from dcmseg2nii import format_nifti, write_nifti\n",
    "import SimpleITK as sitk\n",
    "nii = sitk.ReadImage('/Volumes/Siren/Brain_data/2.PatientDirectory/107/MRI/Processed_New/20120912_Mr_Brain_Wo+_W_Cont_Ss/T1C.nii.gz')\n",
    "ds = highdicom.seg.segread(\"in/SEG_20240507_121548_916_S9.dcm\")\n",
    "uids = [x[2] for x in ds.get_source_image_uids()]\n",
    "pixels = ds.get_pixels_by_source_instance(uids, segment_numbers=[1], ignore_spatial_locations=True, combine_segments=True)\n",
    "# pixels = pixels.transpose(1,2,0)\n",
    "# print(pixels.shape)\n",
    "# nifti = format_nifti(pixels, nii)\n",
    "# write_nifti(nifti, \"out.nii.gz\")\n",
    "for slice in pixels:\n",
    "    print(slice.shape, np.unique(slice))"
   ]
  },
  {
   "cell_type": "code",
   "execution_count": 22,
   "metadata": {},
   "outputs": [
    {
     "data": {
      "text/plain": [
       "[-118.453, -117.451, 36.6269]"
      ]
     },
     "execution_count": 22,
     "metadata": {},
     "output_type": "execute_result"
    }
   ],
   "source": [
    "ds.SharedFunctionalGroupsSequence[0].PlaneOrientationSequence[0].ImageOrientationPatient\n",
    "ds.PerFrameFunctionalGroupsSequence[0].PlanePositionSequence[0].ImagePositionPatient"
   ]
  },
  {
   "cell_type": "code",
   "execution_count": 3,
   "metadata": {},
   "outputs": [
    {
     "data": {
      "text/plain": [
       "False"
      ]
     },
     "execution_count": 3,
     "metadata": {},
     "output_type": "execute_result"
    }
   ],
   "source": [
    "import SimpleITK as sitk\n",
    "reader = sitk.ImageFileReader()\n",
    "reader.SetFileName(\"AXIAL_T2_FLAIR.nii.gz\")\n",
    "x: sitk.Image = reader.Execute()\n",
    "nii_out = sitk.Cast(x, sitk.sitkUInt8)\n",
    "x is nii_out"
   ]
  },
  {
   "cell_type": "code",
   "execution_count": 7,
   "metadata": {},
   "outputs": [
    {
     "data": {
      "text/plain": [
       "('ITK_FileNotes',\n",
       " 'ITK_original_direction',\n",
       " 'ITK_original_spacing',\n",
       " 'ITK_sform_corrected',\n",
       " 'aux_file',\n",
       " 'bitpix',\n",
       " 'cal_max',\n",
       " 'cal_min',\n",
       " 'datatype',\n",
       " 'descrip',\n",
       " 'dim[0]',\n",
       " 'dim[1]',\n",
       " 'dim[2]',\n",
       " 'dim[3]',\n",
       " 'dim[4]',\n",
       " 'dim[5]',\n",
       " 'dim[6]',\n",
       " 'dim[7]',\n",
       " 'dim_info',\n",
       " 'intent_code',\n",
       " 'intent_name',\n",
       " 'intent_p1',\n",
       " 'intent_p2',\n",
       " 'intent_p3',\n",
       " 'nifti_type',\n",
       " 'pixdim[0]',\n",
       " 'pixdim[1]',\n",
       " 'pixdim[2]',\n",
       " 'pixdim[3]',\n",
       " 'pixdim[4]',\n",
       " 'pixdim[5]',\n",
       " 'pixdim[6]',\n",
       " 'pixdim[7]',\n",
       " 'qfac',\n",
       " 'qform_code',\n",
       " 'qform_code_name',\n",
       " 'qoffset_x',\n",
       " 'qoffset_y',\n",
       " 'qoffset_z',\n",
       " 'qto_xyz',\n",
       " 'quatern_b',\n",
       " 'quatern_c',\n",
       " 'quatern_d',\n",
       " 'scl_inter',\n",
       " 'scl_slope',\n",
       " 'sform_code',\n",
       " 'sform_code_name',\n",
       " 'slice_code',\n",
       " 'slice_duration',\n",
       " 'slice_end',\n",
       " 'slice_start',\n",
       " 'srow_x',\n",
       " 'srow_y',\n",
       " 'srow_z',\n",
       " 'toffset',\n",
       " 'vox_offset',\n",
       " 'xyzt_units')"
      ]
     },
     "execution_count": 7,
     "metadata": {},
     "output_type": "execute_result"
    }
   ],
   "source": [
    "x.Copy"
   ]
  },
  {
   "cell_type": "code",
   "execution_count": null,
   "metadata": {},
   "outputs": [],
   "source": [
    "from pathlib import Path\n",
    "\n",
    "import highdicom as hd\n",
    "import numpy as np\n",
    "from pydicom.sr.codedict import codes\n",
    "from pydicom.filereader import dcmread\n",
    "\n",
    "# Path to directory containing single-frame legacy CT Image instances\n",
    "# stored as PS3.10 files\n",
    "series_dir = Path('path/to/series/directory')\n",
    "image_files = series_dir.glob('*.dcm')\n",
    "\n",
    "# Read CT Image data sets from PS3.10 files on disk\n",
    "image_datasets = [dcmread(str(f)) for f in image_files]\n",
    "\n",
    "# Create a binary segmentation mask\n",
    "mask = np.zeros(\n",
    "    shape=(\n",
    "        len(image_datasets),\n",
    "        image_datasets[0].Rows,\n",
    "        image_datasets[0].Columns\n",
    "    ),\n",
    "    dtype=np.bool\n",
    ")\n",
    "mask[1:-1, 10:-10, 100:-100] = True\n",
    "\n",
    "# Describe the algorithm that created the segmentation\n",
    "algorithm_identification = hd.AlgorithmIdentificationSequence(\n",
    "    name='test',\n",
    "    version='v1.0',\n",
    "    family=codes.cid7162.ArtificialIntelligence\n",
    ")\n",
    "\n",
    "# Describe the segment\n",
    "description_segment_1 = hd.seg.SegmentDescription(\n",
    "    segment_number=1,\n",
    "    segment_label='first segment',\n",
    "    segmented_property_category=codes.cid7150.Tissue,\n",
    "    segmented_property_type=codes.cid7166.ConnectiveTissue,\n",
    "    algorithm_type=hd.seg.SegmentAlgorithmTypeValues.AUTOMATIC,\n",
    "    algorithm_identification=algorithm_identification,\n",
    "    tracking_uid=hd.UID(),\n",
    "    tracking_id='test segmentation of computed tomography image'\n",
    ")\n",
    "\n",
    "# Create the Segmentation instance\n",
    "seg_dataset = hd.seg.Segmentation(\n",
    "    source_images=image_datasets,\n",
    "    pixel_array=mask,\n",
    "    segmentation_type=hd.seg.SegmentationTypeValues.BINARY,\n",
    "    segment_descriptions=[description_segment_1],\n",
    "    series_instance_uid=hd.UID(),\n",
    "    series_number=2,\n",
    "    sop_instance_uid=hd.UID(),\n",
    "    instance_number=1,\n",
    "    manufacturer='Manufacturer',\n",
    "    manufacturer_model_name='Model',\n",
    "    software_versions='v1',\n",
    "    device_serial_number='Device XYZ',\n",
    ").DimensionIndexSequence\n",
    "\n",
    "print(seg_dataset)\n",
    "\n",
    "seg_dataset.save_as(\"seg.dcm\")"
   ]
  },
  {
   "cell_type": "code",
   "execution_count": 17,
   "metadata": {},
   "outputs": [
    {
     "data": {
      "text/plain": [
       "('R', 'A', 'S')"
      ]
     },
     "execution_count": 17,
     "metadata": {},
     "output_type": "execute_result"
    }
   ],
   "source": [
    "import nibabel as nib\n",
    "nii = nib.load(\"/Volumes/Siren/Brain_data/1.PatientDirectory/158/MRI/Processed_New/20181030_Mr_Brain__Fh_Non_Org/3D_Flair_FS_11003_3D_Flair_FS_20181030131442_11003.nii.gz\")\n",
    "# nii = nib.load(\"/Volumes/Siren/Brain_data/1.PatientDirectory/150/MRI/Processed_New/20180328_MR_Brain/AX_FLAIR_AX_FLAIR_20180328084507_9a.nii.gz\")\n",
    "# nii = nib.load(\"/Volumes/Siren/Brain_data/1.PatientDirectory/158/MRI/Processed_New/20181030_Mr_Brain__Fh_Non_Org/FLAIR.nii.gz\")\n",
    "nib.aff2axcodes(nii.affine)"
   ]
  },
  {
   "cell_type": "code",
   "execution_count": 19,
   "metadata": {},
   "outputs": [
    {
     "data": {
      "text/plain": [
       "('L', 'P', 'S')"
      ]
     },
     "execution_count": 19,
     "metadata": {},
     "output_type": "execute_result"
    }
   ],
   "source": [
    "\n",
    "nii = nib.load(\"/Volumes/Siren/Brain_data/1.PatientDirectory/158/MRI/Processed_New/20181030_Mr_Brain__Fh_Non_Org/FLAIR.nii.gz\")\n",
    "nii.affine\n",
    "nib.aff2axcodes(nii.affine)"
   ]
  },
  {
   "cell_type": "code",
   "execution_count": 21,
   "metadata": {},
   "outputs": [
    {
     "data": {
      "text/plain": [
       "('R', 'A', 'S')"
      ]
     },
     "execution_count": 21,
     "metadata": {},
     "output_type": "execute_result"
    }
   ],
   "source": [
    "nii = nib.load(\"/Volumes/Siren/Brain_data/1.PatientDirectory/158/MRI/Processed_New/20181030_Mr_Brain__Fh_Non_Org/xnat/3D_Flair_FS_11003_3D_Flair_FS_20181030131442_11003_Edema.nii.gz\")\n",
    "nii.affine\n",
    "nib.aff2axcodes(nii.affine)"
   ]
  },
  {
   "cell_type": "code",
   "execution_count": 22,
   "metadata": {},
   "outputs": [
    {
     "data": {
      "text/plain": [
       "(332, 512, 52)"
      ]
     },
     "execution_count": 22,
     "metadata": {},
     "output_type": "execute_result"
    }
   ],
   "source": [
    "nii.get_fdata().shape"
   ]
  },
  {
   "cell_type": "code",
   "execution_count": 9,
   "metadata": {},
   "outputs": [
    {
     "data": {
      "text/plain": [
       "(512, 512, 8)"
      ]
     },
     "execution_count": 9,
     "metadata": {},
     "output_type": "execute_result"
    }
   ],
   "source": [
    "import SimpleITK as sitk\n",
    "import highdicom as hd\n",
    "import nibabel as nib\n",
    "from dcmseg2nii import get_affine_from_sitk\n",
    "# nib.aff2axcodes(get_affine_from_sitk(sitk.GetImageFromArray(hd.seg.segread('in/SEG_20240507_121615_030_S6.dcm'))))\n",
    "sitk.ReadImage('in/SEG_20240507_121548_916_S9.dcm').GetSize()"
   ]
  },
  {
   "cell_type": "code",
   "execution_count": null,
   "metadata": {},
   "outputs": [],
   "source": []
  }
 ],
 "metadata": {
  "kernelspec": {
   "display_name": ".venv (3.11.13)",
   "language": "python",
   "name": "python3"
  },
  "language_info": {
   "codemirror_mode": {
    "name": "ipython",
    "version": 3
   },
   "file_extension": ".py",
   "mimetype": "text/x-python",
   "name": "python",
   "nbconvert_exporter": "python",
   "pygments_lexer": "ipython3",
   "version": "3.11.13"
  }
 },
 "nbformat": 4,
 "nbformat_minor": 2
}
