{
 "cells": [
  {
   "cell_type": "code",
   "execution_count": null,
   "id": "076e7054",
   "metadata": {},
   "outputs": [],
   "source": [
    "import pydicom"
   ]
  },
  {
   "cell_type": "code",
   "execution_count": null,
   "id": "4e91a360",
   "metadata": {},
   "outputs": [],
   "source": [
    "pydicom.dcmread(\"./files/2.25.130320686061845719052479996342451170932-6-1-qr249j.dcm\")"
   ]
  },
  {
   "cell_type": "code",
   "execution_count": null,
   "id": "dde5fb44",
   "metadata": {},
   "outputs": [],
   "source": [
    "import os\n",
    "import numpy as np\n",
    "import pydicom\n",
    "import pydicom_seg\n",
    "import SimpleITK as sitk\n",
    "nifti_mask = \"./prostate_mask.nii.gz\"\n",
    "reference_dicoms = \"./files\"\n",
    "output_dcmseg = \"./pros_mask.dcm\"\n",
    "\n",
    "segmentation: sitk.Image = sitk.ReadImage(nifti_mask)\n",
    "segmentation = sitk.Cast(segmentation, sitk.sitkUInt8) \n",
    "print(np.unique(sitk.GetArrayFromImage(segmentation)))\n",
    "dicom_series_paths = [os.path.join(reference_dicoms, f) for f in os.listdir(reference_dicoms) if f.endswith('.dcm')]\n",
    "source_images = [\n",
    "    pydicom.dcmread(x, stop_before_pixels=True)\n",
    "    for x in dicom_series_paths\n",
    "]\n",
    "\n",
    "# fill missing ImagePositionPatient \n",
    "for source_image in source_images:\n",
    "    if 'ImagePositionPatient' not in source_image:\n",
    "        source_image.ImagePositionPatient = [0, 0, 0]\n",
    "\n",
    "template = pydicom_seg.template.from_dcmqi_metainfo('test.json')\n",
    "writer = pydicom_seg.MultiClassWriter(\n",
    "    template=template,\n",
    "    inplane_cropping=False,\n",
    "    skip_empty_slices=False,\n",
    "    skip_missing_segment=False\n",
    ")\n",
    "\n",
    "dcm = writer.write(segmentation, source_images)\n",
    "dcm.SegmentSequence[0].SegmentLabel = \"Prostate Mask\"\n",
    "dcm.PatientComments = \"Project:PROSTATE Subject:101 Session:101_20141111_mr\"\n",
    "dcm.save_as('out/pros_mask.dcm')"
   ]
  },
  {
   "cell_type": "code",
   "execution_count": null,
   "id": "ac06f3c6",
   "metadata": {},
   "outputs": [],
   "source": []
  },
  {
   "cell_type": "code",
   "execution_count": null,
   "id": "13e3f0dc",
   "metadata": {},
   "outputs": [],
   "source": []
  }
 ],
 "metadata": {
  "kernelspec": {
   "display_name": ".venv (3.12.11)",
   "language": "python",
   "name": "python3"
  },
  "language_info": {
   "codemirror_mode": {
    "name": "ipython",
    "version": 3
   },
   "file_extension": ".py",
   "mimetype": "text/x-python",
   "name": "python",
   "nbconvert_exporter": "python",
   "pygments_lexer": "ipython3",
   "version": "3.12.11"
  }
 },
 "nbformat": 4,
 "nbformat_minor": 5
}
